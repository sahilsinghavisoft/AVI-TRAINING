{
 "cells": [
  {
   "cell_type": "markdown",
   "metadata": {},
   "source": [
    "1. Write a Python script to display the various Date Time formats -\n",
    "a) Current date and time\n",
    "b) Current year\n",
    "c) Month of year\n",
    "d) Week number of the year\n",
    "e) Weekday of the week\n",
    "f) Day of year\n",
    "g) Day of the month\n",
    "h) Day of week"
   ]
  },
  {
   "cell_type": "code",
   "execution_count": 27,
   "metadata": {},
   "outputs": [
    {
     "name": "stdout",
     "output_type": "stream",
     "text": [
      "current_date_time:  2024-02-05 11:22:09.270153\n",
      "current_year :  2024-02-05\n",
      "month of the year:  February\n",
      "week number of the year:  05\n",
      "weekday of the week:  Monday\n",
      "day of year : 036\n",
      "day of the month:  05\n",
      "day of the week 1\n"
     ]
    }
   ],
   "source": [
    "#a)\n",
    "import datetime\n",
    "current_date_time=datetime.datetime.now()\n",
    "print(\"current_date_time: \",current_date_time)\n",
    "#b)\n",
    "current_year=datetime.date.today()\n",
    "print(\"current_year : \",current_year)\n",
    "#c)\n",
    "monthofYear=current_date_time.strftime(\"%B\")\n",
    "print(\"month of the year: \",monthofYear)\n",
    "#d)\n",
    "weeknumberofyear=current_date_time.strftime(\"%U\")\n",
    "print(\"week number of the year: \",weeknumberofyear)\n",
    "#e)\n",
    "weekdayoftheweek=current_date_time.strftime(\"%A\")\n",
    "print(\"weekday of the week: \",weekdayoftheweek)\n",
    "#f)\n",
    "dayofyear=current_date_time.strftime(\"%j\")\n",
    "print(\"day of year :\",dayofyear)\n",
    "#g}\n",
    "dayofmonth=current_date_time.strftime(\"%d\")\n",
    "print(\"day of the month: \",dayofmonth)\n",
    "\n",
    "#h)\n",
    "dayofweek=current_date_time.strftime(\"%w\")\n",
    "print(\"day of the week\",dayofweek)\n"
   ]
  },
  {
   "cell_type": "markdown",
   "metadata": {},
   "source": [
    "2.Write a Python program to subtract five days from the current date.\n",
    "Sample Date :\n",
    "Current Date : 2015-06-22\n",
    "5 days before Current Date : 2015-06-17\n"
   ]
  },
  {
   "cell_type": "code",
   "execution_count": 20,
   "metadata": {},
   "outputs": [
    {
     "name": "stdout",
     "output_type": "stream",
     "text": [
      "2024-01-31\n"
     ]
    }
   ],
   "source": [
    "today=datetime.date.today()\n",
    "tdelta=datetime.timedelta(days=5)\n",
    "print(today-tdelta)\n",
    "\n"
   ]
  },
  {
   "cell_type": "markdown",
   "metadata": {},
   "source": [
    "3.Write a Python program to calculate the number of days between two date times."
   ]
  },
  {
   "cell_type": "code",
   "execution_count": 1,
   "metadata": {},
   "outputs": [
    {
     "name": "stdout",
     "output_type": "stream",
     "text": [
      "-13 days, 11:36:30\n"
     ]
    }
   ],
   "source": [
    "import datetime\n",
    "x=datetime.datetime.strptime(\"24-01-2024 00:00:00\",\"%d-%m-%Y %H:%M:%S\")\n",
    "y=datetime.datetime.strptime(\"05-02-2024 12:23:30\",\"%d-%m-%Y %H:%M:%S\")\n",
    "tdelta=x-y\n",
    "print(tdelta)\n"
   ]
  },
  {
   "cell_type": "markdown",
   "metadata": {},
   "source": [
    "4.Write a Python program to read an entire text file.\n"
   ]
  },
  {
   "cell_type": "code",
   "execution_count": 3,
   "metadata": {},
   "outputs": [
    {
     "name": "stdout",
     "output_type": "stream",
     "text": [
      "file created succesfullyexample.txt\n"
     ]
    }
   ],
   "source": [
    "filepath=\"example.txt\"\n",
    "content=\"\"\"Jujutsu Kaisen is an anime television series based on the manga series of the same name by Gege Akutami.\n",
    " The series adaptation was announced in the 52nd issue of Weekly Shōnen Jump published on November 25, 2019.\n",
    " [1]On February 12, 2022, a second season was announced.\n",
    " [2] Shōta Goshozono replaced Sunghoo Park as series director, with Sayaka Koiso and Tadashi Hiramatsu designing the characters and Yoshimasa Terui returning as the sole composer.\n",
    "[3] It aired from July 6 to December 28, 2023. \"\"\"\n",
    "with open(filepath,\"w\") as file:\n",
    "    file.write(content)\n",
    "    \n",
    "print(f\"file created succesfully{filepath}\")"
   ]
  },
  {
   "cell_type": "code",
   "execution_count": 4,
   "metadata": {},
   "outputs": [
    {
     "name": "stdout",
     "output_type": "stream",
     "text": [
      "Jujutsu Kaisen is an anime television series based on the manga series of the same name by Gege Akutami.\n",
      " The series adaptation was announced in the 52nd issue of Weekly Shōnen Jump published on November 25, 2019.\n",
      " [1]On February 12, 2022, a second season was announced.\n",
      " [2] Shōta Goshozono replaced Sunghoo Park as series director, with Sayaka Koiso and Tadashi Hiramatsu designing the characters and Yoshimasa Terui returning as the sole composer.\n",
      "[3] It aired from July 6 to December 28, 2023. \n"
     ]
    }
   ],
   "source": [
    "with open(\"example.txt\",\"r\") as file:\n",
    "    content1=file.read()\n",
    "print(content1)"
   ]
  },
  {
   "cell_type": "markdown",
   "metadata": {},
   "source": [
    "5.Write a Python program to read first n lines of a file."
   ]
  },
  {
   "cell_type": "code",
   "execution_count": 6,
   "metadata": {},
   "outputs": [
    {
     "name": "stdout",
     "output_type": "stream",
     "text": [
      "Jujutsu Kaisen is an anime television series based on the manga series of the same name by Gege Akutami.\n",
      "The series adaptation was announced in the 52nd issue of Weekly Shōnen Jump published on November 25, 2019.\n",
      "[1]On February 12, 2022, a second season was announced.\n",
      "[2] Shōta Goshozono replaced Sunghoo Park as series director, with Sayaka Koiso and Tadashi Hiramatsu designing the characters and Yoshimasa Terui returning as the sole composer.\n"
     ]
    }
   ],
   "source": [
    "n=4\n",
    "with open(\"example.txt\",\"r\") as file:\n",
    "    \n",
    "    for i in range(n):\n",
    "        line=file.readline()\n",
    "        if not line:\n",
    "            break\n",
    "        print(line.strip())"
   ]
  },
  {
   "cell_type": "markdown",
   "metadata": {},
   "source": [
    "6.Write a Python program to read last n lines of a file.\n"
   ]
  },
  {
   "cell_type": "code",
   "execution_count": 9,
   "metadata": {},
   "outputs": [
    {
     "name": "stdout",
     "output_type": "stream",
     "text": [
      "[3] It aired from July 6 to December 28, 2023.\n"
     ]
    }
   ],
   "source": [
    "n=1\n",
    "with open(\"example.txt\",\"r\") as file:\n",
    "\n",
    "        lines=file.readlines()\n",
    "        start_index = max(0, len(lines) - n)\n",
    "        for line in lines[start_index:]:\n",
    "            print(line.strip())"
   ]
  },
  {
   "cell_type": "markdown",
   "metadata": {},
   "source": [
    "7.Write a Python program to get the file size of a plain file."
   ]
  },
  {
   "cell_type": "code",
   "execution_count": 10,
   "metadata": {},
   "outputs": [
    {
     "name": "stdout",
     "output_type": "stream",
     "text": [
      "500\n"
     ]
    }
   ],
   "source": [
    "import os\n",
    "file_size=os.path.getsize(\"example.txt\")\n",
    "print(file_size)"
   ]
  },
  {
   "cell_type": "markdown",
   "metadata": {},
   "source": [
    "8.Write a Python program that takes a text file as input and returns the number of words of a given text file.\n",
    "Note: Some words can be separated by a comma with no space."
   ]
  },
  {
   "cell_type": "code",
   "execution_count": 32,
   "metadata": {},
   "outputs": [
    {
     "name": "stdout",
     "output_type": "stream",
     "text": [
      "4\n"
     ]
    }
   ],
   "source": [
    "filepath=\"example.1txt\"\n",
    "content=input((\"enter the words: \"))\n",
    "with open(filepath,\"w\") as file:\n",
    "    file.write(content)\n",
    "with open(filepath,\"r\") as file:\n",
    "    cont=file.read()\n",
    "    word=cont.replace(',',' ').split()\n",
    "    print(len(word))"
   ]
  },
  {
   "cell_type": "markdown",
   "metadata": {},
   "source": [
    "9.Write a Python program to generate 26 text files named A.txt, B.txt, and so on up to Z.txt.\n"
   ]
  },
  {
   "cell_type": "code",
   "execution_count": 7,
   "metadata": {},
   "outputs": [
    {
     "name": "stdout",
     "output_type": "stream",
     "text": [
      "<_io.TextIOWrapper name='A.txt' mode='w' encoding='UTF-8'>\n",
      "<_io.TextIOWrapper name='B.txt' mode='w' encoding='UTF-8'>\n",
      "<_io.TextIOWrapper name='C.txt' mode='w' encoding='UTF-8'>\n",
      "<_io.TextIOWrapper name='D.txt' mode='w' encoding='UTF-8'>\n",
      "<_io.TextIOWrapper name='E.txt' mode='w' encoding='UTF-8'>\n",
      "<_io.TextIOWrapper name='F.txt' mode='w' encoding='UTF-8'>\n",
      "<_io.TextIOWrapper name='G.txt' mode='w' encoding='UTF-8'>\n",
      "<_io.TextIOWrapper name='H.txt' mode='w' encoding='UTF-8'>\n",
      "<_io.TextIOWrapper name='I.txt' mode='w' encoding='UTF-8'>\n",
      "<_io.TextIOWrapper name='J.txt' mode='w' encoding='UTF-8'>\n",
      "<_io.TextIOWrapper name='K.txt' mode='w' encoding='UTF-8'>\n",
      "<_io.TextIOWrapper name='L.txt' mode='w' encoding='UTF-8'>\n",
      "<_io.TextIOWrapper name='M.txt' mode='w' encoding='UTF-8'>\n",
      "<_io.TextIOWrapper name='N.txt' mode='w' encoding='UTF-8'>\n",
      "<_io.TextIOWrapper name='O.txt' mode='w' encoding='UTF-8'>\n",
      "<_io.TextIOWrapper name='P.txt' mode='w' encoding='UTF-8'>\n",
      "<_io.TextIOWrapper name='Q.txt' mode='w' encoding='UTF-8'>\n",
      "<_io.TextIOWrapper name='R.txt' mode='w' encoding='UTF-8'>\n",
      "<_io.TextIOWrapper name='S.txt' mode='w' encoding='UTF-8'>\n",
      "<_io.TextIOWrapper name='T.txt' mode='w' encoding='UTF-8'>\n",
      "<_io.TextIOWrapper name='U.txt' mode='w' encoding='UTF-8'>\n",
      "<_io.TextIOWrapper name='V.txt' mode='w' encoding='UTF-8'>\n",
      "<_io.TextIOWrapper name='W.txt' mode='w' encoding='UTF-8'>\n",
      "<_io.TextIOWrapper name='X.txt' mode='w' encoding='UTF-8'>\n",
      "<_io.TextIOWrapper name='Y.txt' mode='w' encoding='UTF-8'>\n",
      "<_io.TextIOWrapper name='Z.txt' mode='w' encoding='UTF-8'>\n"
     ]
    }
   ],
   "source": [
    "import string\n",
    "for letter in string.ascii_uppercase:\n",
    "    file_name=f\"{letter}.txt\"\n",
    "    with open(file_name,\"w\") as file:\n",
    "        file.write(f\"this is the content of {file_name}:\")\n",
    "        print(file)\n"
   ]
  },
  {
   "cell_type": "markdown",
   "metadata": {},
   "source": [
    "10.Write a Python program to read each row from a given csv file and print a list of strings.\n"
   ]
  },
  {
   "cell_type": "code",
   "execution_count": 33,
   "metadata": {},
   "outputs": [
    {
     "name": "stdout",
     "output_type": "stream",
     "text": [
      "['Name', 'Age', 'City']\n",
      "['John Doe', '30', 'New York']\n",
      "['Jane Smith', '25', 'San Francisco']\n",
      "['Bob Johnson', '35', 'Los Angeles']\n"
     ]
    }
   ],
   "source": [
    "import csv\n",
    "csv_file_path = 'data.csv'\n",
    "data = [\n",
    "    ['Name', 'Age', 'City'],\n",
    "    ['John Doe', 30, 'New York'],\n",
    "    ['Jane Smith', 25, 'San Francisco'],\n",
    "    ['Bob Johnson', 35, 'Los Angeles'],\n",
    "]\n",
    "with open(csv_file_path, 'w', newline='') as csvfile:\n",
    "    csv_writer = csv.writer(csvfile)\n",
    "    csv_writer.writerows(data)\n",
    "\n",
    "with open(csv_file_path,'r',newline='') as file:\n",
    "    csv_reader=csv.reader(file)\n",
    "    for row in csv_reader:\n",
    "        print(row)\n"
   ]
  },
  {
   "cell_type": "markdown",
   "metadata": {},
   "source": [
    "11.Write a Python program to read a given CSV file having tab delimiter."
   ]
  },
  {
   "cell_type": "code",
   "execution_count": 22,
   "metadata": {},
   "outputs": [
    {
     "name": "stdout",
     "output_type": "stream",
     "text": [
      "['Name,Age,City']\n",
      "['John Doe,30,New York']\n",
      "['Jane Smith,25,San Francisco']\n",
      "['Bob Johnson,35,Los Angeles']\n"
     ]
    }
   ],
   "source": [
    "with open(csv_file_path,'r',newline='') as file:\n",
    "    csv_reader=csv.reader(file, delimiter='\\t')\n",
    "    for row in csv_reader:\n",
    "        print(row)"
   ]
  },
  {
   "cell_type": "markdown",
   "metadata": {},
   "source": [
    "12.Write a Python program that reads a CSV file and remove initial spaces, quotes around each entry and the delimiter.\n"
   ]
  },
  {
   "cell_type": "code",
   "execution_count": 31,
   "metadata": {},
   "outputs": [
    {
     "name": "stdout",
     "output_type": "stream",
     "text": [
      "['Name', 'Age', 'City']\n",
      "['John Doe', '30', 'New York']\n",
      "['Jane Smith', '25', 'San Francisco']\n",
      "['Bob Johnson', '35', 'Los Angeles']\n"
     ]
    }
   ],
   "source": [
    "\n",
    "with open(csv_file_path,'r',newline='') as file:\n",
    "    csv_reader=csv.reader(file)\n",
    "    cleaned_data = [[entry.strip().strip('\"') for entry in row] for row in csv_reader]\n",
    "    for row in cleaned_data:\n",
    "        print(row)"
   ]
  },
  {
   "cell_type": "markdown",
   "metadata": {},
   "source": [
    "13.Write a Python program to read specific columns of a given CSV file and print the content of the columns.\n"
   ]
  },
  {
   "cell_type": "code",
   "execution_count": 30,
   "metadata": {},
   "outputs": [
    {
     "name": "stdout",
     "output_type": "stream",
     "text": [
      "['Name', 'Age', 'City']\n",
      "['John Doe', '30', 'New York']\n",
      "['Jane Smith', '25', 'San Francisco']\n",
      "['Bob Johnson', '35', 'Los Angeles']\n"
     ]
    }
   ],
   "source": [
    "columns_to_read=[0,1,2]\n",
    "with open(csv_file_path,'r',newline='') as file:\n",
    "    csv_reader=csv.reader(file)\n",
    "    for row in csv_reader:\n",
    "        selected_column=[row[i] for i in columns_to_read]\n",
    "        print(selected_column)"
   ]
  },
  {
   "cell_type": "markdown",
   "metadata": {},
   "source": [
    "1.Reading from CSV file\n",
    "2.Writing to CSV file\n",
    "writerow()\n",
    "writerows()\n",
    "\n",
    "3.print the min, max and avg score of given score.csv file"
   ]
  },
  {
   "cell_type": "code",
   "execution_count": 7,
   "metadata": {},
   "outputs": [
    {
     "name": "stdout",
     "output_type": "stream",
     "text": [
      "['rohit', '9']\n",
      "['shakib', '56']\n",
      "['babar', '56']\n",
      "['rohit', '120']\n",
      "['rohit', '105']\n",
      "['shakib', '78']\n",
      "['rohit', '140']\n",
      "['babar', '45']\n",
      "['rohit', '130']\n",
      "['shakib', '102']\n",
      "['babar', '120']\n",
      "['babar', '5']\n",
      "['shakib', '72']\n",
      "['babar', '67']\n",
      "Minimum Price: 5.0\n",
      "Maximum Price: 140.0\n",
      "Average Price: 84.3076923076923\n"
     ]
    }
   ],
   "source": [
    "#1)\n",
    "import csv\n",
    "with open(\"scores.csv\",'r',newline='') as file:\n",
    "    csv_reader=csv.reader(file)\n",
    "    for row in csv_reader:\n",
    "        print(row)\n",
    "#2)/\n",
    "with open(\"scores.csv\", 'r', newline='') as csvfile:\n",
    "        csv_reader = csv.reader(csvfile)\n",
    "        next(csv_reader)\n",
    "        price_column = [float(row[1]) for row in csv_reader]\n",
    "        if price_column:\n",
    "            min_price = min(price_column)\n",
    "            max_price = max(price_column)\n",
    "            avg_price = sum(price_column) / len(price_column)\n",
    "            print(f\"Minimum Price: {min_price}\")\n",
    "            print(f\"Maximum Price: {max_price}\")\n",
    "            print(f\"Average Price: {avg_price}\")\n",
    "        else:\n",
    "            print(\"No data found in the file.\")\n",
    "\n"
   ]
  },
  {
   "cell_type": "markdown",
   "metadata": {},
   "source": [
    "4.Appending To a File in Python\n",
    "i- Append-adds at last\n",
    "ii-Write-Overwrites\n"
   ]
  },
  {
   "cell_type": "code",
   "execution_count": 52,
   "metadata": {},
   "outputs": [
    {
     "name": "stdout",
     "output_type": "stream",
     "text": [
      "Content appended successfully in append mode.\n"
     ]
    }
   ],
   "source": [
    "with open(\"example.txt\", 'a') as file:\n",
    "   \n",
    "    file.write(\"This is new content added in append mode.\\n\")\n",
    "\n",
    "print(\"Content appended successfully in append mode.\")\n",
    "\n",
    "with open(\"example1.txt\", 'w') as file:\n",
    "  \n",
    "    file.write(\"This is completely new content in write mode.\\n\")\n"
   ]
  },
  {
   "cell_type": "markdown",
   "metadata": {},
   "source": [
    "5.Reading Data From an XML File\n",
    "i-Finding Tags \n",
    "ii-Extracting from tags\n"
   ]
  },
  {
   "cell_type": "code",
   "execution_count": 9,
   "metadata": {},
   "outputs": [
    {
     "name": "stdout",
     "output_type": "stream",
     "text": [
      "All Unique Tags in the XML file:\n",
      "{'row', 'degrees', 'shape', 'sides', 'firstname', 'data'}\n",
      "\n",
      "Content extracted from 'shape' tags:\n",
      "['square', 'circle', 'triangle']\n"
     ]
    }
   ],
   "source": [
    "from bs4 import BeautifulSoup\n",
    "xml_file_path = 'task.xml'\n",
    "with open(xml_file_path, 'r') as file:\n",
    "    xml_content = file.read()\n",
    "soup = BeautifulSoup(xml_content, 'xml')\n",
    "\n",
    "# i- Finding Tags\n",
    "all_tags = set(tag.name for tag in soup.find_all())\n",
    "print(\"All Unique Tags in the XML file:\")\n",
    "print(all_tags)\n",
    "\n",
    "# ii- Extracting from Tags\n",
    "desired_tag = 'shape'\n",
    "content_list = [tag.text for tag in soup.find_all(desired_tag)]\n",
    "print(f\"\\nContent extracted from '{desired_tag}' tags:\")\n",
    "print(content_list)\n",
    "\n",
    "\n"
   ]
  },
  {
   "cell_type": "markdown",
   "metadata": {},
   "source": [
    "6.Reading the data inside the xml file to a variable under the name data"
   ]
  },
  {
   "cell_type": "code",
   "execution_count": 10,
   "metadata": {},
   "outputs": [
    {
     "name": "stdout",
     "output_type": "stream",
     "text": [
      "Data read from the XML:\n",
      "[{'shape': 'square', 'degrees': '360', 'sides': '4.0', 'firstname': 'Krish'}, {'shape': 'circle', 'degrees': '360', 'sides': '', 'firstname': ''}, {'shape': 'triangle', 'degrees': '180', 'sides': '3.0', 'firstname': ''}]\n"
     ]
    },
    {
     "name": "stderr",
     "output_type": "stream",
     "text": [
      "/Users/sahilsingh/Desktop/anaconda3/lib/python3.11/site-packages/bs4/builder/__init__.py:545: XMLParsedAsHTMLWarning: It looks like you're parsing an XML document using an HTML parser. If this really is an HTML document (maybe it's XHTML?), you can ignore or filter this warning. If it's XML, you should know that using an XML parser will be more reliable. To parse this document as XML, make sure you have the lxml package installed, and pass the keyword argument `features=\"xml\"` into the BeautifulSoup constructor.\n",
      "  warnings.warn(\n"
     ]
    }
   ],
   "source": [
    "soup = BeautifulSoup(xml_content, 'lxml')\n",
    "\n",
    "namespace = {\"ns\": \"http://example.com\"}\n",
    "\n",
    "row_tags = soup.find_all('row')\n",
    "\n",
    "data = []\n",
    "\n",
    "for row_tag in row_tags:\n",
    "    shape = row_tag.find('shape').text\n",
    "    degrees = row_tag.find('degrees').text\n",
    "    sides = row_tag.find('sides').text if row_tag.find('sides') is not None else None\n",
    "    firstname = row_tag.find('firstname').text if row_tag.find('firstname') is not None else None\n",
    "\n",
    "    data.append({'shape': shape, 'degrees': degrees, 'sides': sides, 'firstname': firstname})\n",
    "\n",
    "print(\"Data read from the XML:\")\n",
    "print(data)"
   ]
  },
  {
   "cell_type": "markdown",
   "metadata": {},
   "source": [
    "7.Writing XML Files\n"
   ]
  },
  {
   "cell_type": "code",
   "execution_count": 14,
   "metadata": {},
   "outputs": [
    {
     "name": "stdout",
     "output_type": "stream",
     "text": [
      "XML file created successfully at: output_beautifulsoup.xml\n"
     ]
    }
   ],
   "source": [
    "from bs4 import BeautifulSoup\n",
    "\n",
    "data = [\n",
    "    {'shape': 'square', 'degrees': '360', 'sides': '4.0', 'firstname': 'Krish'},\n",
    "    {'shape': 'circle', 'degrees': '360', 'sides': None, 'firstname': None},\n",
    "    {'shape': 'triangle', 'degrees': '180', 'sides': '3.0', 'firstname': None},\n",
    "]\n",
    "\n",
    "soup = BeautifulSoup(features=\"lxml\")\n",
    "root = soup.new_tag(\"data\", xmlns=\"http://example.com\")\n",
    "soup.append(root)\n",
    "\n",
    "for row_data in data:\n",
    "    row_tag = soup.new_tag(\"row\")\n",
    "    \n",
    "    for key, value in row_data.items():\n",
    "        sub_tag = soup.new_tag(key)\n",
    "        sub_tag.string = str(value) if value is not None else ''\n",
    "        row_tag.append(sub_tag)\n",
    "    \n",
    "    root.append(row_tag)\n",
    "\n",
    "xml_file_path = 'output_beautifulsoup.xml'\n",
    "with open(xml_file_path, 'w', encoding=\"utf-8\") as xml_file:\n",
    "    xml_file.write(soup.prettify())\n",
    "\n",
    "print(f\"XML file created successfully at: {xml_file_path}\")\n"
   ]
  },
  {
   "cell_type": "markdown",
   "metadata": {},
   "source": [
    "8.Writing List to Files in Python\n",
    "Using write()\n",
    "Using writelines()\n",
    "Using String Join Along with “with open” syntax"
   ]
  },
  {
   "cell_type": "code",
   "execution_count": 17,
   "metadata": {},
   "outputs": [
    {
     "name": "stdout",
     "output_type": "stream",
     "text": [
      "List written to file.txt using write() successfully.\n",
      "List written to file1.txt using write() successfully.\n",
      "List written to file2.txt using string join successfully.\n"
     ]
    }
   ],
   "source": [
    "my_list = ['Apple', 'Banana', 'Orange', 'Grapes']\n",
    "file_path = 'file.txt'\n",
    "with open(file_path, 'w') as file:\n",
    "    for item in my_list:\n",
    "        file.write(f\"{item}\\n\")\n",
    "\n",
    "print(f\"List written to {file_path} using write() successfully.\")\n",
    "\n",
    "my_list = ['Apple', 'Banana', 'Orange', 'Grapes']\n",
    "file_path = 'file1.txt'\n",
    "with open(file_path, 'w') as file:\n",
    "    for item in my_list:\n",
    "        file.writelines(f\"{item}\\n\")\n",
    "\n",
    "print(f\"List written to {file_path} using write() successfully.\")\n",
    "\n",
    "\n",
    "my_list = ['Apple', 'Banana', 'Orange', 'Grapes']\n",
    "\n",
    "\n",
    "file_path = 'file2.txt'\n",
    "\n",
    "\n",
    "\n",
    "with open(file_path, 'w') as file:\n",
    "    file.write('\\n'.join(my_list))\n",
    "\n",
    "print(f\"List written to {file_path} using string join successfully.\")\n",
    "\n"
   ]
  },
  {
   "cell_type": "markdown",
   "metadata": {},
   "source": [
    "9.[poem.txt]contains famous poem \"Road not taken\" by poet Robert Frost. You have to read this file in your python program and find out words with maximum occurance.\n"
   ]
  },
  {
   "cell_type": "code",
   "execution_count": 69,
   "metadata": {},
   "outputs": [
    {
     "name": "stdout",
     "output_type": "stream",
     "text": [
      "words with the maximum occurrence (9 times):\n",
      "['and', 'i']\n"
     ]
    }
   ],
   "source": [
    "from collections import Counter\n",
    "with open(\"poem.txt\", 'r') as file:\n",
    "    poem_content = file.read()\n",
    "\n",
    "    cleaned_text = ''.join(char.lower() if char.isalnum() or char.isspace() else ' ' for char in poem_content)\n",
    "    words = cleaned_text.split()\n",
    "    word_counts = Counter(words)\n",
    "    max_occurrence = max(word_counts.values())\n",
    "    most_common_words = [word for word, count in word_counts.items() if count == max_occurrence]\n",
    "    print(f\"words with the maximum occurrence ({max_occurrence} times):\")\n",
    "    print(most_common_words)\n",
    "\n"
   ]
  },
  {
   "cell_type": "markdown",
   "metadata": {},
   "source": [
    "10.[stocks.csv]contains stock price, earnings per share and book value. You are writing a stock market application that will process this file and create a new file\n",
    "with financial metrics such as pe ratio and price to book ratio. These are calculated as,\n",
    "```\n",
    "pe ratio = price / earnings per share\n",
    "price to book ratio = price / book value\n",
    "```\n",
    "\n",
    "\n",
    "Your input format (stocks.csv) is,\n",
    "\n",
    "|Company Name|Price|Earnings Per Share|Book Value|\n",
    "|-------|----------|-------|----------|\n",
    "|Reliance|1467|66|653|\n",
    "|Tata Steel|391|89|572|\n",
    "\n",
    "Output.csv should look like this,\n",
    "\n",
    "|Company Name|PE Ratio|PB Ratio|\n",
    "|-------|----------|-------|\n",
    "|Reliance|22.23|2.25|\n",
    "|Tata Steel|4.39|0.68|"
   ]
  },
  {
   "cell_type": "code",
   "execution_count": 24,
   "metadata": {},
   "outputs": [
    {
     "name": "stdout",
     "output_type": "stream",
     "text": [
      "    Company Name  Price  Earnings Per Share   Book Value\n",
      "0       Reliance   1467                  66          653\n",
      "1     Tata Steel    391                  89          572\n",
      "2        Infosys    650                  35          147\n",
      "3      Axis Bank    739                  19          263\n",
      "4  Bajaj Finance   4044                  69          341\n",
      "Index(['Company Name', 'Price', 'Earnings Per Share', ' Book Value',\n",
      "       'pe ratio'],\n",
      "      dtype='object')\n",
      "    Company Name  Price  Earnings Per Share   Book Value  pe ratio  \\\n",
      "0       Reliance   1467                  66          653        22   \n",
      "1     Tata Steel    391                  89          572         4   \n",
      "2        Infosys    650                  35          147        18   \n",
      "3      Axis Bank    739                  19          263        38   \n",
      "4  Bajaj Finance   4044                  69          341        58   \n",
      "\n",
      "   Price to book ratio  \n",
      "0                    2  \n",
      "1                    0  \n",
      "2                    4  \n",
      "3                    2  \n",
      "4                   11  \n"
     ]
    }
   ],
   "source": [
    "import pandas as pd\n",
    "df=pd.read_csv(\"stocks.csv\")\n",
    "print(df)\n",
    "df['pe ratio']=df['Price']//df['Earnings Per Share']\n",
    "print(df.columns)\n",
    "df['Price to book ratio']=df['Price']//df[' Book Value']\n",
    "print(df)\n"
   ]
  },
  {
   "cell_type": "markdown",
   "metadata": {},
   "source": [
    "Beautifulsoup\n"
   ]
  },
  {
   "cell_type": "code",
   "execution_count": 3,
   "metadata": {},
   "outputs": [
    {
     "name": "stdout",
     "output_type": "stream",
     "text": [
      "Requirement already satisfied: beautifulsoup4 in /Users/sahilsingh/Desktop/anaconda3/lib/python3.11/site-packages (4.12.2)\n",
      "Requirement already satisfied: soupsieve>1.2 in /Users/sahilsingh/Desktop/anaconda3/lib/python3.11/site-packages (from beautifulsoup4) (2.4)\n",
      "Note: you may need to restart the kernel to use updated packages.\n"
     ]
    }
   ],
   "source": [
    "pip install beautifulsoup4\n"
   ]
  },
  {
   "cell_type": "code",
   "execution_count": 1,
   "metadata": {},
   "outputs": [
    {
     "ename": "URLError",
     "evalue": "<urlopen error [Errno 8] nodename nor servname provided, or not known>",
     "output_type": "error",
     "traceback": [
      "\u001b[0;31m---------------------------------------------------------------------------\u001b[0m",
      "\u001b[0;31mgaierror\u001b[0m                                  Traceback (most recent call last)",
      "File \u001b[0;32m~/Desktop/anaconda3/lib/python3.11/urllib/request.py:1348\u001b[0m, in \u001b[0;36mAbstractHTTPHandler.do_open\u001b[0;34m(self, http_class, req, **http_conn_args)\u001b[0m\n\u001b[1;32m   1347\u001b[0m \u001b[38;5;28;01mtry\u001b[39;00m:\n\u001b[0;32m-> 1348\u001b[0m     h\u001b[38;5;241m.\u001b[39mrequest(req\u001b[38;5;241m.\u001b[39mget_method(), req\u001b[38;5;241m.\u001b[39mselector, req\u001b[38;5;241m.\u001b[39mdata, headers,\n\u001b[1;32m   1349\u001b[0m               encode_chunked\u001b[38;5;241m=\u001b[39mreq\u001b[38;5;241m.\u001b[39mhas_header(\u001b[38;5;124m'\u001b[39m\u001b[38;5;124mTransfer-encoding\u001b[39m\u001b[38;5;124m'\u001b[39m))\n\u001b[1;32m   1350\u001b[0m \u001b[38;5;28;01mexcept\u001b[39;00m \u001b[38;5;167;01mOSError\u001b[39;00m \u001b[38;5;28;01mas\u001b[39;00m err: \u001b[38;5;66;03m# timeout error\u001b[39;00m\n",
      "File \u001b[0;32m~/Desktop/anaconda3/lib/python3.11/http/client.py:1286\u001b[0m, in \u001b[0;36mHTTPConnection.request\u001b[0;34m(self, method, url, body, headers, encode_chunked)\u001b[0m\n\u001b[1;32m   1285\u001b[0m \u001b[38;5;250m\u001b[39m\u001b[38;5;124;03m\"\"\"Send a complete request to the server.\"\"\"\u001b[39;00m\n\u001b[0;32m-> 1286\u001b[0m \u001b[38;5;28mself\u001b[39m\u001b[38;5;241m.\u001b[39m_send_request(method, url, body, headers, encode_chunked)\n",
      "File \u001b[0;32m~/Desktop/anaconda3/lib/python3.11/http/client.py:1332\u001b[0m, in \u001b[0;36mHTTPConnection._send_request\u001b[0;34m(self, method, url, body, headers, encode_chunked)\u001b[0m\n\u001b[1;32m   1331\u001b[0m     body \u001b[38;5;241m=\u001b[39m _encode(body, \u001b[38;5;124m'\u001b[39m\u001b[38;5;124mbody\u001b[39m\u001b[38;5;124m'\u001b[39m)\n\u001b[0;32m-> 1332\u001b[0m \u001b[38;5;28mself\u001b[39m\u001b[38;5;241m.\u001b[39mendheaders(body, encode_chunked\u001b[38;5;241m=\u001b[39mencode_chunked)\n",
      "File \u001b[0;32m~/Desktop/anaconda3/lib/python3.11/http/client.py:1281\u001b[0m, in \u001b[0;36mHTTPConnection.endheaders\u001b[0;34m(self, message_body, encode_chunked)\u001b[0m\n\u001b[1;32m   1280\u001b[0m     \u001b[38;5;28;01mraise\u001b[39;00m CannotSendHeader()\n\u001b[0;32m-> 1281\u001b[0m \u001b[38;5;28mself\u001b[39m\u001b[38;5;241m.\u001b[39m_send_output(message_body, encode_chunked\u001b[38;5;241m=\u001b[39mencode_chunked)\n",
      "File \u001b[0;32m~/Desktop/anaconda3/lib/python3.11/http/client.py:1041\u001b[0m, in \u001b[0;36mHTTPConnection._send_output\u001b[0;34m(self, message_body, encode_chunked)\u001b[0m\n\u001b[1;32m   1040\u001b[0m \u001b[38;5;28;01mdel\u001b[39;00m \u001b[38;5;28mself\u001b[39m\u001b[38;5;241m.\u001b[39m_buffer[:]\n\u001b[0;32m-> 1041\u001b[0m \u001b[38;5;28mself\u001b[39m\u001b[38;5;241m.\u001b[39msend(msg)\n\u001b[1;32m   1043\u001b[0m \u001b[38;5;28;01mif\u001b[39;00m message_body \u001b[38;5;129;01mis\u001b[39;00m \u001b[38;5;129;01mnot\u001b[39;00m \u001b[38;5;28;01mNone\u001b[39;00m:\n\u001b[1;32m   1044\u001b[0m \n\u001b[1;32m   1045\u001b[0m     \u001b[38;5;66;03m# create a consistent interface to message_body\u001b[39;00m\n",
      "File \u001b[0;32m~/Desktop/anaconda3/lib/python3.11/http/client.py:979\u001b[0m, in \u001b[0;36mHTTPConnection.send\u001b[0;34m(self, data)\u001b[0m\n\u001b[1;32m    978\u001b[0m \u001b[38;5;28;01mif\u001b[39;00m \u001b[38;5;28mself\u001b[39m\u001b[38;5;241m.\u001b[39mauto_open:\n\u001b[0;32m--> 979\u001b[0m     \u001b[38;5;28mself\u001b[39m\u001b[38;5;241m.\u001b[39mconnect()\n\u001b[1;32m    980\u001b[0m \u001b[38;5;28;01melse\u001b[39;00m:\n",
      "File \u001b[0;32m~/Desktop/anaconda3/lib/python3.11/http/client.py:1451\u001b[0m, in \u001b[0;36mHTTPSConnection.connect\u001b[0;34m(self)\u001b[0m\n\u001b[1;32m   1449\u001b[0m \u001b[38;5;124m\"\u001b[39m\u001b[38;5;124mConnect to a host on a given (SSL) port.\u001b[39m\u001b[38;5;124m\"\u001b[39m\n\u001b[0;32m-> 1451\u001b[0m \u001b[38;5;28msuper\u001b[39m()\u001b[38;5;241m.\u001b[39mconnect()\n\u001b[1;32m   1453\u001b[0m \u001b[38;5;28;01mif\u001b[39;00m \u001b[38;5;28mself\u001b[39m\u001b[38;5;241m.\u001b[39m_tunnel_host:\n",
      "File \u001b[0;32m~/Desktop/anaconda3/lib/python3.11/http/client.py:945\u001b[0m, in \u001b[0;36mHTTPConnection.connect\u001b[0;34m(self)\u001b[0m\n\u001b[1;32m    944\u001b[0m sys\u001b[38;5;241m.\u001b[39maudit(\u001b[38;5;124m\"\u001b[39m\u001b[38;5;124mhttp.client.connect\u001b[39m\u001b[38;5;124m\"\u001b[39m, \u001b[38;5;28mself\u001b[39m, \u001b[38;5;28mself\u001b[39m\u001b[38;5;241m.\u001b[39mhost, \u001b[38;5;28mself\u001b[39m\u001b[38;5;241m.\u001b[39mport)\n\u001b[0;32m--> 945\u001b[0m \u001b[38;5;28mself\u001b[39m\u001b[38;5;241m.\u001b[39msock \u001b[38;5;241m=\u001b[39m \u001b[38;5;28mself\u001b[39m\u001b[38;5;241m.\u001b[39m_create_connection(\n\u001b[1;32m    946\u001b[0m     (\u001b[38;5;28mself\u001b[39m\u001b[38;5;241m.\u001b[39mhost,\u001b[38;5;28mself\u001b[39m\u001b[38;5;241m.\u001b[39mport), \u001b[38;5;28mself\u001b[39m\u001b[38;5;241m.\u001b[39mtimeout, \u001b[38;5;28mself\u001b[39m\u001b[38;5;241m.\u001b[39msource_address)\n\u001b[1;32m    947\u001b[0m \u001b[38;5;66;03m# Might fail in OSs that don't implement TCP_NODELAY\u001b[39;00m\n",
      "File \u001b[0;32m~/Desktop/anaconda3/lib/python3.11/socket.py:827\u001b[0m, in \u001b[0;36mcreate_connection\u001b[0;34m(address, timeout, source_address, all_errors)\u001b[0m\n\u001b[1;32m    826\u001b[0m exceptions \u001b[38;5;241m=\u001b[39m []\n\u001b[0;32m--> 827\u001b[0m \u001b[38;5;28;01mfor\u001b[39;00m res \u001b[38;5;129;01min\u001b[39;00m getaddrinfo(host, port, \u001b[38;5;241m0\u001b[39m, SOCK_STREAM):\n\u001b[1;32m    828\u001b[0m     af, socktype, proto, canonname, sa \u001b[38;5;241m=\u001b[39m res\n",
      "File \u001b[0;32m~/Desktop/anaconda3/lib/python3.11/socket.py:962\u001b[0m, in \u001b[0;36mgetaddrinfo\u001b[0;34m(host, port, family, type, proto, flags)\u001b[0m\n\u001b[1;32m    961\u001b[0m addrlist \u001b[38;5;241m=\u001b[39m []\n\u001b[0;32m--> 962\u001b[0m \u001b[38;5;28;01mfor\u001b[39;00m res \u001b[38;5;129;01min\u001b[39;00m _socket\u001b[38;5;241m.\u001b[39mgetaddrinfo(host, port, family, \u001b[38;5;28mtype\u001b[39m, proto, flags):\n\u001b[1;32m    963\u001b[0m     af, socktype, proto, canonname, sa \u001b[38;5;241m=\u001b[39m res\n",
      "\u001b[0;31mgaierror\u001b[0m: [Errno 8] nodename nor servname provided, or not known",
      "\nDuring handling of the above exception, another exception occurred:\n",
      "\u001b[0;31mURLError\u001b[0m                                  Traceback (most recent call last)",
      "Cell \u001b[0;32mIn[1], line 6\u001b[0m\n\u001b[1;32m      4\u001b[0m handle \u001b[38;5;241m=\u001b[39m \u001b[38;5;124m\"\u001b[39m\u001b[38;5;124miamsahilsingh_173_\u001b[39m\u001b[38;5;124m\"\u001b[39m\n\u001b[1;32m      5\u001b[0m url \u001b[38;5;241m=\u001b[39m \u001b[38;5;124m\"\u001b[39m\u001b[38;5;124mhttps://www.instagram.com\u001b[39m\u001b[38;5;124m\"\u001b[39m\n\u001b[0;32m----> 6\u001b[0m page \u001b[38;5;241m=\u001b[39m urlopen(url \u001b[38;5;241m+\u001b[39m handle)\u001b[38;5;241m.\u001b[39mread()\n\u001b[1;32m      7\u001b[0m soup \u001b[38;5;241m=\u001b[39m BeautifulSoup(page, \u001b[38;5;124m\"\u001b[39m\u001b[38;5;124mhtml.parser\u001b[39m\u001b[38;5;124m\"\u001b[39m)\n\u001b[1;32m      8\u001b[0m \u001b[38;5;28mprint\u001b[39m(soup)\n",
      "File \u001b[0;32m~/Desktop/anaconda3/lib/python3.11/urllib/request.py:216\u001b[0m, in \u001b[0;36murlopen\u001b[0;34m(url, data, timeout, cafile, capath, cadefault, context)\u001b[0m\n\u001b[1;32m    214\u001b[0m \u001b[38;5;28;01melse\u001b[39;00m:\n\u001b[1;32m    215\u001b[0m     opener \u001b[38;5;241m=\u001b[39m _opener\n\u001b[0;32m--> 216\u001b[0m \u001b[38;5;28;01mreturn\u001b[39;00m opener\u001b[38;5;241m.\u001b[39mopen(url, data, timeout)\n",
      "File \u001b[0;32m~/Desktop/anaconda3/lib/python3.11/urllib/request.py:519\u001b[0m, in \u001b[0;36mOpenerDirector.open\u001b[0;34m(self, fullurl, data, timeout)\u001b[0m\n\u001b[1;32m    516\u001b[0m     req \u001b[38;5;241m=\u001b[39m meth(req)\n\u001b[1;32m    518\u001b[0m sys\u001b[38;5;241m.\u001b[39maudit(\u001b[38;5;124m'\u001b[39m\u001b[38;5;124murllib.Request\u001b[39m\u001b[38;5;124m'\u001b[39m, req\u001b[38;5;241m.\u001b[39mfull_url, req\u001b[38;5;241m.\u001b[39mdata, req\u001b[38;5;241m.\u001b[39mheaders, req\u001b[38;5;241m.\u001b[39mget_method())\n\u001b[0;32m--> 519\u001b[0m response \u001b[38;5;241m=\u001b[39m \u001b[38;5;28mself\u001b[39m\u001b[38;5;241m.\u001b[39m_open(req, data)\n\u001b[1;32m    521\u001b[0m \u001b[38;5;66;03m# post-process response\u001b[39;00m\n\u001b[1;32m    522\u001b[0m meth_name \u001b[38;5;241m=\u001b[39m protocol\u001b[38;5;241m+\u001b[39m\u001b[38;5;124m\"\u001b[39m\u001b[38;5;124m_response\u001b[39m\u001b[38;5;124m\"\u001b[39m\n",
      "File \u001b[0;32m~/Desktop/anaconda3/lib/python3.11/urllib/request.py:536\u001b[0m, in \u001b[0;36mOpenerDirector._open\u001b[0;34m(self, req, data)\u001b[0m\n\u001b[1;32m    533\u001b[0m     \u001b[38;5;28;01mreturn\u001b[39;00m result\n\u001b[1;32m    535\u001b[0m protocol \u001b[38;5;241m=\u001b[39m req\u001b[38;5;241m.\u001b[39mtype\n\u001b[0;32m--> 536\u001b[0m result \u001b[38;5;241m=\u001b[39m \u001b[38;5;28mself\u001b[39m\u001b[38;5;241m.\u001b[39m_call_chain(\u001b[38;5;28mself\u001b[39m\u001b[38;5;241m.\u001b[39mhandle_open, protocol, protocol \u001b[38;5;241m+\u001b[39m\n\u001b[1;32m    537\u001b[0m                           \u001b[38;5;124m'\u001b[39m\u001b[38;5;124m_open\u001b[39m\u001b[38;5;124m'\u001b[39m, req)\n\u001b[1;32m    538\u001b[0m \u001b[38;5;28;01mif\u001b[39;00m result:\n\u001b[1;32m    539\u001b[0m     \u001b[38;5;28;01mreturn\u001b[39;00m result\n",
      "File \u001b[0;32m~/Desktop/anaconda3/lib/python3.11/urllib/request.py:496\u001b[0m, in \u001b[0;36mOpenerDirector._call_chain\u001b[0;34m(self, chain, kind, meth_name, *args)\u001b[0m\n\u001b[1;32m    494\u001b[0m \u001b[38;5;28;01mfor\u001b[39;00m handler \u001b[38;5;129;01min\u001b[39;00m handlers:\n\u001b[1;32m    495\u001b[0m     func \u001b[38;5;241m=\u001b[39m \u001b[38;5;28mgetattr\u001b[39m(handler, meth_name)\n\u001b[0;32m--> 496\u001b[0m     result \u001b[38;5;241m=\u001b[39m func(\u001b[38;5;241m*\u001b[39margs)\n\u001b[1;32m    497\u001b[0m     \u001b[38;5;28;01mif\u001b[39;00m result \u001b[38;5;129;01mis\u001b[39;00m \u001b[38;5;129;01mnot\u001b[39;00m \u001b[38;5;28;01mNone\u001b[39;00m:\n\u001b[1;32m    498\u001b[0m         \u001b[38;5;28;01mreturn\u001b[39;00m result\n",
      "File \u001b[0;32m~/Desktop/anaconda3/lib/python3.11/urllib/request.py:1391\u001b[0m, in \u001b[0;36mHTTPSHandler.https_open\u001b[0;34m(self, req)\u001b[0m\n\u001b[1;32m   1390\u001b[0m \u001b[38;5;28;01mdef\u001b[39;00m \u001b[38;5;21mhttps_open\u001b[39m(\u001b[38;5;28mself\u001b[39m, req):\n\u001b[0;32m-> 1391\u001b[0m     \u001b[38;5;28;01mreturn\u001b[39;00m \u001b[38;5;28mself\u001b[39m\u001b[38;5;241m.\u001b[39mdo_open(http\u001b[38;5;241m.\u001b[39mclient\u001b[38;5;241m.\u001b[39mHTTPSConnection, req,\n\u001b[1;32m   1392\u001b[0m         context\u001b[38;5;241m=\u001b[39m\u001b[38;5;28mself\u001b[39m\u001b[38;5;241m.\u001b[39m_context, check_hostname\u001b[38;5;241m=\u001b[39m\u001b[38;5;28mself\u001b[39m\u001b[38;5;241m.\u001b[39m_check_hostname)\n",
      "File \u001b[0;32m~/Desktop/anaconda3/lib/python3.11/urllib/request.py:1351\u001b[0m, in \u001b[0;36mAbstractHTTPHandler.do_open\u001b[0;34m(self, http_class, req, **http_conn_args)\u001b[0m\n\u001b[1;32m   1348\u001b[0m         h\u001b[38;5;241m.\u001b[39mrequest(req\u001b[38;5;241m.\u001b[39mget_method(), req\u001b[38;5;241m.\u001b[39mselector, req\u001b[38;5;241m.\u001b[39mdata, headers,\n\u001b[1;32m   1349\u001b[0m                   encode_chunked\u001b[38;5;241m=\u001b[39mreq\u001b[38;5;241m.\u001b[39mhas_header(\u001b[38;5;124m'\u001b[39m\u001b[38;5;124mTransfer-encoding\u001b[39m\u001b[38;5;124m'\u001b[39m))\n\u001b[1;32m   1350\u001b[0m     \u001b[38;5;28;01mexcept\u001b[39;00m \u001b[38;5;167;01mOSError\u001b[39;00m \u001b[38;5;28;01mas\u001b[39;00m err: \u001b[38;5;66;03m# timeout error\u001b[39;00m\n\u001b[0;32m-> 1351\u001b[0m         \u001b[38;5;28;01mraise\u001b[39;00m URLError(err)\n\u001b[1;32m   1352\u001b[0m     r \u001b[38;5;241m=\u001b[39m h\u001b[38;5;241m.\u001b[39mgetresponse()\n\u001b[1;32m   1353\u001b[0m \u001b[38;5;28;01mexcept\u001b[39;00m:\n",
      "\u001b[0;31mURLError\u001b[0m: <urlopen error [Errno 8] nodename nor servname provided, or not known>"
     ]
    }
   ],
   "source": [
    "from urllib.request import urlopen  # Import the urlopen function\n",
    "from bs4 import BeautifulSoup\n",
    "\n",
    "handle = \"iamsahilsingh_173_\"\n",
    "url = \"https://www.instagram.com\"\n",
    "page = urlopen(url + handle).read()\n",
    "soup = BeautifulSoup(page, \"html.parser\")\n",
    "print(soup)\n"
   ]
  },
  {
   "cell_type": "code",
   "execution_count": null,
   "metadata": {},
   "outputs": [],
   "source": []
  }
 ],
 "metadata": {
  "kernelspec": {
   "display_name": "Python 3 (ipykernel)",
   "language": "python",
   "name": "python3"
  },
  "language_info": {
   "codemirror_mode": {
    "name": "ipython",
    "version": 3
   },
   "file_extension": ".py",
   "mimetype": "text/x-python",
   "name": "python",
   "nbconvert_exporter": "python",
   "pygments_lexer": "ipython3",
   "version": "3.11.5"
  }
 },
 "nbformat": 4,
 "nbformat_minor": 2
}
