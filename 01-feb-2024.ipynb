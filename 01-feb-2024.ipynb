{
 "cells": [
  {
   "cell_type": "code",
   "execution_count": null,
   "metadata": {},
   "outputs": [],
   "source": []
  },
  {
   "cell_type": "markdown",
   "metadata": {},
   "source": [
    "Dynamic programming\n"
   ]
  },
  {
   "cell_type": "markdown",
   "metadata": {},
   "source": []
  },
  {
   "cell_type": "markdown",
   "metadata": {},
   "source": []
  },
  {
   "cell_type": "markdown",
   "metadata": {},
   "source": [
    "assignment"
   ]
  },
  {
   "cell_type": "markdown",
   "metadata": {},
   "source": [
    "1.Similar Strings\n",
    "Problem statement\n",
    "You are given two strings, ‘A’ and ‘B’ each of length ‘N’. Your task is to print 1 if ‘A’ is similar to ‘B’.\n",
    "\n",
    "Note :\n",
    "\n",
    "String ‘A’ is said to be similar to string ‘B’ if and only if \n",
    "1. ‘A’ is equal to ‘B’.\n",
    "2. Divide both ‘A’ and ‘B’ into two – two strings ‘A1’, ‘A2’ , ‘B1’ and ‘B2’ such that both of them('A1' and 'A2') have same size. Then at least one of the following must hold true:\n",
    "   a. ‘A1’ is similar to ‘B1’ and ‘A2’ is similar to ‘B2’.\n",
    "   b. ‘A1’ is similar to ‘B2’ and ‘A2’ is similar to ‘B1’.\n",
    "\n",
    "Sample Input 1 :\n",
    "2\n",
    "aa aa\n",
    "ab ba\n",
    "Sample Output 1 :\n",
    "1\n",
    "1\n",
    "Explanation Of Sample Input 1 :\n",
    "Test Case 1 :  \n",
    "Given A = “aa” and B = “aa” \n",
    "Here A and B are equal. So A is similar to B.\n",
    "\n"
   ]
  },
  {
   "cell_type": "code",
   "execution_count": 4,
   "metadata": {},
   "outputs": [
    {
     "name": "stdout",
     "output_type": "stream",
     "text": [
      "True\n"
     ]
    }
   ],
   "source": [
    "def similarstring(a,b):\n",
    "    if (len(a)%2==1):\n",
    "        if a==b:\n",
    "            return True\n",
    "        else:\n",
    "            return False\n",
    "    a1=a[:len(a)//2]\n",
    "    a2=a[len(a)//2:]\n",
    "    b1=b[:len(b)//2]\n",
    "    b2=b[len(b)//2:]\n",
    "\n",
    "    if similarstring(a1,b1)==True and similarstring(a2,b2)==True:\n",
    "        return True\n",
    "    elif similarstring(a1,b2)==True and similarstring(a2,b1)==True:\n",
    "        return True\n",
    "a=input(\"enter the string: \")\n",
    "b=input(\"enter the string: \")\n",
    "print(similarstring(a,b))\n",
    "\n",
    "\n"
   ]
  },
  {
   "cell_type": "markdown",
   "metadata": {},
   "source": [
    "2.Distinct Substrings\n",
    "Problem statement\n",
    "You are given a string 'S' of length 'N' consisting of lowercase English letters. You want all substrings of the string 'S' to be distinct. You are allowed to change characters at some positions to some other lowercase English letters.\n",
    "\n",
    "You have to find the minimum number of changes required to make all the substrings of the string distinct or return -1 if you can't make it.\n",
    "\n",
    "A substring is a contiguous subsegment of a string. For example, \"acab\" is a substring of \"abacaba\" (it starts in position 3 and ends in position 6), but \"aa\" or \"d\" aren't substrings of this string.\n",
    "\n",
    "\n",
    "Hint:\n",
    "Think about substrings of length one.\n",
    "For Example:-\n",
    "Let 'N' = 3, 'S' = \"aac\".\n",
    "You can change characters at index 2 to some other character (1-based indexing).\n",
    "Like 'S' = \"abc\".\n",
    "All substrings of 'S' are \"a\", \"b\", \"c\", \"ab\", \"bc\", \"abc\", all of which are distinct.\n",
    "So the answer is 1.\n",
    "Sample Input 1:-\n",
    "2\n",
    "3\n",
    "abc\n",
    "4\n",
    "xxyz\n",
    "Sample Output 1:-\n",
    "0\n",
    "1\n",
    "Explanation of sample input 1:-\n",
    "First test case:-\n",
    "No changes are required.\n",
    "So the answer is 0.\n",
    "\n",
    "Second test case:-\n",
    "You can change the character at index 1 to some other character (1-based indexing).\n",
    "Like 'S'=\"bxyz\".\n",
    "So the answer is 1.\n"
   ]
  },
  {
   "cell_type": "code",
   "execution_count": 18,
   "metadata": {},
   "outputs": [
    {
     "data": {
      "text/plain": [
       "3"
      ]
     },
     "execution_count": 18,
     "metadata": {},
     "output_type": "execute_result"
    }
   ],
   "source": [
    "\n",
    "def string(s):\n",
    "    lastplace={}\n",
    "    currentplace=0\n",
    "    changesrequired=0\n",
    "    for i in range(len(s)):\n",
    "        if s[i] in lastplace and lastplace[s[i]]>=currentplace:\n",
    "            currentplace=lastplace[s[i]]+1\n",
    "            changesrequired+=1\n",
    "        lastplace[s[i]]=i\n",
    "    return changesrequired\n",
    "s=input(\"enter the value\")\n",
    "string(s)\n",
    "\n"
   ]
  },
  {
   "cell_type": "markdown",
   "metadata": {},
   "source": [
    "3.Possible Balanced Strings\n",
    "Problem statement\n",
    "Avisoft has been given a string S, consisting of only the '(' or ')' parenthesis. The string is not balanced, and to make the string balanced, he can remove one or more parentheses. He needs to print all possible balanced strings that can be formed from the given string by removing the minimum number of parentheses.\n",
    "\n",
    "Note:\n",
    "\n",
    "Print only those distinct strings that can be formed by removing the minimum number of parentheses.\n",
    "\n",
    "If the string is already balanced, return the original string.\n",
    "For example:\n",
    "\n",
    "(()()()\n",
    "\n",
    "Expected strings are:\n",
    "\n",
    "[ (()()), (())(), ()()() ]\n",
    "\n",
    "Sample Input 1:\n",
    "1\n",
    "(()()() \n",
    "Sample Output 1:\n",
    "1\n",
    "Explanation Of Sample Input 1:\n",
    "Test case 1:\n",
    "For the first test case of sample output 1, three different strings can be created by removing one extra parenthesis.\n"
   ]
  },
  {
   "cell_type": "code",
   "execution_count": 36,
   "metadata": {},
   "outputs": [
    {
     "name": "stdout",
     "output_type": "stream",
     "text": [
      "1\n"
     ]
    }
   ],
   "source": [
    "str3=input(\"enter the string\")\n",
    "stack=[]\n",
    "stack.append(str3[0])\n",
    "for i in range(1,len(str3)):\n",
    "    if stack:\n",
    "        if stack[-1]==\"(\" and str3[i]==\")\":\n",
    "            stack.pop()\n",
    "        else:\n",
    "            stack.append(str3[i])\n",
    "    else:\n",
    "        stack.append(str3[i])\n",
    "print(len(stack))\n",
    "\n"
   ]
  },
  {
   "cell_type": "markdown",
   "metadata": {},
   "source": [
    "4.Multiply Strings\n",
    "Problem statement\n",
    "You are given two big numbers ‘A’ and ‘B’ as strings. Your task is to find the product of both the numbers.\n",
    "\n",
    "Note:\n",
    "\n",
    "There are no leading zeros in both the strings, except the number 0 itself.\n",
    "Do not use any built-in Big Integer Library.\n",
    "For Example:\n",
    "If, A = 123, and B = 456.\n",
    "So the product of both numbers will be 56088.\n",
    "\n",
    "Sample Input 1:\n",
    "2\n",
    "17281 \n",
    "91276\n",
    "123\n",
    "456\n",
    "Sample Output 1:\n",
    "1577340556\n",
    "56088    \n",
    "Explanation for sample 1:\n",
    "For the first test case:\n",
    "A=17281, and B=91276\n",
    "The product of both numbers is 1577340556.\n",
    "\n",
    "For the second test case:\n",
    "A=123, B=456\n",
    "The product of both numbers is 56088"
   ]
  },
  {
   "cell_type": "code",
   "execution_count": 25,
   "metadata": {},
   "outputs": [
    {
     "name": "stdout",
     "output_type": "stream",
     "text": [
      "56088\n"
     ]
    }
   ],
   "source": [
    "str1=input(\"enter the string\")\n",
    "str2=input(\"enter the string\")\n",
    "c=0\n",
    "d=0\n",
    "for i in range(len(str1)):\n",
    "    rem=ord(str1[i])-ord(\"0\")\n",
    "    c=c*10+rem\n",
    "for i in range(len(str2)):\n",
    "    rem=ord(str2[i])-ord(\"0\")\n",
    "    d=d*10+rem\n",
    "print(c*d)\n",
    "\n"
   ]
  },
  {
   "cell_type": "markdown",
   "metadata": {},
   "source": [
    "5. Total Strings\n",
    "\n",
    "Problem statement\n",
    "You are given a positive integer 'N'. Your task is to find the number of strings of length ‘N’ that can be formed using only the characters ‘a’, ‘b’ and ‘c’. The strings formed should be such that the number of ‘b’ and ‘c’ in the string is at most 1 and 2, respectively.\n",
    "\n",
    "Example:\n",
    "Let’s say N = 2. The strings of length 2, which satisfy the given constraints are: “aa”, “ab”, “ac”, “ba”, “bc”, “ca”, “cb”, “cc”. Hence, the output is 8.\n",
    "\n",
    "Sample Input 1:\n",
    "2\n",
    "2\n",
    "3\n",
    "Sample Output 1:\n",
    "8\n",
    "19\n",
    "Explanation 1:\n",
    "For the first test case, refer to the example explained before.\n",
    "\n",
    "For the second test case, N = 3. The strings of length 3, which satisfy the given constraints are: “aaa”, “aab”, “aac”, “aba”, “abc”, “aca”, “acb”, “acc”, and so on. There are a total of 19 possible strings.  "
   ]
  },
  {
   "cell_type": "code",
   "execution_count": 33,
   "metadata": {},
   "outputs": [
    {
     "name": "stdout",
     "output_type": "stream",
     "text": [
      "8\n"
     ]
    }
   ],
   "source": [
    "def strings(list1,n,str2,index,count_b,count_c):\n",
    "    if(index==n):\n",
    "        list1.append(str2)\n",
    "        return\n",
    "    else:\n",
    "        strings(list1,n,str2+\"a\",index+1,count_b,count_c)\n",
    "        if count_b<1:\n",
    "            strings(list1,n,str2+\"b\",index+1,count_b+1,count_c)\n",
    "        if count_c<2:\n",
    "            strings(list1,n,str2+\"c\",index+1,count_b,count_c+1)\n",
    "n=int(input(\"enter the length\"))\n",
    "list1=[]\n",
    "count_b=0\n",
    "count_c=0\n",
    "\n",
    "strings(list1,n,\"\",0,count_b,count_c)\n",
    "print(len(list1))"
   ]
  },
  {
   "cell_type": "code",
   "execution_count": null,
   "metadata": {},
   "outputs": [],
   "source": []
  }
 ],
 "metadata": {
  "kernelspec": {
   "display_name": "Python 3",
   "language": "python",
   "name": "python3"
  },
  "language_info": {
   "codemirror_mode": {
    "name": "ipython",
    "version": 3
   },
   "file_extension": ".py",
   "mimetype": "text/x-python",
   "name": "python",
   "nbconvert_exporter": "python",
   "pygments_lexer": "ipython3",
   "version": "3.10.13"
  },
  "orig_nbformat": 4
 },
 "nbformat": 4,
 "nbformat_minor": 2
}
