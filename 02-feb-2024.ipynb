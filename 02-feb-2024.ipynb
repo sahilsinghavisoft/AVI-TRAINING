{
 "cells": [
  {
   "cell_type": "code",
   "execution_count": null,
   "metadata": {},
   "outputs": [],
   "source": [
    "https://youtube.com/playlist?list=PLzMcBGfZo4-l1MqB1zoYfqzlj_HH-ZzXt&si=yzTjqqfVuEXv3_Yt\n",
    "\n",
    "https://youtube.com/playlist?list=PL-osiE80TeTsqhIuOqKhwlXsIBIdSeYtc&si=IPbLNrW_7yMkBXS4"
   ]
  },
  {
   "cell_type": "markdown",
   "metadata": {},
   "source": [
    "1.Write a Python program to create a class and display the namespace of that class."
   ]
  },
  {
   "cell_type": "code",
   "execution_count": 20,
   "metadata": {},
   "outputs": [
    {
     "name": "stdout",
     "output_type": "stream",
     "text": [
      "print Namespace of class {'__module__': '__main__', '__init__': <function avi.__init__ at 0x107541900>, '__dict__': <attribute '__dict__' of 'avi' objects>, '__weakref__': <attribute '__weakref__' of 'avi' objects>, '__doc__': None}\n"
     ]
    }
   ],
   "source": [
    "class avi:\n",
    "    def __init__(self):\n",
    "        self.name=\"sahil\"\n",
    "        self.age=12\n",
    "        self.rollno=2027294\n",
    "    print(\"print Namespace of class\",avi.__dict__)\n",
    "    \n"
   ]
  },
  {
   "cell_type": "markdown",
   "metadata": {},
   "source": [
    "2.Write a Python program to create an instance of a specified class and display the namespace of the said instance.\n"
   ]
  },
  {
   "cell_type": "code",
   "execution_count": 22,
   "metadata": {},
   "outputs": [
    {
     "name": "stdout",
     "output_type": "stream",
     "text": [
      "nikhil 350000 tester Junaid is speaking on client project\n",
      "namespace of instance {'name': 'nikhil', 'salary': 350000, 'deisgnation': 'tester'}\n"
     ]
    }
   ],
   "source": [
    "class avisoft:\n",
    "    def __init__(self,name,salary ,designation):\n",
    "        self.name=name\n",
    "        self.salary=salary\n",
    "        self.deisgnation=designation\n",
    "    def speak(self):\n",
    "        print(\"Junaid is speaking on client project\")\n",
    "x=avisoft(\"nikhil\",350000,\"tester\")\n",
    "print(x.name,x.salary,x.deisgnation,end=\" \")\n",
    "x.speak()\n",
    "print(\"namespace of instance\",x.__dict__)\n",
    "\n",
    "\n",
    "\n",
    "\n"
   ]
  },
  {
   "cell_type": "markdown",
   "metadata": {},
   "source": [
    "3.Write a Python program to create two empty classes, Student and Marks. Now create some instances and check whether they are instances of the said classes or not. Also, check whether the said classes are subclasses of the built-in object class or not.\n"
   ]
  },
  {
   "cell_type": "code",
   "execution_count": 13,
   "metadata": {},
   "outputs": [
    {
     "name": "stdout",
     "output_type": "stream",
     "text": [
      "True is instance of<class '__main__.students'> \n",
      "True is instance of<class '__main__.marks'> \n",
      "True is subclass of object\n",
      "True is subclass of object \n"
     ]
    }
   ],
   "source": [
    "class students:\n",
    "    pass\n",
    "class marks:\n",
    "    pass\n",
    "x=students()\n",
    "y=marks()\n",
    "instancestudent=isinstance(x,students)\n",
    "instancemarks=isinstance(y,marks)\n",
    "\n",
    "subclasses1=issubclass(students,object)\n",
    "subclasses2=issubclass(marks,object)\n",
    "\n",
    "print(f\"{instancestudent} is instance of{students} \")\n",
    "\n",
    "print(f\"{instancemarks} is instance of{marks} \")\n",
    "\n",
    "print(f\"{subclasses1} is subclass of object\")\n",
    "\n",
    "print(f\"{subclasses2} is subclass of object \")\n"
   ]
  },
  {
   "cell_type": "markdown",
   "metadata": {},
   "source": [
    "4.Write a Python class named Student with two attributes student_id, student_name. Add a new attribute student_class and display the entire attribute and the values of the class. Now remove the student_name attribute and display the entire attribute with values."
   ]
  },
  {
   "cell_type": "code",
   "execution_count": 17,
   "metadata": {},
   "outputs": [
    {
     "name": "stdout",
     "output_type": "stream",
     "text": [
      "student_id 2027294\n",
      "student_name sahil\n",
      "student_class AIML\n",
      "student_id 2027294\n",
      "student_class AIML\n"
     ]
    }
   ],
   "source": [
    "class student:\n",
    "    def __init__(self,student_id,student_name):\n",
    "        self.student_id=student_id\n",
    "        self.student_name=student_name\n",
    "z=student(2027294,\"sahil\")\n",
    "z.student_class=\"AIML\"\n",
    "for attribute,value in z.__dict__.items():\n",
    "    print(attribute,value)\n",
    "del z.student_name\n",
    "for attribute,value in z.__dict__.items():\n",
    "    print(attribute,value)"
   ]
  },
  {
   "cell_type": "markdown",
   "metadata": {},
   "source": [
    "5.Write a Python class to check the validity of a string of parentheses, '(', ')', '{', '}', '[' and ']. These brackets must be closed in the correct order, for example \"()\" and \"()[]{}\" are valid but \"[)\", \"({[)]\" and \"{{{\" are invalid.\n"
   ]
  },
  {
   "cell_type": "code",
   "execution_count": 1,
   "metadata": {},
   "outputs": [
    {
     "name": "stdout",
     "output_type": "stream",
     "text": [
      "Valid\n"
     ]
    }
   ],
   "source": [
    "class Checker:\n",
    "    def __init__(self):\n",
    "        self.opening_bracket = \"({[\"\n",
    "        self.closing_bracket = \")}]\"\n",
    "\n",
    "    def is_valid(self, input):\n",
    "        stack = []\n",
    "        for char in input:\n",
    "            if char in self.opening_bracket:\n",
    "                stack.append(char)\n",
    "            elif char in self.closing_bracket:\n",
    "                if not stack or self.opening_bracket.index(stack.pop()) != self.closing_bracket.index(char):\n",
    "                    return stack\n",
    "        return not stack\n",
    "\n",
    "input = input(\"Enter the string: \")\n",
    "validator = Checker()\n",
    "result = validator.is_valid(input)\n",
    "\n",
    "if result is True:\n",
    "    print(\"Valid\")\n",
    "else:\n",
    "    print(\"Invalid. Unmatched opening brackets:\", result)\n"
   ]
  },
  {
   "cell_type": "markdown",
   "metadata": {},
   "source": [
    "6.Write a Python class Employee with attributes like emp_id, emp_name, emp_salary, and emp_department and methods like calculate_emp_salary, emp_assign_department, and print_employee_details.\n",
    "\n",
    "Sample Employee Data:\n",
    "\"ADAMS\", \"E7876\", 50000, \"ACCOUNTING\"\n",
    "\"JONES\", \"E7499\", 45000, \"RESEARCH\"\n",
    "\"MARTIN\", \"E7900\", 50000, \"SALES\"\n",
    "\"SMITH\", \"E7698\", 55000, \"OPERATIONS\"\n",
    "Use 'assign_department' method to change the department of an employee.\n",
    "Use 'print_employee_details' method to print the details of an employee.\n",
    "Use 'calculate_emp_salary' method takes two arguments: salary and hours_worked, which is the number of hours worked by the employee. If the number of hours worked is more than 50, the method computes overtime and adds it to the salary. Overtime is calculated as following formula:\n",
    "overtime = hours_worked – 50\n",
    "Overtime amount = (overtime * (salary / 50))"
   ]
  },
  {
   "cell_type": "code",
   "execution_count": 5,
   "metadata": {},
   "outputs": [
    {
     "name": "stdout",
     "output_type": "stream",
     "text": [
      "\n",
      "Original Employee Details:\n",
      "Employee ID: E7876\n",
      "Employee Name: ADAMS\n",
      "Employee Salary: 50000\n",
      "Employee Department: ACCOUNTING\n",
      "\n",
      "Employee Details after department change:\n",
      "Employee ID: E7876\n",
      "Employee Name: ADAMS\n",
      "Employee Salary: 50000\n",
      "Employee Department: HR\n",
      "\n",
      "Original Employee Details:\n",
      "Employee ID: E7499\n",
      "Employee Name: JONES\n",
      "Employee Salary: 45000\n",
      "Employee Department: RESEARCH\n",
      "\n",
      "Employee Details after department change:\n",
      "Employee ID: E7499\n",
      "Employee Name: JONES\n",
      "Employee Salary: 45000\n",
      "Employee Department: HR\n",
      "\n",
      "Original Employee Details:\n",
      "Employee ID: E7900\n",
      "Employee Name: MARTIN\n",
      "Employee Salary: 50000\n",
      "Employee Department: SALES\n",
      "\n",
      "Employee Details after department change:\n",
      "Employee ID: E7900\n",
      "Employee Name: MARTIN\n",
      "Employee Salary: 50000\n",
      "Employee Department: HR\n",
      "\n",
      "Original Employee Details:\n",
      "Employee ID: E7698\n",
      "Employee Name: SMITH\n",
      "Employee Salary: 55000\n",
      "Employee Department: OPERATIONS\n",
      "\n",
      "Employee Details after department change:\n",
      "Employee ID: E7698\n",
      "Employee Name: SMITH\n",
      "Employee Salary: 55000\n",
      "Employee Department: HR\n"
     ]
    }
   ],
   "source": [
    "class Employee:\n",
    "    def __init__(self, emp_id, emp_name, emp_salary, emp_department):\n",
    "        self.emp_id = emp_id\n",
    "        self.emp_name = emp_name\n",
    "        self.emp_salary = emp_salary\n",
    "        self.emp_department = emp_department\n",
    "\n",
    "    def calculate_employee_salary(self, work_hour):\n",
    "        if work_hour > 50:\n",
    "            overtime = work_hour - 50\n",
    "            overtime_amount = (overtime * (self.emp_salary / 50))\n",
    "            total_salary = self.emp_salary + overtime_amount\n",
    "        else:\n",
    "            total_salary = self.emp_salary\n",
    "\n",
    "        return total_salary\n",
    "\n",
    "    def emp_assign_department(self, new_department):\n",
    "        self.emp_department = new_department\n",
    "\n",
    "    def print_emp_detail(self):\n",
    "        print(f\"Employee ID: {self.emp_id}\")\n",
    "        print(f\"Employee Name: {self.emp_name}\")\n",
    "        print(f\"Employee Salary: {self.emp_salary}\")\n",
    "        print(f\"Employee Department: {self.emp_department}\")\n",
    "\n",
    "\n",
    "employees = [\n",
    "    Employee(\"E7876\", \"ADAMS\", 50000, \"ACCOUNTING\"),\n",
    "    Employee(\"E7499\", \"JONES\", 45000, \"RESEARCH\"),\n",
    "    Employee(\"E7900\", \"MARTIN\", 50000, \"SALES\"),\n",
    "    Employee(\"E7698\", \"SMITH\", 55000, \"OPERATIONS\")\n",
    "]\n",
    "\n",
    "for emp in employees:\n",
    "    print(\"\\nOriginal Employee Details:\")\n",
    "    emp.print_emp_detail()\n",
    "    emp.emp_assign_department(\"HR\")\n",
    "    print(\"\\nEmployee Details after department change:\")\n",
    "    emp.print_emp_detail()\n"
   ]
  },
  {
   "cell_type": "markdown",
   "metadata": {},
   "source": [
    "7.Write a Python class Restaurant with attributes like menu_items, book_table, and customer_orders, and methods like add_item_to_menu, book_tables, and customer_order.\n",
    "\n",
    "Perform the following tasks now:\n",
    "Now add items to the menu.\n",
    "Make table reservations.\n",
    "Take customer orders.\n",
    "Print the menu.\n",
    "Print table reservations.\n",
    "Print customer orders.\n",
    "Note: Use dictionaries and lists to store the data."
   ]
  },
  {
   "cell_type": "code",
   "execution_count": 3,
   "metadata": {},
   "outputs": [
    {
     "name": "stdout",
     "output_type": "stream",
     "text": [
      "Table 1 has been successfully booked.\n",
      "Table 2 has been successfully booked.\n",
      "Table 1 is already booked. Please choose another table.\n",
      "Order for Table 1 has been placed with items: Pizza, Salad.\n",
      "Order for Table 2 has been placed with items: Burger.\n",
      "Menu:\n",
      "Pizza: $12.99\n",
      "Burger: $8.99\n",
      "Salad: $6.99\n",
      "Booked Tables:\n",
      "1, 2\n",
      "Customer Orders:\n",
      "Table 1 ordered: Pizza, Salad\n",
      "Table 2 ordered: Burger\n"
     ]
    }
   ],
   "source": [
    "class Restaurant:\n",
    "    def __init__(self):\n",
    "        self.menu_items = {}\n",
    "        self.booked_tables = []\n",
    "        self.customer_orders = []\n",
    "    def add_items(self, menu_items, booked_tables, customer_orders):\n",
    "        self.menu_items = menu_items\n",
    "        self.booked_tables = booked_tables\n",
    "        self.customer_orders = customer_orders\n",
    "    def add_item_to_menu(self, item_name, price):\n",
    "        self.menu_items[item_name] = price\n",
    "    def book_tables(self, table_number):\n",
    "        if table_number not in self.booked_tables:\n",
    "            self.booked_tables.append(table_number)\n",
    "            print(f\"Table {table_number} has been successfully booked.\")\n",
    "        else:\n",
    "            print(f\"Table {table_number} is already booked. Please choose another table.\")\n",
    "    def customer_order(self, table_number, items):\n",
    "        order = {\"table_number\": table_number, \"items\": items}\n",
    "        self.customer_orders.append(order)\n",
    "        print(f\"Order for Table {table_number} has been placed with items: {', '.join(items)}.\")\n",
    "    def print_menu(self):\n",
    "        print(\"Menu:\")\n",
    "        for item, price in self.menu_items.items():\n",
    "            print(f\"{item}: ${price}\")\n",
    "    def print_booked_tables(self):\n",
    "        print(\"Booked Tables:\")\n",
    "        print(\", \".join(map(str, self.booked_tables)))\n",
    "    def print_customer_orders(self):\n",
    "        print(\"Customer Orders:\")\n",
    "        for order in self.customer_orders:\n",
    "            print(f\"Table {order['table_number']} ordered: {', '.join(order['items'])}\")\n",
    "restaurant = Restaurant()\n",
    "restaurant.add_item_to_menu(\"Pizza\", 12.99)\n",
    "restaurant.add_item_to_menu(\"Burger\", 8.99)\n",
    "restaurant.add_item_to_menu(\"Salad\", 6.99)\n",
    "restaurant.book_tables(1)\n",
    "restaurant.book_tables(2)\n",
    "restaurant.book_tables(1) \n",
    "restaurant.customer_order(1, [\"Pizza\", \"Salad\"])\n",
    "restaurant.customer_order(2, [\"Burger\"])\n",
    "restaurant.print_menu()\n",
    "restaurant.print_booked_tables()\n",
    "restaurant.print_customer_orders()\n"
   ]
  },
  {
   "cell_type": "markdown",
   "metadata": {},
   "source": [
    "8.Write a Python class Inventory with attributes like item_id, item_name, stock_count, and price, and methods like add_item, update_item, and check_item_details.\n",
    "Use a dictionary to store the item details, where the key is the item_id and the value is a dictionary containing the item_name, stock_count, and price."
   ]
  },
  {
   "cell_type": "code",
   "execution_count": 2,
   "metadata": {},
   "outputs": [
    {
     "name": "stdout",
     "output_type": "stream",
     "text": [
      "\n",
      "1. Add Item\n",
      "2. Update Item\n",
      "3. Check Item Details\n",
      "4. Exit\n",
      "Item 1 added to inventory.\n",
      "\n",
      "1. Add Item\n",
      "2. Update Item\n",
      "3. Check Item Details\n",
      "4. Exit\n",
      "Item ID: 1\n",
      "Item Name: 1\n",
      "Stock Count: 20\n",
      "Price: 2000.0\n",
      "\n",
      "1. Add Item\n",
      "2. Update Item\n",
      "3. Check Item Details\n",
      "4. Exit\n",
      "Item with ID 3 not found in the inventory.\n",
      "\n",
      "1. Add Item\n",
      "2. Update Item\n",
      "3. Check Item Details\n",
      "4. Exit\n",
      "Item ID: 1\n",
      "Item Name: 1\n",
      "Stock Count: 20\n",
      "Price: 2000.0\n",
      "\n",
      "1. Add Item\n",
      "2. Update Item\n",
      "3. Check Item Details\n",
      "4. Exit\n",
      "Item 1 added to inventory.\n",
      "\n",
      "1. Add Item\n",
      "2. Update Item\n",
      "3. Check Item Details\n",
      "4. Exit\n",
      "Item with ID 1 already exists in the inventory.\n",
      "\n",
      "1. Add Item\n",
      "2. Update Item\n",
      "3. Check Item Details\n",
      "4. Exit\n"
     ]
    }
   ],
   "source": [
    "class Inventory:\n",
    "    def __init__(self):\n",
    "        self.items = {}\n",
    "    def add_item(self, item_id, item_name, stock_count, price):\n",
    "        if item_id not in self.items:\n",
    "            self.items[item_id] = {\n",
    "                'item_name': item_name,\n",
    "                'stock_count': stock_count,\n",
    "                'price': price\n",
    "            }\n",
    "            print(f\"Item {item_name} added to inventory.\")\n",
    "        else:\n",
    "            print(f\"Item with ID {item_id} already exists in the inventory.\")\n",
    "    def update_item(self, item_id, stock_count=None, price=None):\n",
    "        if item_id in self.items:\n",
    "            if stock_count is not None:\n",
    "                self.items[item_id]['stock_count'] = stock_count\n",
    "            if price is not None:\n",
    "                self.items[item_id]['price'] = price\n",
    "            print(f\"Item {self.items[item_id]['item_name']} updated.\")\n",
    "        else:\n",
    "            print(f\"Item with ID {item_id} not found in the inventory.\")\n",
    "    def check_item_details(self, item_id):\n",
    "        if item_id in self.items:\n",
    "            item_details = self.items[item_id]\n",
    "            print(f\"Item ID: {item_id}\")\n",
    "            print(f\"Item Name: {item_details['item_name']}\")\n",
    "            print(f\"Stock Count: {item_details['stock_count']}\")\n",
    "            print(f\"Price: {item_details['price']}\")\n",
    "        else:\n",
    "            print(f\"Item with ID {item_id} not found in the inventory.\")\n",
    "inventory = Inventory()\n",
    "while True:\n",
    "    print(\"\\n1. Add Item\")\n",
    "    print(\"2. Update Item\")\n",
    "    print(\"3. Check Item Details\")\n",
    "    print(\"4. Exit\")\n",
    "    choice = input(\"Enter your choice (1/2/3/4): \")\n",
    "    if choice == '1':\n",
    "        item_id = input(\"Enter Item ID: \")\n",
    "        item_name = input(\"Enter Item Name: \")\n",
    "        stock_count = int(input(\"Enter Stock Count: \"))\n",
    "        price = float(input(\"Enter Price: \"))\n",
    "        inventory.add_item(item_id, item_name, stock_count, price)\n",
    "    elif choice == '2':\n",
    "        item_id = input(\"Enter Item ID to update: \")\n",
    "        stock_count = input(\"Enter new Stock Count (press Enter to keep the current value): \")\n",
    "        price = input(\"Enter new Price (press Enter to keep the current value): \")\n",
    "        inventory.update_item(item_id, int(stock_count) if stock_count else None, float(price) if price else None)\n",
    "    elif choice == '3':\n",
    "        item_id = input(\"Enter Item ID to check details: \")\n",
    "        inventory.check_item_details(item_id)\n",
    "    elif choice == '4':\n",
    "        break\n",
    "    else:\n",
    "        print(\"Invalid choice. Please enter a valid option.\")"
   ]
  },
  {
   "cell_type": "code",
   "execution_count": null,
   "metadata": {},
   "outputs": [],
   "source": []
  }
 ],
 "metadata": {
  "kernelspec": {
   "display_name": "Python 3 (ipykernel)",
   "language": "python",
   "name": "python3"
  },
  "language_info": {
   "codemirror_mode": {
    "name": "ipython",
    "version": 3
   },
   "file_extension": ".py",
   "mimetype": "text/x-python",
   "name": "python",
   "nbconvert_exporter": "python",
   "pygments_lexer": "ipython3",
   "version": "3.10.13"
  },
  "orig_nbformat": 4
 },
 "nbformat": 4,
 "nbformat_minor": 2
}
