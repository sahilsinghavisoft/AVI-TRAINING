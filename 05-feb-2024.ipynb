{
 "cells": [
  {
   "cell_type": "markdown",
   "metadata": {},
   "source": [
    "1. Write a Python script to display the various Date Time formats -\n",
    "a) Current date and time\n",
    "b) Current year\n",
    "c) Month of year\n",
    "d) Week number of the year\n",
    "e) Weekday of the week\n",
    "f) Day of year\n",
    "g) Day of the month\n",
    "h) Day of week"
   ]
  },
  {
   "cell_type": "code",
   "execution_count": 27,
   "metadata": {},
   "outputs": [
    {
     "name": "stdout",
     "output_type": "stream",
     "text": [
      "current_date_time:  2024-02-05 11:22:09.270153\n",
      "current_year :  2024-02-05\n",
      "month of the year:  February\n",
      "week number of the year:  05\n",
      "weekday of the week:  Monday\n",
      "day of year : 036\n",
      "day of the month:  05\n",
      "day of the week 1\n"
     ]
    }
   ],
   "source": [
    "#a)\n",
    "import datetime\n",
    "current_date_time=datetime.datetime.now()\n",
    "print(\"current_date_time: \",current_date_time)\n",
    "#b)\n",
    "current_year=datetime.date.today()\n",
    "print(\"current_year : \",current_year)\n",
    "#c)\n",
    "monthofYear=current_date_time.strftime(\"%B\")\n",
    "print(\"month of the year: \",monthofYear)\n",
    "#d)\n",
    "weeknumberofyear=current_date_time.strftime(\"%U\")\n",
    "print(\"week number of the year: \",weeknumberofyear)\n",
    "#e)\n",
    "weekdayoftheweek=current_date_time.strftime(\"%A\")\n",
    "print(\"weekday of the week: \",weekdayoftheweek)\n",
    "#f)\n",
    "dayofyear=current_date_time.strftime(\"%j\")\n",
    "print(\"day of year :\",dayofyear)\n",
    "#g}\n",
    "dayofmonth=current_date_time.strftime(\"%d\")\n",
    "print(\"day of the month: \",dayofmonth)\n",
    "\n",
    "#h)\n",
    "dayofweek=current_date_time.strftime(\"%w\")\n",
    "print(\"day of the week\",dayofweek)\n"
   ]
  },
  {
   "cell_type": "markdown",
   "metadata": {},
   "source": [
    "2.Write a Python program to subtract five days from the current date.\n",
    "Sample Date :\n",
    "Current Date : 2015-06-22\n",
    "5 days before Current Date : 2015-06-17\n"
   ]
  },
  {
   "cell_type": "code",
   "execution_count": 20,
   "metadata": {},
   "outputs": [
    {
     "name": "stdout",
     "output_type": "stream",
     "text": [
      "2024-01-31\n"
     ]
    }
   ],
   "source": [
    "today=datetime.date.today()\n",
    "tdelta=datetime.timedelta(days=5)\n",
    "print(today-tdelta)\n",
    "\n"
   ]
  },
  {
   "cell_type": "markdown",
   "metadata": {},
   "source": [
    "3.Write a Python program to calculate the number of days between two date times."
   ]
  },
  {
   "cell_type": "code",
   "execution_count": 1,
   "metadata": {},
   "outputs": [
    {
     "name": "stdout",
     "output_type": "stream",
     "text": [
      "-13 days, 11:36:30\n"
     ]
    }
   ],
   "source": [
    "import datetime\n",
    "x=datetime.datetime.strptime(\"24-01-2024 00:00:00\",\"%d-%m-%Y %H:%M:%S\")\n",
    "y=datetime.datetime.strptime(\"05-02-2024 12:23:30\",\"%d-%m-%Y %H:%M:%S\")\n",
    "tdelta=x-y\n",
    "print(tdelta)\n"
   ]
  },
  {
   "cell_type": "markdown",
   "metadata": {},
   "source": [
    "4.Write a Python program to read an entire text file.\n"
   ]
  },
  {
   "cell_type": "code",
   "execution_count": 3,
   "metadata": {},
   "outputs": [
    {
     "name": "stdout",
     "output_type": "stream",
     "text": [
      "file created succesfullyexample.txt\n"
     ]
    }
   ],
   "source": [
    "filepath=\"example.txt\"\n",
    "content=\"\"\"Jujutsu Kaisen is an anime television series based on the manga series of the same name by Gege Akutami.\n",
    " The series adaptation was announced in the 52nd issue of Weekly Shōnen Jump published on November 25, 2019.\n",
    " [1]On February 12, 2022, a second season was announced.\n",
    " [2] Shōta Goshozono replaced Sunghoo Park as series director, with Sayaka Koiso and Tadashi Hiramatsu designing the characters and Yoshimasa Terui returning as the sole composer.\n",
    "[3] It aired from July 6 to December 28, 2023. \"\"\"\n",
    "with open(filepath,\"w\") as file:\n",
    "    file.write(content)\n",
    "    \n",
    "print(f\"file created succesfully{filepath}\")"
   ]
  },
  {
   "cell_type": "code",
   "execution_count": 4,
   "metadata": {},
   "outputs": [
    {
     "name": "stdout",
     "output_type": "stream",
     "text": [
      "Jujutsu Kaisen is an anime television series based on the manga series of the same name by Gege Akutami.\n",
      " The series adaptation was announced in the 52nd issue of Weekly Shōnen Jump published on November 25, 2019.\n",
      " [1]On February 12, 2022, a second season was announced.\n",
      " [2] Shōta Goshozono replaced Sunghoo Park as series director, with Sayaka Koiso and Tadashi Hiramatsu designing the characters and Yoshimasa Terui returning as the sole composer.\n",
      "[3] It aired from July 6 to December 28, 2023. \n"
     ]
    }
   ],
   "source": [
    "with open(\"example.txt\",\"r\") as file:\n",
    "    content1=file.read()\n",
    "print(content1)"
   ]
  },
  {
   "cell_type": "markdown",
   "metadata": {},
   "source": [
    "5.Write a Python program to read first n lines of a file."
   ]
  },
  {
   "cell_type": "code",
   "execution_count": 6,
   "metadata": {},
   "outputs": [
    {
     "name": "stdout",
     "output_type": "stream",
     "text": [
      "Jujutsu Kaisen is an anime television series based on the manga series of the same name by Gege Akutami.\n",
      "The series adaptation was announced in the 52nd issue of Weekly Shōnen Jump published on November 25, 2019.\n",
      "[1]On February 12, 2022, a second season was announced.\n",
      "[2] Shōta Goshozono replaced Sunghoo Park as series director, with Sayaka Koiso and Tadashi Hiramatsu designing the characters and Yoshimasa Terui returning as the sole composer.\n"
     ]
    }
   ],
   "source": [
    "n=4\n",
    "with open(\"example.txt\",\"r\") as file:\n",
    "    \n",
    "    for i in range(n):\n",
    "        line=file.readline()\n",
    "        if not line:\n",
    "            break\n",
    "        print(line.strip())"
   ]
  },
  {
   "cell_type": "markdown",
   "metadata": {},
   "source": [
    "6.Write a Python program to read last n lines of a file.\n"
   ]
  },
  {
   "cell_type": "code",
   "execution_count": 9,
   "metadata": {},
   "outputs": [
    {
     "name": "stdout",
     "output_type": "stream",
     "text": [
      "[3] It aired from July 6 to December 28, 2023.\n"
     ]
    }
   ],
   "source": [
    "n=1\n",
    "with open(\"example.txt\",\"r\") as file:\n",
    "\n",
    "        lines=file.readlines()\n",
    "        start_index = max(0, len(lines) - n)\n",
    "        for line in lines[start_index:]:\n",
    "            print(line.strip())"
   ]
  },
  {
   "cell_type": "markdown",
   "metadata": {},
   "source": [
    "7.Write a Python program to get the file size of a plain file."
   ]
  },
  {
   "cell_type": "code",
   "execution_count": 10,
   "metadata": {},
   "outputs": [
    {
     "name": "stdout",
     "output_type": "stream",
     "text": [
      "500\n"
     ]
    }
   ],
   "source": [
    "import os\n",
    "file_size=os.path.getsize(\"example.txt\")\n",
    "print(file_size)"
   ]
  },
  {
   "cell_type": "markdown",
   "metadata": {},
   "source": [
    "8.Write a Python program that takes a text file as input and returns the number of words of a given text file.\n",
    "Note: Some words can be separated by a comma with no space."
   ]
  },
  {
   "cell_type": "code",
   "execution_count": 13,
   "metadata": {},
   "outputs": [
    {
     "name": "stdout",
     "output_type": "stream",
     "text": [
      "3\n"
     ]
    }
   ],
   "source": [
    "filepath=\"example.1txt\"\n",
    "content=input((\"enter the words: \"))\n",
    "with open(filepath,\"w\") as file:\n",
    "    file.write(content)\n",
    "with open(filepath,\"r\") as file:\n",
    "    cont=file.read()\n",
    "    word=cont.replace(',',' ').split()\n",
    "    print(len(word))"
   ]
  },
  {
   "cell_type": "markdown",
   "metadata": {},
   "source": [
    "9.Write a Python program to generate 26 text files named A.txt, B.txt, and so on up to Z.txt.\n"
   ]
  },
  {
   "cell_type": "code",
   "execution_count": 7,
   "metadata": {},
   "outputs": [
    {
     "name": "stdout",
     "output_type": "stream",
     "text": [
      "<_io.TextIOWrapper name='A.txt' mode='w' encoding='UTF-8'>\n",
      "<_io.TextIOWrapper name='B.txt' mode='w' encoding='UTF-8'>\n",
      "<_io.TextIOWrapper name='C.txt' mode='w' encoding='UTF-8'>\n",
      "<_io.TextIOWrapper name='D.txt' mode='w' encoding='UTF-8'>\n",
      "<_io.TextIOWrapper name='E.txt' mode='w' encoding='UTF-8'>\n",
      "<_io.TextIOWrapper name='F.txt' mode='w' encoding='UTF-8'>\n",
      "<_io.TextIOWrapper name='G.txt' mode='w' encoding='UTF-8'>\n",
      "<_io.TextIOWrapper name='H.txt' mode='w' encoding='UTF-8'>\n",
      "<_io.TextIOWrapper name='I.txt' mode='w' encoding='UTF-8'>\n",
      "<_io.TextIOWrapper name='J.txt' mode='w' encoding='UTF-8'>\n",
      "<_io.TextIOWrapper name='K.txt' mode='w' encoding='UTF-8'>\n",
      "<_io.TextIOWrapper name='L.txt' mode='w' encoding='UTF-8'>\n",
      "<_io.TextIOWrapper name='M.txt' mode='w' encoding='UTF-8'>\n",
      "<_io.TextIOWrapper name='N.txt' mode='w' encoding='UTF-8'>\n",
      "<_io.TextIOWrapper name='O.txt' mode='w' encoding='UTF-8'>\n",
      "<_io.TextIOWrapper name='P.txt' mode='w' encoding='UTF-8'>\n",
      "<_io.TextIOWrapper name='Q.txt' mode='w' encoding='UTF-8'>\n",
      "<_io.TextIOWrapper name='R.txt' mode='w' encoding='UTF-8'>\n",
      "<_io.TextIOWrapper name='S.txt' mode='w' encoding='UTF-8'>\n",
      "<_io.TextIOWrapper name='T.txt' mode='w' encoding='UTF-8'>\n",
      "<_io.TextIOWrapper name='U.txt' mode='w' encoding='UTF-8'>\n",
      "<_io.TextIOWrapper name='V.txt' mode='w' encoding='UTF-8'>\n",
      "<_io.TextIOWrapper name='W.txt' mode='w' encoding='UTF-8'>\n",
      "<_io.TextIOWrapper name='X.txt' mode='w' encoding='UTF-8'>\n",
      "<_io.TextIOWrapper name='Y.txt' mode='w' encoding='UTF-8'>\n",
      "<_io.TextIOWrapper name='Z.txt' mode='w' encoding='UTF-8'>\n"
     ]
    }
   ],
   "source": [
    "import string\n",
    "for letter in string.ascii_uppercase:\n",
    "    file_name=f\"{letter}.txt\"\n",
    "    with open(file_name,\"w\") as file:\n",
    "        file.write(f\"this is the content of {file_name}:\")\n",
    "        print(file)\n"
   ]
  },
  {
   "cell_type": "markdown",
   "metadata": {},
   "source": [
    "10.Write a Python program to read each row from a given csv file and print a list of strings.\n"
   ]
  },
  {
   "cell_type": "code",
   "execution_count": 17,
   "metadata": {},
   "outputs": [
    {
     "name": "stdout",
     "output_type": "stream",
     "text": [
      "['Name', 'Age', 'City']\n",
      "['John Doe', '30', 'New York']\n",
      "['Jane Smith', '25', 'San Francisco']\n",
      "['Bob Johnson', '35', 'Los Angeles']\n"
     ]
    }
   ],
   "source": [
    "import csv\n",
    "csv_file_path = 'data.csv'\n",
    "data = [\n",
    "    ['Name', 'Age', 'City'],\n",
    "    ['John Doe', 30, 'New York'],\n",
    "    ['Jane Smith', 25, 'San Francisco'],\n",
    "    ['Bob Johnson', 35, 'Los Angeles'],\n",
    "]\n",
    "with open(csv_file_path, 'w', newline='') as csvfile:\n",
    "    csv_writer = csv.writer(csvfile)\n",
    "        \n",
    "    csv_writer.writerows(data)\n",
    "\n",
    "with open(csv_file_path,'r',newline='') as file:\n",
    "    csv_reader=csv.reader(file)\n",
    "    for row in csv_reader:\n",
    "        print(row)\n"
   ]
  },
  {
   "cell_type": "markdown",
   "metadata": {},
   "source": [
    "11.Write a Python program to read a given CSV file having tab delimiter."
   ]
  },
  {
   "cell_type": "code",
   "execution_count": 22,
   "metadata": {},
   "outputs": [
    {
     "name": "stdout",
     "output_type": "stream",
     "text": [
      "['Name,Age,City']\n",
      "['John Doe,30,New York']\n",
      "['Jane Smith,25,San Francisco']\n",
      "['Bob Johnson,35,Los Angeles']\n"
     ]
    }
   ],
   "source": [
    "with open(csv_file_path,'r',newline='') as file:\n",
    "    csv_reader=csv.reader(file, delimiter='\\t')\n",
    "    for row in csv_reader:\n",
    "        print(row)"
   ]
  },
  {
   "cell_type": "markdown",
   "metadata": {},
   "source": [
    "12.Write a Python program that reads a CSV file and remove initial spaces, quotes around each entry and the delimiter.\n"
   ]
  },
  {
   "cell_type": "code",
   "execution_count": 31,
   "metadata": {},
   "outputs": [
    {
     "name": "stdout",
     "output_type": "stream",
     "text": [
      "['Name', 'Age', 'City']\n",
      "['John Doe', '30', 'New York']\n",
      "['Jane Smith', '25', 'San Francisco']\n",
      "['Bob Johnson', '35', 'Los Angeles']\n"
     ]
    }
   ],
   "source": [
    "\n",
    "with open(csv_file_path,'r',newline='') as file:\n",
    "    csv_reader=csv.reader(file)\n",
    "    cleaned_data = [[entry.strip().strip('\"') for entry in row] for row in csv_reader]\n",
    "    for row in cleaned_data:\n",
    "        print(row)"
   ]
  },
  {
   "cell_type": "markdown",
   "metadata": {},
   "source": [
    "13.Write a Python program to read specific columns of a given CSV file and print the content of the columns.\n"
   ]
  },
  {
   "cell_type": "code",
   "execution_count": 30,
   "metadata": {},
   "outputs": [
    {
     "name": "stdout",
     "output_type": "stream",
     "text": [
      "['Name', 'Age', 'City']\n",
      "['John Doe', '30', 'New York']\n",
      "['Jane Smith', '25', 'San Francisco']\n",
      "['Bob Johnson', '35', 'Los Angeles']\n"
     ]
    }
   ],
   "source": [
    "columns_to_read=[0,1,2]\n",
    "with open(csv_file_path,'r',newline='') as file:\n",
    "    csv_reader=csv.reader(file)\n",
    "    for row in csv_reader:\n",
    "        selected_column=[row[i] for i in columns_to_read]\n",
    "        print(selected_column)"
   ]
  },
  {
   "cell_type": "code",
   "execution_count": null,
   "metadata": {},
   "outputs": [],
   "source": []
  }
 ],
 "metadata": {
  "kernelspec": {
   "display_name": "Python 3 (ipykernel)",
   "language": "python",
   "name": "python3"
  },
  "language_info": {
   "codemirror_mode": {
    "name": "ipython",
    "version": 3
   },
   "file_extension": ".py",
   "mimetype": "text/x-python",
   "name": "python",
   "nbconvert_exporter": "python",
   "pygments_lexer": "ipython3",
   "version": "3.11.5"
  },
  "orig_nbformat": 4
 },
 "nbformat": 4,
 "nbformat_minor": 2
}
