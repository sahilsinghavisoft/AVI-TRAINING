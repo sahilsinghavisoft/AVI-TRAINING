{
 "cells": [
  {
   "cell_type": "code",
   "execution_count": null,
   "metadata": {},
   "outputs": [],
   "source": []
  },
  {
   "cell_type": "markdown",
   "metadata": {},
   "source": [
    "1.Write a Python program to copy the contents of a file to another file\n"
   ]
  },
  {
   "cell_type": "code",
   "execution_count": 1,
   "metadata": {},
   "outputs": [
    {
     "name": "stdout",
     "output_type": "stream",
     "text": [
      "Content copied successfully from '<_io.TextIOWrapper name='donald_speech.txt' mode='r' encoding='UTF-8'>' to '<_io.TextIOWrapper name='destination.txt' mode='w' encoding='UTF-8'>'.\n"
     ]
    }
   ],
   "source": [
    "sourcefile=\"donald_speech.txt\"\n",
    "destinationfile='destination.txt'\n",
    "with open(sourcefile,\"r\") as sourcefile , open(destinationfile,'w') as destinationfile:\n",
    "    content=sourcefile.read()\n",
    "    destinationfile.write(content)\n",
    "print(\"Content copied successfully from '{}' to '{}'.\".format(sourcefile, destinationfile))\n"
   ]
  },
  {
   "cell_type": "markdown",
   "metadata": {},
   "source": [
    "2.Write a Python program to combine each line from first file with the corresponding line in second file.\n"
   ]
  },
  {
   "cell_type": "code",
   "execution_count": 4,
   "metadata": {},
   "outputs": [
    {
     "name": "stdout",
     "output_type": "stream",
     "text": [
      "Chief Justice Roberts, President Carter, President Clinton,President Bush, fellow Americans and people of the world – thank you. From stephen.marquard@uct.ac.za Sat Jan  5 09:14:16 2008\n",
      "We the citizens of America have now joined a great national effort to rebuild our county and restore its promise for all our people. Return-Path: <postmaster@collab.sakaiproject.org>\n",
      "Together we will determine the course of America for many, many years to come. Received: from murder (mail.umich.edu [141.211.14.90])\n",
      "Together we will face challenges. We will confront hardships. But we will get the job done. by frankenstein.mail.umich.edu (Cyrus v2.3.8) with LMTPA;\n",
      "Every four years we gather on these steps to carry out the orderly and peaceful transfer of power. Sat, 05 Jan 2008 09:14:16 -0500\n",
      "And we are grateful to President Obama and First Lady Michelle Obama for their gracious aid throughout this transition. They have been magnificent, thank you. X-Sieve: CMU Sieve 2.3\n",
      "Today’s ceremony, however, has very special meaning because today we are not merely transferring power from one administration to another – but transferring it from Washington DC and giving it back to you the people. Received: from murder ([unix socket])\n",
      "For too long a small group in our nation’s capital has reaped the rewards of government while the people have borne the cost. by mail.umich.edu (Cyrus v2.2.12) with LMTPA;\n",
      "Washington flourished but the people did not share in its wealth. Politicians prospered but the jobs left and the factories closed.The establishment protected itself but not the citizens of our country. Sat, 05 Jan 2008 09:14:16 -0500\n",
      "Their victories have not been your victories. Their triumphs have not been your triumphs. While they have celebrated there has been little to celebrate for struggling families all across our land. Received: from holes.mr.itd.umich.edu (holes.mr.itd.umich.edu [141.211.14.79])\n",
      "That all changes starting right here and right now because this moment is your moment. It belongs to you. It belongs to everyone gathered here today and everyone watching all across America today. by flawless.mail.umich.edu () with ESMTP id m05EEFR1013674;\n",
      "This is your day.This is your celebration.And this – the United States of America – is your country.What truly matters is not what party controls our government but that this government is controlled by the people. Sat, 5 Jan 2008 09:14:15 -0500\n",
      "Today, January 20 2017, will be remembered as the day the people became the rulers of this nation again.The forgotten men and women of our country will be forgotten no longer. Everyone is listening to you now. Received: FROM paploo.uhi.ac.uk (app1.prod.collab.uhi.ac.uk [194.35.219.184])\n",
      "You came by the tens of millions to become part of a historic movement –  the likes of which the world has never seen before. BY holes.mr.itd.umich.edu ID 477F90B0.2DB2F.12494 ;\n",
      "At the centre of this movement is a crucial conviction – that a nation exists to serve its citizens.Americans want great schools for their children, safe neighbourhoods for their families and good jobs for themselves. 5 Jan 2008 09:14:10 -0500\n",
      "These are just and reasonable demands.Mothers and children trapped in poverty in our inner cities, rusted out factories scattered like tombstones across the landscape of our nation. Received: from paploo.uhi.ac.uk (localhost [127.0.0.1])\n",
      "An education system flushed with cash, but which leaves our young and beautiful students deprived of all knowledge. And the crime and the gangs and the drugs which deprive people of so much unrealised potential. by paploo.uhi.ac.uk (Postfix) with ESMTP id 5F919BC2F2;\n",
      "We are one nation, and their pain is our pain, their dreams are our dreams, we share one nation, one home and one glorious destiny. Sat,  5 Jan 2008 14:10:05 +0000 (GMT)\n",
      "Today I take an oath of allegiance to all Americans. For many decades, we’ve enriched foreign industry at the expense of American industry, subsidised the armies of other countries, while allowing the sad depletion of our own military. Message-ID: <200801051412.m05ECIaH010327@nakamura.uits.iupui.edu>\n",
      "We've defended other nations’ borders while refusing to defend our own.And spent trillions and trillions of dollars overseas while America’s infrastructure has fallen into disrepair and decay. Mime-Version: 1.0\n",
      "We have made other countries rich while the wealth, strength and confidence of our country has dissipated over the horizon. Content-Transfer-Encoding: 7bit\n",
      "One by one, shutters have closed on our factories without even a thought about the millions and millions of those who have been left behind. Received: from prod.collab.uhi.ac.uk ([194.35.219.182])\n",
      "But that is the past and now we are looking only to the future. by paploo.uhi.ac.uk (JAMES SMTP Server 2.1.3) with SMTP ID 899\n",
      "We assembled here today are issuing a new decree to be heard in every city, in every foreign capital, in every hall of power – from this day on a new vision will govern our land – from this day onwards it is only going to be America first – America first! for <source@collab.sakaiproject.org>;\n",
      "Every decision on trade, on taxes, on immigration, on foreign affairs will be made to benefit American workers and American families. Sat, 5 Jan 2008 14:09:50 +0000 (GMT)\n",
      "Protection will lead to great prosperity and strength. I will fight for you with every bone in my body and I will never ever let you down. Received: from nakamura.uits.iupui.edu (nakamura.uits.iupui.edu [134.68.220.122])\n",
      "America will start winning again. America will start winning like never before. by shmi.uhi.ac.uk (Postfix) with ESMTP id A215243002\n",
      "We will bring back our jobs, we will bring back our borders, we will bring back our wealth, we will bring back our dreams. for <source@collab.sakaiproject.org>; Sat,  5 Jan 2008 14:13:33 +0000 (GMT)\n",
      "We will bring new roads and high roads and bridges and tunnels and railways all across our wonderful nation. Received: from nakamura.uits.iupui.edu (localhost [127.0.0.1])\n",
      "We will get our people off welfare and back to work – rebuilding our country with American hands and American labour. by nakamura.uits.iupui.edu (8.12.11.20060308/8.12.11) with ESMTP id m05ECJVp010329\n",
      "We will follow two simple rules – buy American and hire American. for <source@collab.sakaiproject.org>; Sat, 5 Jan 2008 09:12:19 -0500\n",
      "We see good will with the nations of the world but we do so with the understanding that it is the right of all nations to put their nations first. Received: (from apache@localhost)\n",
      "We will shine for everyone to follow.We will reinforce old alliances and form new ones, and untie the world against radical Islamic terrorism which we will eradicate from the face of the earth. by nakamura.uits.iupui.edu (8.12.11.20060308/8.12.11/Submit) id m05ECIaH010327\n",
      "At the bed rock of our politics will be an allegiance to the United States.And we will discover new allegiance to each other. There is no room for prejudice. for source@collab.sakaiproject.org; Sat, 5 Jan 2008 09:12:18 -0500\n",
      "The bible tells us how good and pleasant it is when god’s people live together in unity.When America is united, America is totally unstoppable Date: Sat, 5 Jan 2008 09:12:18 -0500\n",
      "There is no fear, we are protected and will always be protected by the great men and women of our military and most importantly we will be protected by god. X-Authentication-Warning: nakamura.uits.iupui.edu: apache set sender to stephen.marquard@uct.ac.za using -f\n",
      "Finally, we must think big and dream even bigger. As Americans, we know we live as a nation only when it is striving. To: source@collab.sakaiproject.org\n",
      "We will no longer accept politicians who are always complaining but never doing anything about it.The time for empty talk is over, now arrives the hour of action. From: stephen.marquard@uct.ac.za\n",
      "Do not allow anyone to tell you it cannot be done. No challenge can match the heart and fight and spirit of America. We will not fail, our country will thrive and prosper again. Subject: [sakai] svn commit: r39772 - content/branches/sakai_2-5-x/content-impl/impl/src/java/org/sakaiproject/content/impl\n",
      "We stand at the birth of a new millennium, ready to unlock the mysteries of space, to free the earth from the miseries of disease, to harvest the energies, industries and technologies of tomorrow. X-Content-Type-Outer-Envelope: text/plain; charset=UTF-8\n",
      "A new national pride will stir ourselves, lift our sights and heal our divisions. It’s time to remember that old wisdom our soldiers will never forget, that whether we are black or brown or white, we all bleed the same red blood of patriots. X-Content-Type-Message-Body: text/plain; charset=UTF-8\n",
      "We all enjoy the same glorious freedoms and we all salute the same great American flag and whether a child is born in the urban sprawl of Detroit or the windswept plains of Nebraska, they look at the same night sky, and dream the same dreams, and they are infused with the breath by the same almighty creator. Content-Type: text/plain; charset=UTF-8\n",
      "So to all Americans in every city near and far, small and large, from mountain to mountain, from ocean to ocean – hear these words – you will never be ignored again. X-DSPAM-Result: Innocent\n",
      "Your voice, your hopes and dreams will define your American destiny.Your courage, goodness and love will forever guide us along the way. X-DSPAM-Processed: Sat Jan  5 09:14:16 2008\n",
      "Together we will make America strong again, we will make America wealthy again, we will make America safe again and yes – together we will make America great again. X-DSPAM-Confidence: 0.8475\n",
      "Thank you. X-DSPAM-Probability: 0.0000\n",
      "God bless you. \n",
      "And god bless America. Details: http://source.sakaiproject.org/viewsvn/?view=rev&rev=39772\n"
     ]
    }
   ],
   "source": [
    "\n",
    "file1_path = \"donald_speech.txt\"\n",
    "file2_path = \"email_exchanges_big.txt\"\n",
    "with open(file1_path, 'r') as file1, open(file2_path, 'r') as file2:\n",
    "\n",
    "    for line1, line2 in zip(file1, file2):\n",
    "        \n",
    "        combined_line = f\"{line1.strip()} {line2.strip()}\"\n",
    "        print(combined_line)"
   ]
  },
  {
   "cell_type": "markdown",
   "metadata": {},
   "source": [
    "3.Write a Python program to write 10 random numbers into a file. Read the file and then sort the numbers and then store it to another file."
   ]
  },
  {
   "cell_type": "code",
   "execution_count": 17,
   "metadata": {},
   "outputs": [],
   "source": [
    "import random\n",
    "source = \"file20.txt\"\n",
    "with open(source, \"w\") as file20:\n",
    "    l = [random.randint(1, 100) for i in range(10)]\n",
    "    for num in l:\n",
    "        file20.write(str(num) + \"\\n\")\n",
    "with open(source, \"r\") as file20:\n",
    "    numbers = [int(line.strip()) for line in file20]\n",
    "sorted_numbers = sorted(numbers)\n",
    "with open(\"sorted_numbers.txt\", \"w\") as file:\n",
    "    for num in sorted_numbers:\n",
    "        file.write(str(num) + \"\\n\")\n"
   ]
  },
  {
   "cell_type": "markdown",
   "metadata": {},
   "source": [
    "4.Write a program to read through the mbox-short.txt and\n",
    "figure out the distribution by hour of the day for each of the messages.\n",
    "You can pull the hour out from the 'From ' line by finding the time\n",
    "and then splitting the string a second time using a colon.\n",
    "From stephen.marquard@uct.ac.za Sat Jan  5 09:14:16 2008\n",
    "Once you have accumulated the counts for each hour, print out the counts,\n",
    "sorted by hour as shown below. Note that the autograder\n",
    "does not have support for the sorted() func"
   ]
  },
  {
   "cell_type": "code",
   "execution_count": 25,
   "metadata": {},
   "outputs": [
    {
     "name": "stdout",
     "output_type": "stream",
     "text": [
      "04 3\n",
      "06 1\n",
      "07 1\n",
      "09 2\n",
      "10 3\n",
      "11 6\n",
      "14 1\n",
      "15 2\n",
      "16 4\n",
      "17 2\n",
      "18 1\n",
      "19 1\n"
     ]
    }
   ],
   "source": [
    "filepath = \"mbox-short.txt\"\n",
    "count = {}\n",
    "\n",
    "with open(filepath, \"r\") as file:\n",
    "    for line in file:\n",
    "        if line.startswith(\"From\"):\n",
    "            parts = line.split() \n",
    "            if len(parts) >= 6:  \n",
    "                timepart = parts[5]\n",
    "                hour = timepart.split(\":\")[0]\n",
    "                count[hour] = count.get(hour, 0) + 1\n",
    "\n",
    "for hour,count in sorted(count.items()):  \n",
    "    print(hour, count)\n"
   ]
  },
  {
   "cell_type": "markdown",
   "metadata": {},
   "source": [
    "5.Write a function which count number of lines and number of words in a text. All the files are in the data the folder: a) Read obama_speech.txt file and count number of lines and words b) Read michelle_obama_speech.txt file and count number of lines and words c) Read donald_speech.txt file and count number of lines and words d) Read melina_trump_speech.txt file and count number of lines and words"
   ]
  },
  {
   "cell_type": "code",
   "execution_count": 43,
   "metadata": {},
   "outputs": [
    {
     "name": "stdout",
     "output_type": "stream",
     "text": [
      "Number of lines in obama_speech.txt: 66\n",
      "Number of words in obama_speech.txt: 2091\n",
      "Number of lines in michelle_obama_speech.txt: 83\n",
      "Number of words in michelle_obama_speech.txt: 1897\n",
      "Number of lines in donald_speech.txt: 48\n",
      "Number of words in donald_speech.txt: 1104\n",
      "Number of lines in melina_trump_speech.txt: 33\n",
      "Number of words in melina_trump_speech.txt: 1177\n"
     ]
    }
   ],
   "source": [
    "\n",
    "def words_line(filename):\n",
    "    with open(filename, \"r\") as file:\n",
    "        count_word = 0\n",
    "        count_line = 0\n",
    "        for line in file:\n",
    "            count_line += 1\n",
    "            \n",
    "            words = line.split()\n",
    "            for word in words:\n",
    "              if word.isalpha():\n",
    "               count_word += 1\n",
    "\n",
    "    print(f\"Number of lines in {filename}: {count_line}\")\n",
    "    print(f\"Number of words in {filename}: {count_word}\")\n",
    "\n",
    "words_line(\"obama_speech.txt\")\n",
    "words_line(\"michelle_obama_speech.txt\")\n",
    "words_line(\"donald_speech.txt\")\n",
    "words_line(\"melina_trump_speech.txt\")\n"
   ]
  },
  {
   "cell_type": "markdown",
   "metadata": {},
   "source": [
    "6.Find the most common words in the English language. Call the name of your function find_most_common_words, it will take two parameters - a string or a file and a positive integer, indicating the number of words. Your function will return an array of tuples in descending order. Check the output\n"
   ]
  },
  {
   "cell_type": "code",
   "execution_count": 37,
   "metadata": {},
   "outputs": [
    {
     "name": "stdout",
     "output_type": "stream",
     "text": [
      "[('the', 129), ('and', 113), ('of', 81), ('to', 70), ('our', 67), ('we', 62), ('that', 48), ('a', 48), ('is', 36), ('in', 25)]\n"
     ]
    }
   ],
   "source": [
    "def find_most_common_words(filename, n):\n",
    "    word_freq = {}\n",
    "    with open(filename, 'r') as file:\n",
    "        for line in file:\n",
    "            words = line.strip().lower().split()\n",
    "            for word in words:          \n",
    "                word = word.strip('.,!?:;\"\\'')\n",
    "                #if word.isalpha(): \n",
    "                word_freq[word] = word_freq.get(word, 0) + 1\n",
    "    sorted_words = sorted(word_freq.items(), key=lambda x: x[1], reverse=True) \n",
    "    return sorted_words[:n]\n",
    "common_words = find_most_common_words('obama_speech.txt', 10)\n",
    "print(common_words)\n",
    "\n"
   ]
  },
  {
   "cell_type": "markdown",
   "metadata": {},
   "source": [
    "7.Write a program that computes the net amount of a bank account based a transaction log from console input. The transaction log format is shown as following: D 100 W 200\n",
    "\n",
    "D means deposit while W means withdrawal. Suppose the following input is supplied to the program:  Then, the D 300 D 300 W 200 D 100output should be: 500"
   ]
  },
  {
   "cell_type": "code",
   "execution_count": 6,
   "metadata": {},
   "outputs": [
    {
     "name": "stdout",
     "output_type": "stream",
     "text": [
      "150\n"
     ]
    }
   ],
   "source": [
    "total = 0\n",
    "while True:\n",
    "    user_input = input(\"Enter the data: \")\n",
    "    if user_input == \"\":  \n",
    "        break\n",
    "    else:\n",
    "        user_input = user_input.split(\" \")\n",
    "        if user_input[0] == \"D\":  \n",
    "            total += int(user_input[1])\n",
    "        elif user_input[0] == \"W\":  \n",
    "            total -= int(user_input[1])\n",
    "print(total)\n"
   ]
  },
  {
   "cell_type": "markdown",
   "metadata": {},
   "source": [
    "8.Assuming that we have some email addresses in the \"username@companyname.com\" format, please write program to print the company name of a given email address. Both user names and company names are composed of letters only.\n",
    "\n",
    "Example: If the following email address is given as input to the program:\n",
    "\n",
    "john@google.com\n",
    "\n",
    "Then, the output of the program should be:\n",
    "\n",
    "google\n",
    "\n",
    "In case of input data being supplied to the question, it should be assumed to be a console input.\n"
   ]
  },
  {
   "cell_type": "code",
   "execution_count": 2,
   "metadata": {},
   "outputs": [
    {
     "name": "stdout",
     "output_type": "stream",
     "text": [
      "avisoft\n"
     ]
    }
   ],
   "source": [
    "def companyname(email):\n",
    "    output = \"\"\n",
    "    for i in range(len(email)):\n",
    "        for j in range(len(email)):\n",
    "            if email[i] == \"@\" and email[j] == \".\":\n",
    "                output = email[i + 1:j]\n",
    "    return output\n",
    "\n",
    "email = input(\"Enter the email: \")\n",
    "print(companyname(email))\n",
    "\n"
   ]
  },
  {
   "cell_type": "code",
   "execution_count": null,
   "metadata": {},
   "outputs": [],
   "source": []
  }
 ],
 "metadata": {
  "kernelspec": {
   "display_name": "Python 3 (ipykernel)",
   "language": "python",
   "name": "python3"
  },
  "language_info": {
   "codemirror_mode": {
    "name": "ipython",
    "version": 3
   },
   "file_extension": ".py",
   "mimetype": "text/x-python",
   "name": "python",
   "nbconvert_exporter": "python",
   "pygments_lexer": "ipython3",
   "version": "3.10.13"
  },
  "orig_nbformat": 4
 },
 "nbformat": 4,
 "nbformat_minor": 2
}
