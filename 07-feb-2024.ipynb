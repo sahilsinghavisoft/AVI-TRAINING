{
 "cells": [
  {
   "cell_type": "code",
   "execution_count": null,
   "metadata": {},
   "outputs": [],
   "source": []
  },
  {
   "cell_type": "markdown",
   "metadata": {},
   "source": [
    "1.Write a function that accepts a line of text and a single letter as input (your program should be able to handle all upper and lower cases) and returns the number of times this letter is the second last character of a word. Note your program should be able to handle different cases. And check if the user input is a single letter. Think about how you deal with words ending with punctuation. Example: Input text = \".\" Input letter =When the sun rises at dawn, the CHICKEN flies into the window \"E\" Output = \"The letter E has appeared 4 times as the second last letter of a word.\""
   ]
  },
  {
   "cell_type": "code",
   "execution_count": 13,
   "metadata": {},
   "outputs": [
    {
     "name": "stdout",
     "output_type": "stream",
     "text": [
      "['WHEN', 'THE', 'SUN', 'RISES', 'AT', 'DAWN,', 'THE', 'CHICKEN', 'FLIES', 'INTO', 'THE', 'WINDOW']\n",
      "The letter E has appeared 4 times as the second last letter of a word\n"
     ]
    }
   ],
   "source": [
    "def check_second_character(input_string, input_letter):\n",
    "    words = input_string.upper().split()\n",
    "    letter = input_letter.upper()\n",
    "    print(words)\n",
    "    count = 0\n",
    "    for word in words:\n",
    "        if len(word) > 1:\n",
    "            if word[-2] == letter:\n",
    "                count += 1\n",
    "    print(f\"The letter {letter} has appeared {count} times as the second last letter of a word\")\n",
    "\n",
    "input_string = input(\"Enter the string: \")\n",
    "input_letter = input(\"Enter the letter: \")\n",
    "check_second_character(input_string, input_letter)\n"
   ]
  },
  {
   "cell_type": "markdown",
   "metadata": {},
   "source": []
  },
  {
   "cell_type": "code",
   "execution_count": 69,
   "metadata": {},
   "outputs": [
    {
     "name": "stdout",
     "output_type": "stream",
     "text": [
      "String After Applying desired Operation is: helo word\n"
     ]
    }
   ],
   "source": [
    "def remove_every_nth(word, n):\n",
    "    return word[:n] + word[n+1:]\n",
    "\n",
    "def remove_odd_places(word):\n",
    "    return ''.join(word[i] for i in range(len(word)) if i % 2 != 0)\n",
    "\n",
    "def remove_even_places(word):\n",
    "    return ''.join(word[i] for i in range(len(word)) if i % 2 == 0)\n",
    "\n",
    "text = input(\"Enter String: \")\n",
    "choice = input(\"Enter choice ('Odd' to remove odd-indexed characters, 'Even' to remove even-indexed characters, 'N' to remove Nth character): \").upper()\n",
    "\n",
    "if choice == 'N':\n",
    "    n = int(input(\"Enter Value of N index to remove Character: \"))\n",
    "\n",
    "words = text.split()\n",
    "modified_words = []\n",
    "\n",
    "for word in words:\n",
    "    if choice == 'ODD':\n",
    "        modified_word = remove_odd_places(word)\n",
    "    elif choice == 'EVEN':\n",
    "        modified_word = remove_even_places(word)\n",
    "    elif choice == 'N':\n",
    "        modified_word = remove_every_nth(word, n)\n",
    "    else:\n",
    "        print(\"Invalid input for word '{}'!\".format(word))\n",
    "        modified_word = word\n",
    "    modified_words.append(modified_word)\n",
    "\n",
    "result = ' '.join(modified_words)\n",
    "print(\"String After Applying desired Operation is:\", result)\n",
    "\n"
   ]
  },
  {
   "cell_type": "markdown",
   "metadata": {},
   "source": [
    "3.Write a Python program to create a Caesar encryption. Your program will first ask for the input of a secret message, then ask how many places you wish to shift each letter in the alphabet. In the end, your program will produce the shifted secret message as a string. Your program should be able to handle all upper and lower cases, and check if the user inputs are valid. Note: In cryptography, a Caesar cipher, also known as Caesar's cipher, the shift cipher, Caesar's code or Caesar shift, is one of the simplest and most widely known encryption techniques. It is a type of substitution cipher in which each letter in the plaintext is replaced by a letter some fixed number of positions down the alphabet. For example, with a shift of 3, A would be replaced by D, B would become E, and so on. The method is named after Julius Caesar, who used it in his private correspondence. Example: Secret message = \"This is a secret message\" Shift = 5 Each letter is shifted 5 places down in alphabetical order. Secret output: \"ymnx nx f xjhwjy rjxxflj\" Hint: 1, the 26 letters in the alphabet are not indexed, put them into a list and index them first. 2, Think about what to do when the shifted letter goes beyond 26. e.g. letter z shifted by 5?"
   ]
  },
  {
   "cell_type": "markdown",
   "metadata": {},
   "source": []
  },
  {
   "cell_type": "code",
   "execution_count": 72,
   "metadata": {},
   "outputs": [
    {
     "data": {
      "text/plain": [
       "'cdef'"
      ]
     },
     "execution_count": 72,
     "metadata": {},
     "output_type": "execute_result"
    }
   ],
   "source": [
    "def string(str1,n):\n",
    "    str9=\"\"\n",
    "    for i in range(len(str1)):\n",
    "        if str1[i].isupper():\n",
    "            str9+=chr((ord(str1[i])-ord(\"A\")+n)%26+ord(\"A\"))\n",
    "        elif str1[i].islower():\n",
    "            str9+=chr((ord(str1[i])-ord(\"a\")+n)%26+ord(\"a\"))\n",
    "        else:\n",
    "            str9+=str1[i]\n",
    "    return str9\n",
    "str1=input(\"enter the string\")\n",
    "n=int(input(\"enter the shifting value: \"))\n",
    "string(str1,n)"
   ]
  },
  {
   "cell_type": "markdown",
   "metadata": {},
   "source": [
    "4.Write a Python program to ask how many elements users want to create in a list, then let the user create 2 lists with the number of elements previously entered. Then create and display all combinations of letters, selecting each letter from a different key in a dictionary, and place all these combinations in a new list. Example: How many elements? 2 List 1 = ['a', 'b'] List 2 = ['c','d'] Output: newlist = [ac, ad, bc, bd]"
   ]
  },
  {
   "cell_type": "markdown",
   "metadata": {},
   "source": []
  },
  {
   "cell_type": "code",
   "execution_count": 76,
   "metadata": {},
   "outputs": [
    {
     "name": "stdout",
     "output_type": "stream",
     "text": [
      "['ac', 'ac', 'bd', 'bd']\n"
     ]
    }
   ],
   "source": [
    "n=int(input(\"enter the size of list:\"))\n",
    "li1=[]\n",
    "li2=[]\n",
    "\n",
    "for i in range(n):\n",
    "    li1.append(input(\"enter the element in list 1: \"))\n",
    "for i in range(n):\n",
    "    li2.append(input(\"enter the element in list 2: \"))\n",
    "\n",
    "result=[]\n",
    "for i in range(n):\n",
    "    for j in range(n):\n",
    "        result.append(li1[i]+li2[i])\n",
    "print(result)"
   ]
  },
  {
   "cell_type": "code",
   "execution_count": null,
   "metadata": {},
   "outputs": [],
   "source": []
  }
 ],
 "metadata": {
  "kernelspec": {
   "display_name": "Python 3",
   "language": "python",
   "name": "python3"
  },
  "language_info": {
   "codemirror_mode": {
    "name": "ipython",
    "version": 3
   },
   "file_extension": ".py",
   "mimetype": "text/x-python",
   "name": "python",
   "nbconvert_exporter": "python",
   "pygments_lexer": "ipython3",
   "version": "3.10.13"
  },
  "orig_nbformat": 4
 },
 "nbformat": 4,
 "nbformat_minor": 2
}
