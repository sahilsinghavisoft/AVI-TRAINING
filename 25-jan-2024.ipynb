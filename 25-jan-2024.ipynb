{
 "cells": [
  {
   "cell_type": "markdown",
   "id": "3d83b5cb",
   "metadata": {},
   "source": [
    "Print function"
   ]
  },
  {
   "cell_type": "code",
   "execution_count": 31,
   "id": "6244a203",
   "metadata": {},
   "outputs": [
    {
     "name": "stdout",
     "output_type": "stream",
     "text": [
      "Welcome to the Aviosoft\n"
     ]
    }
   ],
   "source": [
    "print(\"Welcome to the Aviosoft\")"
   ]
  },
  {
   "cell_type": "markdown",
   "id": "c7a74bbf",
   "metadata": {},
   "source": [
    "varaible\n"
   ]
  },
  {
   "cell_type": "code",
   "execution_count": 4,
   "id": "d1439900",
   "metadata": {},
   "outputs": [
    {
     "name": "stdout",
     "output_type": "stream",
     "text": [
      "2 2.5 sahil "
     ]
    }
   ],
   "source": [
    "a=2  #integer\n",
    "a1=2.5  #float\n",
    "a2=\"sahil\" #string\n",
    "#here a,a1,a2 is an container which can store any kind of data is called varaiable\n",
    "print(a,a1,a2,end=\" \")"
   ]
  },
  {
   "cell_type": "code",
   "execution_count": 1,
   "id": "f4d26288",
   "metadata": {},
   "outputs": [],
   "source": [
    "#comics learning\n",
    "import antigravity"
   ]
  },
  {
   "cell_type": "code",
   "execution_count": 8,
   "id": "fec5d186",
   "metadata": {},
   "outputs": [
    {
     "name": "stdout",
     "output_type": "stream",
     "text": [
      "Enter two values: 1 2\n",
      "first number is 1 and second number is 2\n"
     ]
    }
   ],
   "source": [
    "#taking multiple inputs\n",
    "x,y=input(\"Enter two values: \").split()\n",
    "print((\"first number is {} and second number is {}\").format(x,y))"
   ]
  },
  {
   "cell_type": "code",
   "execution_count": 12,
   "id": "c6f84438",
   "metadata": {},
   "outputs": [
    {
     "name": "stdout",
     "output_type": "stream",
     "text": [
      "enter the numbers: 1 2 3 4 5\n",
      "this is list : [1, 2, 3, 4, 5]\n"
     ]
    }
   ],
   "source": [
    "x=list(map(int,input(\"enter the numbers: \").split()))\n",
    "print(\"this is list :\",x)"
   ]
  },
  {
   "cell_type": "code",
   "execution_count": 14,
   "id": "b09b07a3",
   "metadata": {},
   "outputs": [
    {
     "name": "stdout",
     "output_type": "stream",
     "text": [
      "enter the numbers: 1,2,3,4\n",
      "[1, 2, 3, 4]\n"
     ]
    }
   ],
   "source": [
    "x=[int(x) for x in input(\"enter the numbers: \").split(\",\")]\n",
    "print(x)\n"
   ]
  },
  {
   "cell_type": "code",
   "execution_count": 18,
   "id": "72487c4e",
   "metadata": {},
   "outputs": [
    {
     "name": "stdout",
     "output_type": "stream",
     "text": [
      "AVI :11,portal: 4.33\n",
      " 3.561E+02\n"
     ]
    }
   ],
   "source": [
    "#output formatting\n",
    "print(\"AVI :%2d,portal:%5.2f\"%(11,04.33))\n",
    "#print exponential value\n",
    "print(\"%10.3E\"%(356.08977))"
   ]
  },
  {
   "cell_type": "code",
   "execution_count": 2,
   "id": "1dd5dd34",
   "metadata": {},
   "outputs": [
    {
     "name": "stdout",
     "output_type": "stream",
     "text": [
      "I love god for'life!'\n",
      "AVI and software\n"
     ]
    }
   ],
   "source": [
    "#format method\n",
    "print(\"I love {} for'{}!'\".format(\"god\",\"life\"))\n",
    "print(f\"{'AVI'} and {'software'}\")\n",
    "\n"
   ]
  },
  {
   "cell_type": "code",
   "execution_count": 30,
   "id": "579eb7a9",
   "metadata": {},
   "outputs": [
    {
     "name": "stdout",
     "output_type": "stream",
     "text": [
      "             WELCOME TO THE             \n",
      "##############AVI SOFTWARE##############\n",
      "Python and machine learning*************\n",
      "------------------------JAVA development\n"
     ]
    }
   ],
   "source": [
    "#formating ouput using string method\n",
    "x=\"AVI SOFTWARE\"\n",
    "print(\"WELCOME TO THE\".center(40,\" \"))\n",
    "print(x.center(40,\"#\"))\n",
    "print(\"Python and machine learning\".ljust(40,\"*\"))\n",
    "print(\"JAVA development\".rjust(40,\"-\"))"
   ]
  },
  {
   "cell_type": "code",
   "execution_count": 11,
   "id": "f4a07413",
   "metadata": {},
   "outputs": [
    {
     "name": "stdout",
     "output_type": "stream",
     "text": [
      "enter the number: 4\n",
      "1 \n",
      "1 2 \n",
      "1 2 3 \n"
     ]
    }
   ],
   "source": [
    "\"\"\"\n",
    "1\n",
    "12\n",
    "123\n",
    "1234\n",
    "\"\"\"\n",
    "n=int(input(\"enter the number: \"))\n",
    "for i in range(1,n):\n",
    "    for j in range(1,i+1):\n",
    "        print(j,end=\" \")\n",
    "    print(\"\\r\")\n",
    "        \n"
   ]
  },
  {
   "cell_type": "code",
   "execution_count": 3,
   "id": "34506ef3",
   "metadata": {},
   "outputs": [
    {
     "name": "stdout",
     "output_type": "stream",
     "text": [
      "enter the numbers: 4\n",
      "1 \n",
      "2 3 \n",
      "4 5 6 \n",
      "7 8 9 10 \n"
     ]
    }
   ],
   "source": [
    "\n",
    "\"\"\"\n",
    "1\n",
    "23\n",
    "456\n",
    "7890\n",
    "\"\"\"\n",
    "x=int(input(\"enter the numbers: \"))\n",
    "z=1\n",
    "for i in range(0,x):\n",
    "    for j in range(0,i+1):\n",
    "        print(z,end=\" \")\n",
    "        z+=1\n",
    "    print(\"\\r\")\n",
    "\n"
   ]
  },
  {
   "cell_type": "code",
   "execution_count": 9,
   "id": "991f12b2",
   "metadata": {},
   "outputs": [
    {
     "name": "stdout",
     "output_type": "stream",
     "text": [
      "enter the numbers:5\n",
      "5 5 5 5 5 \n",
      "4 4 4 4 \n",
      "3 3 3 \n",
      "2 2 \n",
      "1 \n"
     ]
    }
   ],
   "source": [
    "\"\"\"\n",
    "4444\n",
    "333\n",
    "22\n",
    "1\n",
    "\"\"\"\n",
    "y=int(input(\"enter the numbers:\"))\n",
    "for i in range(y,0,-1):\n",
    "    for j in range(i):\n",
    "        print(i,end=\" \")\n",
    "    print('\\r')\n"
   ]
  },
  {
   "cell_type": "code",
   "execution_count": 13,
   "id": "f7548fa7",
   "metadata": {},
   "outputs": [
    {
     "name": "stdout",
     "output_type": "stream",
     "text": [
      "enter the numbers:4\n",
      "1 2 3 4 \n",
      "1 2 3 4 \n",
      "1 2 3 4 \n",
      "1 2 3 4 \n"
     ]
    }
   ],
   "source": [
    "\"\"\"\n",
    "1234\n",
    "1234\n",
    "1234\n",
    "1234\n",
    "\"\"\"\n",
    "y=int(input(\"enter the numbers:\"))\n",
    "for i in range(y):\n",
    "    for j in range(1,y+1):\n",
    "        print(j,end=\" \")\n",
    "    print(\"\\r\")"
   ]
  },
  {
   "cell_type": "markdown",
   "id": "5892dc7e",
   "metadata": {},
   "source": [
    "#ASSIGNMENT 1\n",
    "\"\"\"\n",
    "Given an array 'arr' containing 'n' elements, rotate this array left once and return it.\n",
    "Rotating the array left by one means shifting all elements by one place to the left and moving the first element to the last position in the array.\n",
    "Example:\n",
    "Input: 'a' = 5, 'arr' = [1, 2, 3, 4, 5]\n",
    "Output: [2, 3, 4, 5, 1]\n",
    "Explanation: We moved the 2nd element to the 1st position, and 3rd element to the 2nd position, and 4th element to the 3rd position, and the 5th element to the 4th position, and move the 1st element to the 5th position.\n",
    "\"\"\""
   ]
  },
  {
   "cell_type": "code",
   "execution_count": 27,
   "id": "506a3b17",
   "metadata": {},
   "outputs": [
    {
     "data": {
      "text/plain": [
       "[2, 3, 4, 5, 1]"
      ]
     },
     "execution_count": 27,
     "metadata": {},
     "output_type": "execute_result"
    }
   ],
   "source": [
    "def rotateleftonce(arr):\n",
    "    if not arr or len(arr)<2:\n",
    "        return arr\n",
    "    firstelement=arr[0]\n",
    "    rotatedarray=arr[1:]+[firstelement]\n",
    "    return rotatedarray\n",
    "arr=[1,2,3,4,5]\n",
    "rotateleftonce(arr)"
   ]
  },
  {
   "cell_type": "markdown",
   "id": "8ccc320e",
   "metadata": {},
   "source": [
    "2.You are given an array 'arr' of length 'n', consisting of integers.\n",
    "A subarray is a contiguous segment of an array. In other words, a subarray can be formed by removing 0 or more integers from the beginning and 0 or more integers from the end of an array.\n",
    "Find the sum of the subarray (including empty subarray) having maximum sum among all subarrays.\n",
    "The sum of an empty subarray is 0.\n",
    "Example :\n",
    "Input: 'arr' = [1, 2, 7, -4, 3, 2, -10, 9, 1]\n",
    "Output: 11\n",
    "Explanation: The subarray yielding the maximum sum is [1, 2, 7, -4, 3, 2]."
   ]
  },
  {
   "cell_type": "code",
   "execution_count": 39,
   "id": "2345ae95",
   "metadata": {},
   "outputs": [
    {
     "data": {
      "text/plain": [
       "11"
      ]
     },
     "execution_count": 39,
     "metadata": {},
     "output_type": "execute_result"
    }
   ],
   "source": [
    "def subarraysum(arr):\n",
    "    max_sum=0\n",
    "    currsum=0\n",
    "    for num in arr:\n",
    "        max_sum=max(max_sum,currsum+num)\n",
    "        currsum+=num\n",
    "        if currsum<0:\n",
    "            currsum=o\n",
    "    return max_sum\n",
    "arr=[1,2,7,-4,3,2,-10,9,1]\n",
    "subarraysum(arr)\n",
    "\n",
    "        "
   ]
  },
  {
   "cell_type": "markdown",
   "id": "bd8dfcee",
   "metadata": {},
   "source": [
    "3. Write a function to reverse a string without using any built-in reverse functions."
   ]
  },
  {
   "cell_type": "code",
   "execution_count": 19,
   "id": "4050f649",
   "metadata": {},
   "outputs": [
    {
     "data": {
      "text/plain": [
       "'olleh'"
      ]
     },
     "execution_count": 19,
     "metadata": {},
     "output_type": "execute_result"
    }
   ],
   "source": [
    "def reverse(s1):\n",
    "    return s1[::-1]\n",
    "s1=\"hello\"\n",
    "reverse(s1)\n",
    "    "
   ]
  },
  {
   "cell_type": "code",
   "execution_count": 24,
   "id": "9acb91c0",
   "metadata": {},
   "outputs": [
    {
     "data": {
      "text/plain": [
       "'olleh'"
      ]
     },
     "execution_count": 24,
     "metadata": {},
     "output_type": "execute_result"
    }
   ],
   "source": [
    "def reverse(s1):\n",
    "    s2=\"\"\n",
    "    for char in s1:\n",
    "        s2=char+s2\n",
    "    return s2\n",
    "s1=\"hello\"\n",
    "reverse(s1)"
   ]
  },
  {
   "cell_type": "markdown",
   "id": "ec1c6a56",
   "metadata": {},
   "source": [
    "4.Write a function to check if two strings are anagrams of each other.\n",
    "Example:\n",
    "Input 1: \"listen\"\n",
    "Input 2: \"silent\"\n",
    "Output: Are Anagrams: True\n",
    "Explanation\n",
    "function first removes spaces and converts both input strings to lowercase to make the comparison case-insensitive.\n",
    "Then, it checks if the sorted list of characters in both strings is the same. If they are the same, the strings are anagrams.\n",
    "\n",
    "The function returns True for this example because the characters in \"listen\" can be rearranged to form \"silent.\" If the characters were different or had different frequencies, the function would return False."
   ]
  },
  {
   "cell_type": "code",
   "execution_count": 54,
   "id": "68d89815",
   "metadata": {},
   "outputs": [],
   "source": [
    "def anagram(s1,s2):\n",
    "    s1=s1.replace(\" \",\"\")\n",
    "    s2=s2.replace(\" \",\"\")\n",
    "    if sorted(s1)==sorted(s2):#instead of sorted we can also use here counter\n",
    "        return True\n",
    "    else:\n",
    "        return False"
   ]
  },
  {
   "cell_type": "code",
   "execution_count": 55,
   "id": "d7ac4e56",
   "metadata": {},
   "outputs": [
    {
     "name": "stdout",
     "output_type": "stream",
     "text": [
      "aam\n",
      " maa\n"
     ]
    },
    {
     "data": {
      "text/plain": [
       "True"
      ]
     },
     "execution_count": 55,
     "metadata": {},
     "output_type": "execute_result"
    }
   ],
   "source": [
    "s1=input()\n",
    "s2=input()\n",
    "anagram(s1,s2)"
   ]
  },
  {
   "cell_type": "markdown",
   "id": "588e155a",
   "metadata": {},
   "source": [
    "practice question"
   ]
  },
  {
   "cell_type": "markdown",
   "id": "31ac2e42",
   "metadata": {},
   "source": [
    "1.Write a program to print all the unique characters in a String. For instance, if the input string is “abcb”, the output will be the characters ‘a’ and ‘c’ as they are unique. The character ‘b’ repeats twice and so it will not be printed.\n",
    "Input: abcab\n",
    "Output: c"
   ]
  },
  {
   "cell_type": "code",
   "execution_count": 3,
   "id": "15c9c46f",
   "metadata": {},
   "outputs": [
    {
     "name": "stdout",
     "output_type": "stream",
     "text": [
      "Unique Characters: a, c\n"
     ]
    }
   ],
   "source": [
    "def unique(str):\n",
    "    dict={}\n",
    "    for char in str:\n",
    "        if char in dict:\n",
    "            dict[char]+=1\n",
    "        else:\n",
    "            dict[char]=1\n",
    "            \n",
    "    unique_chars = [char for char, freq in dict.items() if freq == 1]\n",
    "    print('Unique Characters:', ', '.join(unique_chars))\n",
    "str=\"abcb\"\n",
    "unique(str)"
   ]
  },
  {
   "cell_type": "markdown",
   "id": "c662c4f7",
   "metadata": {},
   "source": [
    "2.Given three values - Start Fahrenheit Value (S), End Fahrenheit value (E) and Step Size (W), you need to convert all Fahrenheit values from Start to End at the gap of W, into their corresponding Celsius values and print the table."
   ]
  },
  {
   "cell_type": "code",
   "execution_count": 4,
   "id": "ab4e1996",
   "metadata": {},
   "outputs": [
    {
     "name": "stdout",
     "output_type": "stream",
     "text": [
      "Enter the start Fahrenheit value: 99\n",
      "Enter the end Fahrenheit value: 110\n",
      "Enter the step size: 2\n",
      "99.0\t\t37.22\n",
      "101.0\t\t38.33\n",
      "103.0\t\t39.44\n",
      "105.0\t\t40.56\n",
      "107.0\t\t41.67\n",
      "109.0\t\t42.78\n"
     ]
    }
   ],
   "source": [
    "def fahrenheit_to_celsius(fahrenheit):\n",
    "    return (fahrenheit - 32) * 5/9\n",
    "def print_temperature_table(start, end, step):    \n",
    "    current_fahrenheit = start\n",
    "    while current_fahrenheit <= end:\n",
    "        celsius = fahrenheit_to_celsius(current_fahrenheit)\n",
    "        print(f\"{current_fahrenheit}\\t\\t{celsius:.2f}\")\n",
    "        current_fahrenheit += step\n",
    "start_value = float(input(\"Enter the start Fahrenheit value: \"))\n",
    "end_value = float(input(\"Enter the end Fahrenheit value: \"))\n",
    "step_size = float(input(\"Enter the step size: \"))\n",
    "\n",
    "print_temperature_table(start_value, end_value, step_size)\n"
   ]
  },
  {
   "cell_type": "markdown",
   "id": "a0ae93d6",
   "metadata": {},
   "source": [
    "3.Write a program to input an integer 'n' and print the sum of all its even digits and the sum of all its odd digits separately.\n",
    "Digits mean numbers, not places! That is, if the given integer is \"132456\", even digits are 2, 4, and 6, and odd digits are 1, 3, and 5.\n",
    "Example :\n",
    "Input: 'n' = 132456\n",
    "Output: 12 9\n",
    "Explanation:\n",
    "The sum of even digits = 2 + 4 + 6 = 12\n",
    "The sum of odd digits = 1 + 3 + 5 = 9"
   ]
  },
  {
   "cell_type": "code",
   "execution_count": 2,
   "id": "145b8713",
   "metadata": {},
   "outputs": [
    {
     "name": "stdout",
     "output_type": "stream",
     "text": [
      "Enter an integer: 132456\n",
      "The sum of even digits = 12\n",
      "The sum of odd digits = 9\n"
     ]
    }
   ],
   "source": [
    "def sum_of_even_odd_digits(n):\n",
    "    sum_even = 0\n",
    "    sum_odd = 0\n",
    "    for digit in n:\n",
    "        digit = int(digit)\n",
    "        if digit % 2 == 0:\n",
    "            sum_even += digit\n",
    "        else:\n",
    "            sum_odd += digit\n",
    "    print(f\"The sum of even digits = {sum_even}\")\n",
    "    print(f\"The sum of odd digits = {sum_odd}\")\n",
    "input_number = input(\"Enter an integer: \")\n",
    "sum_of_even_odd_digits(input_number)\n",
    "        "
   ]
  },
  {
   "cell_type": "markdown",
   "id": "6b534f97",
   "metadata": {},
   "source": [
    "4.Write a program that takes a number as input and prints all its factors except 1 and the number itself.. If the number has only two factors (1 and the number itself), then the program should print -1.\n",
    "Sample Input:\n",
    "8\n",
    "Sample Output:\n",
    "2 4\n",
    "Explanation of Sample Output 1 :\n",
    "The factors for the number excluding 1 and itself are 2 and 4, so the output is 2 4."
   ]
  },
  {
   "cell_type": "code",
   "execution_count": 12,
   "id": "949b64ac",
   "metadata": {},
   "outputs": [
    {
     "name": "stdout",
     "output_type": "stream",
     "text": [
      "8\n"
     ]
    },
    {
     "data": {
      "text/plain": [
       "'2 4'"
      ]
     },
     "execution_count": 12,
     "metadata": {},
     "output_type": "execute_result"
    }
   ],
   "source": [
    "def factor(num):\n",
    "    l=[]\n",
    "    for i in range(2,num):\n",
    "        if(num%i==0):\n",
    "            l.append(i)\n",
    "    if len(l)==0:\n",
    "        return (\"-1\")\n",
    "    else:\n",
    "        return(\" \".join(map(str, l)))\n",
    "num=int(input())\n",
    "factor(num)\n"
   ]
  },
  {
   "cell_type": "markdown",
   "id": "81d58e52",
   "metadata": {},
   "source": [
    "5.Write a program to find x to the power n (i.e. x^n). Take x and n from the user. You need to print the answer.\n",
    "Note : For this question, you can assume that 0 raised to the power of 0 is 1\n",
    "Sample Input :\n",
    " 3 4\n",
    "Sample Output :\n",
    "81\n"
   ]
  },
  {
   "cell_type": "code",
   "execution_count": 5,
   "id": "8980967f",
   "metadata": {},
   "outputs": [
    {
     "name": "stdout",
     "output_type": "stream",
     "text": [
      "3\n",
      "4\n",
      "81\n"
     ]
    }
   ],
   "source": [
    "x=int(input())\n",
    "y=int(input())\n",
    "print(x**y)"
   ]
  },
  {
   "cell_type": "markdown",
   "id": "6ae35b17",
   "metadata": {},
   "source": [
    "6.Write a program to generate the reverse of a given number N. Print the corresponding reverse number.\n",
    "\n",
    "Note : If a number has trailing zeros, then its reverse will not include them. For e.g., reverse of 10400 will be 401 instead of 00401.\n",
    "\n",
    "Sample Input 1 :\n",
    "1234\n",
    "Sample Output 1 :\n",
    "4321\n"
   ]
  },
  {
   "cell_type": "code",
   "execution_count": 16,
   "id": "cf645372",
   "metadata": {},
   "outputs": [
    {
     "data": {
      "text/plain": [
       "401"
      ]
     },
     "execution_count": 16,
     "metadata": {},
     "output_type": "execute_result"
    }
   ],
   "source": [
    "def reverse(arr):\n",
    "    x=arr[::-1]\n",
    "    y=int(x)\n",
    "    return y\n",
    "arr=\"10400\"\n",
    "reverse(arr)"
   ]
  },
  {
   "cell_type": "code",
   "execution_count": 20,
   "id": "2aa5515e",
   "metadata": {},
   "outputs": [
    {
     "name": "stdout",
     "output_type": "stream",
     "text": [
      "10400\n"
     ]
    },
    {
     "data": {
      "text/plain": [
       "401"
      ]
     },
     "execution_count": 20,
     "metadata": {},
     "output_type": "execute_result"
    }
   ],
   "source": [
    "def reverse(arr):\n",
    "    reversednum=0\n",
    "    while arr>0:\n",
    "        num=arr%10\n",
    "        reversednum=reversednum*10+num\n",
    "        arr=arr//10\n",
    "    return reversednum\n",
    "arr=int(input())\n",
    "reverse(arr)\n",
    "        \n",
    "    "
   ]
  },
  {
   "cell_type": "markdown",
   "id": "bc459216",
   "metadata": {},
   "source": [
    "\"\"\"1.Print the following pattern for the given N number of rows.\n",
    "\n",
    "Pattern for N = 4\n",
    "A\n",
    "BC\n",
    "DEF\n",
    "GHIJ\n",
    "\"\"\""
   ]
  },
  {
   "cell_type": "code",
   "execution_count": 58,
   "id": "e5ff44ef",
   "metadata": {},
   "outputs": [
    {
     "name": "stdout",
     "output_type": "stream",
     "text": [
      "A\n",
      "BC\n",
      "DEF\n",
      "GHIJ\n"
     ]
    }
   ],
   "source": [
    "def print_pattern(N):\n",
    "    current_char = ord('A') \n",
    "    \n",
    "    for i in range(N):\n",
    "        for j in range(i + 1):\n",
    "            print(chr(current_char), end=\"\")\n",
    "            current_char += 1\n",
    "        print()\n",
    "\n",
    "N = 4\n",
    "print_pattern(N)\n"
   ]
  },
  {
   "cell_type": "markdown",
   "id": "5db60db3",
   "metadata": {},
   "source": [
    "\"\"\"\n",
    "2.Print the following pattern for the given N number of rows.\n",
    "\n",
    "Pattern for N = 4\n",
    "1\n",
    "21\n",
    "321\n",
    "4321\n",
    "\"\"\""
   ]
  },
  {
   "cell_type": "code",
   "execution_count": 59,
   "id": "6e481f29",
   "metadata": {},
   "outputs": [
    {
     "name": "stdout",
     "output_type": "stream",
     "text": [
      "1\n",
      "21\n",
      "321\n",
      "4321\n"
     ]
    }
   ],
   "source": [
    "def print_pattern(N):\n",
    "    for i in range(1, N + 1):\n",
    "        for j in range(i, 0, -1):\n",
    "            print(j, end=\"\")\n",
    "        print()\n",
    "\n",
    "N = 4\n",
    "print_pattern(N)\n"
   ]
  },
  {
   "cell_type": "markdown",
   "id": "5d10ef7a",
   "metadata": {},
   "source": [
    "\"\"\"3.Print the following pattern for the given N number of rows.\n",
    "\n",
    "Pattern for N = 3\n",
    " A\n",
    " BB\n",
    " CCC\n",
    " \"\"\""
   ]
  },
  {
   "cell_type": "code",
   "execution_count": 30,
   "id": "23d719c4",
   "metadata": {},
   "outputs": [
    {
     "name": "stdout",
     "output_type": "stream",
     "text": [
      "A\n",
      "BB\n",
      "CCC\n"
     ]
    }
   ],
   "source": [
    "n=3\n",
    "num=65\n",
    "for i in range(0,n):\n",
    "    for j in range(0,i+1):\n",
    "        ch=chr(num)\n",
    "        print(ch,end=\"\")\n",
    "    num+=1\n",
    "    print()\n",
    "        "
   ]
  },
  {
   "cell_type": "markdown",
   "id": "cd29645b",
   "metadata": {},
   "source": [
    "\"\"\"4.Print the following pattern for the given N number of rows.\n",
    "\n",
    "Pattern for N = 4\n",
    "A\n",
    "BC\n",
    "CDE\n",
    "DEFG\n",
    "  \"\"\""
   ]
  },
  {
   "cell_type": "code",
   "execution_count": 75,
   "id": "0a975071",
   "metadata": {},
   "outputs": [
    {
     "name": "stdout",
     "output_type": "stream",
     "text": [
      "5\n",
      "A\n",
      "BC\n",
      "CDE\n",
      "DEFG\n",
      "EFGHI\n"
     ]
    }
   ],
   "source": [
    "\n",
    "n = int(input())\n",
    "ch=\"A\"\n",
    "for i in range(n):\n",
    "    d=ch\n",
    "    for j in range(i+1):\n",
    "        print(d,end=\"\")\n",
    "        d=chr(ord(d)+1)\n",
    "    ch=chr(ord(ch)+1)\n",
    "    print()\n",
    "        \n",
    "\n",
    "\n"
   ]
  },
  {
   "cell_type": "markdown",
   "id": "c5dc7dcc",
   "metadata": {},
   "source": [
    "\"\"\"5.Print the following pattern for the given number of rows.\n",
    "\n",
    "Pattern for N = 5\n",
    "E\n",
    "DE\n",
    "CDE\n",
    "BCDE\n",
    "ABCDE\"\"\""
   ]
  },
  {
   "cell_type": "code",
   "execution_count": 68,
   "id": "b9663ef1",
   "metadata": {},
   "outputs": [
    {
     "name": "stdout",
     "output_type": "stream",
     "text": [
      "E\n",
      "DE\n",
      "CDE\n",
      "BCDE\n",
      "ABCDE\n"
     ]
    }
   ],
   "source": [
    "n=5\n",
    "for i in range(n, 0, -1):\n",
    "    for j in range(i, n + 1):\n",
    "        asciiValue = 65\n",
    "        asciiValue += (j - 1)\n",
    "        print(chr(asciiValue),end=\"\")\n",
    "    print()\n"
   ]
  },
  {
   "cell_type": "markdown",
   "id": "dfb50048",
   "metadata": {},
   "source": [
    "\"\"\"6.Write a program to print parallelogram pattern for the given N number of rows.\n",
    "\n",
    "For N = 3\n",
    "***\n",
    " ***\n",
    "  ***\"\"\""
   ]
  },
  {
   "cell_type": "code",
   "execution_count": 36,
   "id": "ebb253ae",
   "metadata": {},
   "outputs": [
    {
     "name": "stdout",
     "output_type": "stream",
     "text": [
      "***\n",
      " ***\n",
      "  ***\n"
     ]
    }
   ],
   "source": [
    "n=3\n",
    "for i in range(0,n):\n",
    "    for j in range(1,i+1):\n",
    "        print(\" \",end=\"\")\n",
    "    for j in range(0,n):\n",
    "        print(\"*\",end=\"\")\n",
    "    print()"
   ]
  },
  {
   "cell_type": "markdown",
   "id": "396daa18",
   "metadata": {},
   "source": [
    "\"\"\"\"7.Print the following pattern for the given N number of rows.\n",
    "\n",
    "Pattern for N = 3\n",
    "      1 \n",
    "     12\n",
    "    123\n",
    "    \"\"\""
   ]
  },
  {
   "cell_type": "code",
   "execution_count": 42,
   "id": "1ddb48e7",
   "metadata": {},
   "outputs": [
    {
     "name": "stdout",
     "output_type": "stream",
     "text": [
      "  1\n",
      " 12\n",
      "123\n"
     ]
    }
   ],
   "source": [
    "n=3\n",
    "for i in range(1,n+1):\n",
    "    for j in range(n-i):\n",
    "        print(\" \",end=\"\")\n",
    "    for k in range(1,i+1):\n",
    "        print(k,end=\"\")\n",
    "    print()"
   ]
  },
  {
   "cell_type": "markdown",
   "id": "8371e041",
   "metadata": {},
   "source": [
    "\"\"\"8.Write a program to print the pattern for the given N number of rows.\n",
    "\n",
    "For N = 4\n",
    "\n",
    "1357\n",
    "3571\n",
    "5713\n",
    "7135\"\"\""
   ]
  },
  {
   "cell_type": "code",
   "execution_count": 77,
   "id": "e6a5c71d",
   "metadata": {},
   "outputs": [
    {
     "name": "stdout",
     "output_type": "stream",
     "text": [
      "1357\n",
      "3571\n",
      "5713\n",
      "7135\n"
     ]
    }
   ],
   "source": [
    "n=4\n",
    "for i in range(1,n+1):\n",
    "    val=2*i-1\n",
    "    temp=val \n",
    "    for j in range(n):\n",
    "        if(temp>2*(n)):\n",
    "            temp=1\n",
    "        print(temp,end=\"\")\n",
    "        temp=temp+2\n",
    "    print()\n"
   ]
  },
  {
   "cell_type": "markdown",
   "id": "c78d9ece",
   "metadata": {},
   "source": [
    "Homework\n"
   ]
  },
  {
   "cell_type": "markdown",
   "id": "a8598129",
   "metadata": {},
   "source": [
    "1.Given a decimal number (integer N), convert it into binary and print.\n",
    "Sample Input :\n",
    "12\n",
    "Sample Output :\n",
    "1100"
   ]
  },
  {
   "cell_type": "code",
   "execution_count": 89,
   "id": "eb4e944e",
   "metadata": {},
   "outputs": [
    {
     "name": "stdout",
     "output_type": "stream",
     "text": [
      "10\n"
     ]
    }
   ],
   "source": [
    "def decimal_to_binary(num):\n",
    "    binary_representation = ''\n",
    "    while num > 0:\n",
    "        remainder = num % 2\n",
    "        binary_representation = str(remainder) + binary_representation\n",
    "        num = num // 2\n",
    "    print(binary_representation)\n",
    "dec_val = 2\n",
    "decimal_to_binary(dec_val)\n"
   ]
  },
  {
   "cell_type": "markdown",
   "id": "3c5a5cc8",
   "metadata": {},
   "source": [
    "2.Given an integer N, print all the prime numbers that lie in the range 2 to N (both inclusive).\n",
    "Print the prime numbers in different lines.\n",
    "Sample Input:\n",
    "9\n",
    "Sample Output:\n",
    "2\n",
    "3\n",
    "5\n",
    "7"
   ]
  },
  {
   "cell_type": "code",
   "execution_count": 91,
   "id": "6aa63654",
   "metadata": {},
   "outputs": [
    {
     "name": "stdout",
     "output_type": "stream",
     "text": [
      "Enter a number: 9\n",
      "2\n",
      "3\n",
      "5\n",
      "7\n"
     ]
    }
   ],
   "source": [
    "\n",
    "    n = int(input(\"Enter a number: \"))\n",
    "    for i in range(2, n + 1):\n",
    "        count = 0\n",
    "        for j in range(2, i + 1):\n",
    "            if i % j == 0:\n",
    "                count += 1\n",
    "        if count == 1:\n",
    "            print(i)\n"
   ]
  },
  {
   "cell_type": "markdown",
   "id": "516addb7",
   "metadata": {},
   "source": [
    "3.Print the following pattern for the given number of rows.\n",
    "Pattern for N = 5\n",
    "\n",
    "           1\n",
    "          232\n",
    "         34543\n",
    "        4567654\n",
    "       567898765"
   ]
  },
  {
   "cell_type": "code",
   "execution_count": 107,
   "id": "a11e0a22",
   "metadata": {},
   "outputs": [
    {
     "name": "stdout",
     "output_type": "stream",
     "text": [
      "    1\n",
      "   232\n",
      "  34543\n",
      " 4567654\n",
      "567898765\n"
     ]
    }
   ],
   "source": [
    "n = 5\n",
    "num = 1\n",
    "gap = n \n",
    "\n",
    "for j in range(1, n + 1):\n",
    "    num = j\n",
    "    for i in range(1, gap ):\n",
    "        print(\" \", end=\"\")\n",
    "    gap = gap - 1\n",
    "    \n",
    "    for i in range(1, j + 1):\n",
    "        print(num, end=\"\")\n",
    "        num = num + 1\n",
    "    \n",
    "    num = num - 2\n",
    "    for i in range(1, j):\n",
    "        print(num, end=\"\")\n",
    "        num = num - 1\n",
    "    \n",
    "    print()\n"
   ]
  },
  {
   "cell_type": "markdown",
   "id": "87a35706",
   "metadata": {},
   "source": [
    "4.Print the following pattern for the given number of rows.\n",
    "Note: N is always odd.\n",
    "Pattern for N = 5\n",
    "\n",
    "  *\n",
    " ***\n",
    "*****\n",
    " ***\n",
    "  *"
   ]
  },
  {
   "cell_type": "code",
   "execution_count": 102,
   "id": "04bd801e",
   "metadata": {},
   "outputs": [
    {
     "name": "stdout",
     "output_type": "stream",
     "text": [
      "5\n",
      "  *\n",
      " ***\n",
      "*****\n",
      " ***\n",
      "  *\n"
     ]
    }
   ],
   "source": [
    "n = int(input())\n",
    "firstHalf = (n + 1) // 2\n",
    "secHalf = n // 2\n",
    "\n",
    "# First Half\n",
    "for currRow in range(1, firstHalf + 1):\n",
    "    for spaces in range(1, firstHalf - currRow + 1):\n",
    "        print(' ', end=\"\")\n",
    "    \n",
    "    for currcol in range(1, (2 * currRow) ):\n",
    "        print(\"*\", end=\"\")\n",
    "    \n",
    "    print()\n",
    "\n",
    "# Second Half\n",
    "for currRow in range(secHalf, 0, -1):\n",
    "    for spaces in range(1, secHalf - currRow + 2):\n",
    "        print(\" \", end=\"\")\n",
    "    \n",
    "    for currcol in range(1, (2 * currRow) ):\n",
    "        print(\"*\", end=\"\")\n",
    "    \n",
    "    print()\n"
   ]
  },
  {
   "cell_type": "markdown",
   "id": "c527b3ed",
   "metadata": {},
   "source": [
    "5.Write a program to print triangle of user defined integers sum.\n",
    "\n",
    "Sample Input \n",
    "3\n",
    "Sample Output :\n",
    "1=1\n",
    "1+2=3\n",
    "1+2+3=6\n"
   ]
  },
  {
   "cell_type": "code",
   "execution_count": 96,
   "id": "5dc07d15",
   "metadata": {},
   "outputs": [
    {
     "name": "stdout",
     "output_type": "stream",
     "text": [
      "Enter the number of rows for the triangle: 5\n",
      "1=1\n",
      "1+2=3\n",
      "1+2+3=6\n",
      "1+2+3+4=10\n",
      "1+2+3+4+5=15\n"
     ]
    }
   ],
   "source": [
    "def print_triangle(n):\n",
    "    for i in range(1, n + 1):\n",
    "        current_sum = 0\n",
    "        for j in range(1, i + 1):\n",
    "            current_sum += j\n",
    "            if j < i:\n",
    "                print(j, end='+')\n",
    "            else:\n",
    "                print(j, end='')\n",
    "        print(f'={current_sum}')\n",
    "user_input = int(input(\"Enter the number of rows for the triangle: \"))\n",
    "print_triangle(user_input)"
   ]
  },
  {
   "cell_type": "markdown",
   "id": "94668e70",
   "metadata": {},
   "source": [
    "6.Check whether a given number ’n’ is a palindrome number.\n",
    "Note :\n",
    "Palindrome numbers are the numbers that don't change when reversed.\n",
    "You don’t need to print anything. Just implement the given function.\n",
    "Example:\n",
    "Input: 'n' = 51415\n",
    "Output: true\n",
    "Explanation: On reversing, 51415 gives 51415."
   ]
  },
  {
   "cell_type": "code",
   "execution_count": 86,
   "id": "4a113b8e",
   "metadata": {},
   "outputs": [
    {
     "name": "stdout",
     "output_type": "stream",
     "text": [
      "enter the number:44555\n",
      "false\n"
     ]
    }
   ],
   "source": [
    "x=(input(\"enter the number:\" ))\n",
    "\n",
    "if x==x[::-1]:\n",
    "    print(\"true\")\n",
    "else:\n",
    "    print(\"false\")"
   ]
  },
  {
   "cell_type": "markdown",
   "id": "2a021ca1",
   "metadata": {},
   "source": [
    "7.Print the following pattern for given number of rows.\n",
    "input N=5\n",
    "\n",
    " 5432*\n",
    " 543*1\n",
    " 54*21\n",
    " 5*321\n",
    " *4321"
   ]
  },
  {
   "cell_type": "code",
   "execution_count": 79,
   "id": "2d92672a",
   "metadata": {},
   "outputs": [
    {
     "name": "stdout",
     "output_type": "stream",
     "text": [
      "5432*\n",
      "543*1\n",
      "54*21\n",
      "5*321\n",
      "*4321\n"
     ]
    }
   ],
   "source": [
    "lines = 5\n",
    "for i in range(1, lines + 1):\n",
    "    for j in range(lines, 0, -1):\n",
    "        if j != i:\n",
    "            print(j, end='')\n",
    "        else:\n",
    "            print('*', end='')\n",
    "    print(\"\")\n"
   ]
  },
  {
   "cell_type": "code",
   "execution_count": null,
   "id": "2728e746",
   "metadata": {},
   "outputs": [],
   "source": []
  }
 ],
 "metadata": {
  "kernelspec": {
   "display_name": "Python 3 (ipykernel)",
   "language": "python",
   "name": "python3"
  },
  "language_info": {
   "codemirror_mode": {
    "name": "ipython",
    "version": 3
   },
   "file_extension": ".py",
   "mimetype": "text/x-python",
   "name": "python",
   "nbconvert_exporter": "python",
   "pygments_lexer": "ipython3",
   "version": "3.11.5"
  }
 },
 "nbformat": 4,
 "nbformat_minor": 5
}
