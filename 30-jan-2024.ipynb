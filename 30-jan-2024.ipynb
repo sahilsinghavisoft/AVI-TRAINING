{
 "cells": [
  {
   "cell_type": "markdown",
   "metadata": {},
   "source": [
    "assignment\n"
   ]
  },
  {
   "cell_type": "markdown",
   "metadata": {},
   "source": [
    "1.Number of occurrence\n",
    "Problem statement\n",
    "You have been given a sorted array/list of integers 'arr' of size 'n' and an integer 'x'.\n",
    "Find the total number of occurrences of 'x' in the array/list.\n",
    "Example:\n",
    "Input: 'n' = 7, 'x' = 3\n",
    "'arr' = [1, 1, 1, 2, 2, 3, 3]\n",
    "Output: 2\n",
    "Explanation: Total occurrences of '3' in the array 'arr' is 2"
   ]
  },
  {
   "cell_type": "code",
   "execution_count": 12,
   "metadata": {},
   "outputs": [
    {
     "name": "stdout",
     "output_type": "stream",
     "text": [
      "[1, 2, 2, 3]\n",
      "2\n"
     ]
    }
   ],
   "source": [
    "x=int(input(\"enter the size of array\"))\n",
    "li=[]\n",
    "for i in range(x):\n",
    "    li.append(int(input(\"enter the list\")))\n",
    "\n",
    "print(li)\n",
    "k=int(input(\"enter the value: \"))\n",
    "print(li.count(k))\n",
    "\n"
   ]
  },
  {
   "cell_type": "code",
   "execution_count": 19,
   "metadata": {},
   "outputs": [
    {
     "name": "stdout",
     "output_type": "stream",
     "text": [
      "3\n"
     ]
    }
   ],
   "source": [
    "x=int(input(\"enter the size of array\"))\n",
    "li=[]\n",
    "for i in range(x):\n",
    "    li.append(int(input(\"enter the list\")))\n",
    "k=int(input(\"enter the valuek\"))\n",
    "count=0\n",
    "for i in li:\n",
    "    if i==k:\n",
    "        count+=1\n",
    "print(count)"
   ]
  },
  {
   "cell_type": "markdown",
   "metadata": {},
   "source": [
    "2.Find First and Last Position of Element in Sorted Array\n",
    "Problem statement\n",
    "You are given a non-decreasing array 'arr' consisting of 'n' integers and an integer 'x'. You need to find the first and last position of 'x' in the array.\n",
    "Note:\n",
    "1. The array follows 0-based indexing, so you need to return 0-based indices.\n",
    "2. If 'x' is not present in the array, return {-1 -1}.\n",
    "3. If 'x' is only present once in the array, the first and last position of its occurrence will be the same.\n",
    "Example:\n",
    "Input:  arr = [1, 2, 4, 4, 5],  x = 4\n",
    "Output: 2 3\n",
    "Explanation: The given array’s 0-based indexing is as follows:\n",
    " 1      2     4     4     5\n",
    " ↓      ↓     ↓     ↓     ↓\n",
    " 0      1     2     3     4\n",
    "So, the first occurrence of 4 is at index 2, and the last occurrence of 4 is at index 3.\n",
    "\n"
   ]
  },
  {
   "cell_type": "code",
   "execution_count": 17,
   "metadata": {},
   "outputs": [
    {
     "name": "stdout",
     "output_type": "stream",
     "text": [
      "2 8"
     ]
    }
   ],
   "source": [
    "x=int(input(\"enter the size of array\"))\n",
    "li=[]\n",
    "for i in range(x):\n",
    "    li.append(int(input(\"enter the list\")))\n",
    "k=int(input(\"enter the kvalue\"))\n",
    "first=-1\n",
    "last=-1\n",
    "for i in range(x):\n",
    "    if k!=li[i]:\n",
    "\n",
    "        continue\n",
    "    if first==-1:\n",
    "        first=i\n",
    "    last=i\n",
    "print(first,last,end=\"\")\n",
    "\n"
   ]
  },
  {
   "cell_type": "markdown",
   "metadata": {},
   "source": [
    "3.Find Duplicates In Array\n",
    "Problem statement\n",
    "You are given an array/list 'ARR' consisting of N integers, which contains elements only in the range 0 to N - 1. Some of the elements may be repeated in 'ARR'. Your task is to find all such duplicate elements.\n",
    "\n",
    "Note:\n",
    "1. All the elements are in the range 0 to N - 1.\n",
    "2. The elements may not be in sorted order.\n",
    "3. You can return the duplicate elements in any order.\n",
    "4. If there are no duplicates present then return an empty array.\n",
    "\n",
    "Sample Input 1:\n",
    "2\n",
    "5\n",
    "0 2 1 2 3 \n",
    "7\n",
    "3 2 1 3 2 1 5\n",
    "Sample Output 1:\n",
    "2\n",
    "1 2 3\n",
    "Explanation For Sample Input 1:\n",
    "For the first test case, since 2 is the only duplicate element, so we return it.\n",
    "\n",
    "For the second test case, since 1, 2, 3 are duplicates so we return them. Note that 2, 3, 1 and 3, 2, 1 are also acceptable.\n"
   ]
  },
  {
   "cell_type": "code",
   "execution_count": 27,
   "metadata": {},
   "outputs": [
    {
     "name": "stdout",
     "output_type": "stream",
     "text": [
      "List with duplicates removed: [1, 3]\n"
     ]
    }
   ],
   "source": [
    "x = int(input(\"enter the size of array\"))\n",
    "li = []\n",
    "\n",
    "for i in range(x):\n",
    "    li.append(int(input(\"enter the list element: \")))\n",
    "li.sort()\n",
    "unique_list = []\n",
    "for i in range(x-1):\n",
    "    if li[i] == li[i+1]:\n",
    "        unique_list.append(li[i])\n",
    "\n",
    "print(\"List with duplicates removed:\", unique_list)\n",
    "\n"
   ]
  },
  {
   "cell_type": "markdown",
   "metadata": {},
   "source": [
    "4.Search In Infinite Sorted 0-1 Array\n",
    "Problem statement\n",
    "You are given an infinite array consisting of only ones and zeroes, in sorted order. You have to find the index of the first occurrence of 1.\n",
    "\n",
    "Example:\n",
    "If the array is 0 0 0 0 1 1 1 1… then, the first occurrence of 1 will be at index 4 therefore the answer here is 4.\n",
    "Note:\n",
    "As the array size is infinite, the actual array won’t be given to you. Instead, you will be able to access the array elements by calling a method named ‘get’.\n",
    "\n",
    "get(i) : returns the value present at index I.\n",
    "\n",
    "Indexing is 0-based. \n",
    "\n",
    "Instead of representing an infinite array in the input, we give the index of the first occurrence of 1 in the input itself. However, this input will be completely hidden from the user.\n",
    "\n",
    "It is guaranteed that the answer will fit in a 64-bit integer.\n",
    "\n"
   ]
  },
  {
   "cell_type": "code",
   "execution_count": 42,
   "metadata": {},
   "outputs": [
    {
     "name": "stdout",
     "output_type": "stream",
     "text": [
      "2\n"
     ]
    }
   ],
   "source": [
    "def binary(arr, low, high):\n",
    "    while low <= high:\n",
    "        mid = (low + high) // 2\n",
    "        if arr[mid] == 1 and (arr[mid - 1] == 0):\n",
    "            break\n",
    "        elif arr[mid] == 1:\n",
    "            high = mid - 1\n",
    "        else:\n",
    "            low = mid + 1\n",
    "    return mid\n",
    "def get(arr):\n",
    "    l = 0\n",
    "    h = 1\n",
    "    while arr[h] == 0:\n",
    "        l = h\n",
    "        h = 2 * h\n",
    "    return binary(arr, l, h)\n",
    "\n",
    "x = int(input(\"enter the size of array\"))\n",
    "arr = []\n",
    "\n",
    "for i in range(x):\n",
    "    arr.append(int(input(\"enter the array\")))\n",
    "print(get(arr))\n",
    "\n"
   ]
  },
  {
   "cell_type": "markdown",
   "metadata": {},
   "source": [
    "4.Sort 0 1 2\n",
    "Problem statement\n",
    "You have been given an integer array/list(ARR) of size 'N'. It only contains 0s, 1s and 2s. Write a solution to sort this array/list.\n",
    "\n",
    "Note :\n",
    "without using any inbuilt function\n",
    "Try to solve the problem in 'Single Scan'. ' Single Scan' refers to iterating over the array/list just once or to put it in other words, you will be visiting each element in the array/list just once.\n",
    "\n",
    "Sample Input 1 :\n",
    "2\n",
    "6\n",
    "0 1 2 2 1 0\n",
    "7\n",
    "0 1 2 1 2 1 2\n",
    "Sample Output 1 :\n",
    "0 0 1 1 2 2\n",
    "0 1 1 1 2 2 2"
   ]
  },
  {
   "cell_type": "code",
   "execution_count": 45,
   "metadata": {},
   "outputs": [
    {
     "name": "stdout",
     "output_type": "stream",
     "text": [
      "Sorted array: [0, 0, 1, 2, 2]\n"
     ]
    }
   ],
   "source": [
    "x = int(input(\"Enter the size of the array: \"))\n",
    "arr = []\n",
    "\n",
    "for i in range(x):\n",
    "    arr.append(int(input(\"Enter the array element: \")))\n",
    "\n",
    "low, mid, high = 0, 0, len(arr) - 1\n",
    "\n",
    "while mid <= high:\n",
    "    if arr[mid] == 0:\n",
    "        arr[low], arr[mid] = arr[mid], arr[low]\n",
    "        low += 1\n",
    "        mid += 1\n",
    "    elif arr[mid] == 1:\n",
    "        mid += 1\n",
    "    else:\n",
    "        arr[mid], arr[high] = arr[high], arr[mid]\n",
    "        high -= 1\n",
    "print(\"Sorted array:\", arr)"
   ]
  },
  {
   "cell_type": "markdown",
   "metadata": {},
   "source": [
    "5.Problem statement\n",
    "For a given two-dimensional square matrix of size (N x N). Find the total sum of elements on both the diagonals and at all the four boundaries.\n",
    "\n",
    "Sample input 1:\n",
    "1\n",
    "3\n",
    "1 2 3\n",
    "4 5 6\n",
    "7 8 9\n",
    "Sample Output 1:\n",
    "45\n",
    "Explanation for Sample Output 1:\n",
    "The boundary elements are 1, 2, 3, 6, 9, 8, 7 and 4. \n",
    "\n",
    "The first-diagonal elements are 1, 5 and 9. \n",
    "\n",
    "The second-diagonal elements are 3, 5 and 7.\n",
    "\n",
    "We just need to add all these numbers making sure that no number is added twice. For example, '1' is both a boundary element and a first-diagonal element similarly, '5' contributes to both the diagonals but they won't be added twice.\n",
    "\n",
    "Hence, we add up, [1 + 2 + 3 + 6 + 9 + 8 + 7 + 4 + 5] to give 45 as the output."
   ]
  },
  {
   "cell_type": "code",
   "execution_count": 47,
   "metadata": {},
   "outputs": [
    {
     "ename": "IndexError",
     "evalue": "list index out of range",
     "output_type": "error",
     "traceback": [
      "\u001b[0;31m---------------------------------------------------------------------------\u001b[0m",
      "\u001b[0;31mIndexError\u001b[0m                                Traceback (most recent call last)",
      "Cell \u001b[0;32mIn[47], line 35\u001b[0m\n\u001b[1;32m     30\u001b[0m \u001b[39mif\u001b[39;00m \u001b[39m__name__\u001b[39m \u001b[39m==\u001b[39m \u001b[39m'\u001b[39m\u001b[39m__main__\u001b[39m\u001b[39m'\u001b[39m:\n\u001b[1;32m     31\u001b[0m     arr \u001b[39m=\u001b[39m [[ \u001b[39m1\u001b[39m, \u001b[39m2\u001b[39m, \u001b[39m3\u001b[39m ],\n\u001b[1;32m     32\u001b[0m     [ \u001b[39m4\u001b[39m,\u001b[39m5\u001b[39m,\u001b[39m6\u001b[39m],\n\u001b[1;32m     33\u001b[0m     [ \u001b[39m7\u001b[39m,\u001b[39m8\u001b[39m,\u001b[39m9\u001b[39m]];\n\u001b[0;32m---> 35\u001b[0m     diagonalBoundarySum(arr);\n",
      "Cell \u001b[0;32mIn[47], line 18\u001b[0m, in \u001b[0;36mdiagonalBoundarySum\u001b[0;34m(arr)\u001b[0m\n\u001b[1;32m     13\u001b[0m \u001b[39mfor\u001b[39;00m j \u001b[39min\u001b[39;00m \u001b[39mrange\u001b[39m(N):\n\u001b[1;32m     14\u001b[0m \n\u001b[1;32m     15\u001b[0m     \u001b[39m# Condition for diagonal\u001b[39;00m\n\u001b[1;32m     16\u001b[0m     \u001b[39m# elements\u001b[39;00m\n\u001b[1;32m     17\u001b[0m     \u001b[39mif\u001b[39;00m (i \u001b[39m==\u001b[39m j \u001b[39mor\u001b[39;00m (i \u001b[39m+\u001b[39m j) \u001b[39m==\u001b[39m N \u001b[39m-\u001b[39m \u001b[39m1\u001b[39m):\n\u001b[0;32m---> 18\u001b[0m         requiredSum \u001b[39m+\u001b[39m\u001b[39m=\u001b[39m arr[i][j];\n\u001b[1;32m     20\u001b[0m     \u001b[39m# Condition for Boundary\u001b[39;00m\n\u001b[1;32m     21\u001b[0m     \u001b[39m# elements\u001b[39;00m\n\u001b[1;32m     22\u001b[0m     \u001b[39melif\u001b[39;00m(i \u001b[39m==\u001b[39m \u001b[39m0\u001b[39m \u001b[39mor\u001b[39;00m j \u001b[39m==\u001b[39m \u001b[39m0\u001b[39m \u001b[39mor\u001b[39;00m i \u001b[39m==\u001b[39m N \u001b[39m-\u001b[39m \u001b[39m1\u001b[39m \u001b[39mor\u001b[39;00m j \u001b[39m==\u001b[39m N \u001b[39m-\u001b[39m \u001b[39m1\u001b[39m):\n",
      "\u001b[0;31mIndexError\u001b[0m: list index out of range"
     ]
    }
   ],
   "source": [
    "\n",
    " "
   ]
  },
  {
   "cell_type": "markdown",
   "metadata": {},
   "source": []
  }
 ],
 "metadata": {
  "kernelspec": {
   "display_name": "Python 3",
   "language": "python",
   "name": "python3"
  },
  "language_info": {
   "codemirror_mode": {
    "name": "ipython",
    "version": 3
   },
   "file_extension": ".py",
   "mimetype": "text/x-python",
   "name": "python",
   "nbconvert_exporter": "python",
   "pygments_lexer": "ipython3",
   "version": "3.10.13"
  },
  "orig_nbformat": 4
 },
 "nbformat": 4,
 "nbformat_minor": 2
}
