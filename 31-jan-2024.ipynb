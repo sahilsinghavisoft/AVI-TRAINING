{
 "cells": [
  {
   "cell_type": "markdown",
   "metadata": {},
   "source": [
    "1.Count Words\n",
    "Problem statement\n",
    "For a given input string(str), find and return the total number of words present in it.\n",
    "\n",
    "It is assumed that two words will have only a single space in between. Also, there wouldn't be any leading and trailing spaces in the given input string.\n",
    "\n",
    "Sample Input 1:\n",
    "This is Avisoft\n",
    "Sample Output 1:\n",
    "3"
   ]
  },
  {
   "cell_type": "code",
   "execution_count": 88,
   "metadata": {},
   "outputs": [
    {
     "name": "stdout",
     "output_type": "stream",
     "text": [
      "2\n"
     ]
    }
   ],
   "source": [
    "x=input(\"enter the string\")\n",
    "print(len(x.split()))"
   ]
  },
  {
   "cell_type": "code",
   "execution_count": 89,
   "metadata": {},
   "outputs": [
    {
     "name": "stdout",
     "output_type": "stream",
     "text": [
      "2\n"
     ]
    }
   ],
   "source": [
    "y=input(\"enter the string\")\n",
    "count=1\n",
    "for i in y:\n",
    "    if i==\" \":\n",
    "        count+=1\n",
    "print(count)\n"
   ]
  },
  {
   "cell_type": "markdown",
   "metadata": {},
   "source": [
    "2.String Palindrome\n",
    "Problem statement\n",
    "Given a string, determine if it is a palindrome, considering only alphanumeric characters.\n",
    "\n",
    "Palindrome\n",
    "A palindrome is a word, number, phrase, or other sequences of characters which read the same backwards and forwards.\n",
    "Example:\n",
    "If the input string happens to be, \"malayalam\" then as we see that this word can be read the same as forward and backwards, it is said to be a valid palindrome.\n",
    "\n",
    "The expected output for this example will print, 'true'.\n",
    "From that being said, you are required to return a boolean value from the function that has been asked to implement.\n"
   ]
  },
  {
   "cell_type": "code",
   "execution_count": 90,
   "metadata": {},
   "outputs": [
    {
     "name": "stdout",
     "output_type": "stream",
     "text": [
      "True\n"
     ]
    }
   ],
   "source": [
    "z=input(\"enter the string: \")\n",
    "cleanstr= \" \".join(char.lower() for char in z if char.isalnum())\n",
    "print(cleanstr[::]==cleanstr[::-1])"
   ]
  },
  {
   "cell_type": "markdown",
   "metadata": {},
   "source": [
    "3.All Substrings\n",
    "Problem statement\n",
    "For a given input string(str), write a function to print all the possible substrings.\n",
    "\n",
    "Substring\n",
    "A substring is a contiguous sequence of characters within a string. \n",
    "Example: \"cod\" is a substring of \"coding\". Whereas, \"cdng\" is not as the characters taken are not contiguous\n",
    "\n",
    "Sample Input 1:\n",
    "abc\n",
    "Sample Output 1:\n",
    "a \n",
    "ab \n",
    "abc \n",
    "b \n",
    "bc \n",
    "c "
   ]
  },
  {
   "cell_type": "code",
   "execution_count": 81,
   "metadata": {},
   "outputs": [
    {
     "name": "stdout",
     "output_type": "stream",
     "text": [
      "A AB ABC  B BC   C "
     ]
    }
   ],
   "source": [
    "str8=input(\"enter the string: \")\n",
    "for i in range(len(str8)):\n",
    "    for j in range(1,len(str8)+1):\n",
    "        print(str8[i:j],end=\" \")\n"
   ]
  },
  {
   "cell_type": "markdown",
   "metadata": {},
   "source": [
    "4.check Permutation\n",
    "Problem statement\n",
    "For a given two strings, 'str1' and 'str2', check whether they are a permutation of each other or not.\n",
    "\n",
    "Permutations of each other\n",
    "Two strings are said to be a permutation of each other when either of the string's characters can be rearranged so that it becomes identical to the other one.\n",
    "\n",
    "Example: \n",
    "str1= \"sinrtg\" \n",
    "str2 = \"string\"\n",
    "\n",
    "The character of the first string(str1) can be rearranged to form str2 and hence we can say that the given strings are a permutation of each other.\n",
    "Sample Input 1:\n",
    "abcde\n",
    "baedc\n",
    "Sample Output True"
   ]
  },
  {
   "cell_type": "code",
   "execution_count": 82,
   "metadata": {},
   "outputs": [
    {
     "name": "stdout",
     "output_type": "stream",
     "text": [
      "true\n"
     ]
    }
   ],
   "source": [
    "def check_permut(str1,str2):\n",
    "   if len(str1)!=len(str2):\n",
    "         print(\"False\")\n",
    "         a=sorted(str1)\n",
    "         str1=\" \".join(a)\n",
    "         b=sorted(str2)\n",
    "         str2=\" \".join(b)\n",
    "   for i in range(0,len(str1),1):\n",
    "        if(str1[i]!=str2[i]):\n",
    "          return False\n",
    "        return True\n",
    "str1=input(\"enter the str1: \")\n",
    "str2=input(\"enter str2: \")\n",
    "if check_permut:\n",
    "   print(\"true\")\n",
    "else:\n",
    "    print(\"false\")"
   ]
  },
  {
   "cell_type": "markdown",
   "metadata": {},
   "source": [
    "5.Remove Consecutive Duplicates\n",
    "Problem statement\n",
    "For a given string(str), remove all the consecutive duplicate characters.\n",
    "\n",
    "Example:\n",
    "Input String: \"aaaa\"\n",
    "Expected Output: \"a\"\n",
    "\n",
    "Input String: \"aabbbcc\"\n",
    "Expected Output: \"abc\"\n",
    " Input Format:\n",
    "The first and only line of input contains a string without any leading and trailing spaces. All the characters in the string would be in lower case.\n",
    "Output Format:\n",
    "The only line of output prints the updated string.\n",
    "Note:\n",
    "You are not required to print anything. It has already been taken care of."
   ]
  },
  {
   "cell_type": "code",
   "execution_count": 83,
   "metadata": {},
   "outputs": [
    {
     "name": "stdout",
     "output_type": "stream",
     "text": [
      "abc\n"
     ]
    }
   ],
   "source": [
    "str10=input(\"enter the string: \")\n",
    "\n",
    "ans=\"\"\n",
    "for i in range(0,len(str)-1):\n",
    "    if str10[i]!=str10[i+1]:\n",
    "        ans+=str10[i]\n",
    "ans+=str10[len(str10)-1]\n",
    "print(ans)\n"
   ]
  },
  {
   "cell_type": "markdown",
   "metadata": {},
   "source": [
    "\n",
    "6.Remove character\n",
    "Problem statement\n",
    "For a given a string(str) and a character X, write a function to remove all the occurrences of X from the given string.\n",
    "\n",
    "The input string will remain unchanged if the given character(X) doesn't exist in the input string.\n",
    "\n",
    "Sample Input 1:\n",
    "aabccbaa\n",
    "a\n",
    "Sample Output 1:\n",
    "bccb\n",
    "\n"
   ]
  },
  {
   "cell_type": "code",
   "execution_count": 85,
   "metadata": {},
   "outputs": [
    {
     "name": "stdout",
     "output_type": "stream",
     "text": [
      "b b b b b c c c c "
     ]
    }
   ],
   "source": [
    "str9=input(\"enter the string\")\n",
    "k=input(\"enter the kstring\")\n",
    "for i in range(len(str9)-1):\n",
    "    if str9[i]==k:\n",
    "        continue\n",
    "    print(str9[i],end=\" \")"
   ]
  },
  {
   "cell_type": "markdown",
   "metadata": {},
   "source": [
    "7.Highest Occuring Charactor\n",
    "Problem statement\n",
    "For a given a string(str), find and return the highest occurring character.\n",
    "\n",
    "Example:\n",
    "Input String: \"abcdeapapqarr\"\n",
    "Expected Output: 'a'\n",
    "Since 'a' has appeared four times in the string which happens to be the highest frequency character, the answer would be 'a'.\n",
    "If there are two characters in the input string with the same frequency, return the character which comes first.\n",
    "\n",
    "Consider:\n",
    "Assume all the characters in the given string to be in lowercase always.\n",
    "\n",
    "Sample Input 1:\n",
    "abdefgbabfba\n",
    "Sample Output 1:\n",
    "b"
   ]
  },
  {
   "cell_type": "code",
   "execution_count": 86,
   "metadata": {},
   "outputs": [
    {
     "name": "stdout",
     "output_type": "stream",
     "text": [
      "a\n"
     ]
    }
   ],
   "source": [
    "str1=input(\"enter the string\")\n",
    "max_count={}\n",
    "for char in str1: \n",
    "    \n",
    "    if char in max_count:\n",
    "        max_count[char]+=1\n",
    "    else:\n",
    "        max_count[char]=1\n",
    "ans=max((max_count),key=max_count.get)\n",
    "print((ans))"
   ]
  },
  {
   "cell_type": "markdown",
   "metadata": {},
   "source": [
    "8.Compress the String\n",
    "Problem statement\n",
    "Write a program to do basic string compression. For a character which is consecutively repeated more than once, replace consecutive duplicate occurrences with the count of repetitions.\n",
    "\n",
    "Example:\n",
    "If a string has 'x' repeated 5 times, replace this \"xxxxx\" with \"x5\".\n",
    "\n",
    "The string is compressed only when the repeated character count is more than 1.\n",
    "Note:\n",
    "Consecutive count of every character in the input string is less than or equal to 9. You are not required to print anything. It has already been taken care of. Just implement the given function and return the compressed string."
   ]
  },
  {
   "cell_type": "markdown",
   "metadata": {},
   "source": []
  },
  {
   "cell_type": "code",
   "execution_count": null,
   "metadata": {},
   "outputs": [],
   "source": [
    "def compress_string(str1):\n",
    "    ans=\"\"\n",
    "    count=1\n",
    "    for i in range(0,len(str1)-1):\n",
    "        if(str1[i]==str1[i+1]):\n",
    "            count+=1\n",
    "        else:\n",
    "            ans+=str1[i]\n",
    "            ans+=str(count)\n",
    "            count=1\n",
    "    ans+=str1[i+1]\n",
    "    ans+=str(count)\n",
    "    return ans\n",
    "\n",
    "str1=input(\"Enter your string str1: \")\n",
    "ans=\"\"\n",
    "\n",
    "print(compress_string(str1))"
   ]
  },
  {
   "cell_type": "markdown",
   "metadata": {},
   "source": []
  }
 ],
 "metadata": {
  "kernelspec": {
   "display_name": "Python 3",
   "language": "python",
   "name": "python3"
  },
  "language_info": {
   "codemirror_mode": {
    "name": "ipython",
    "version": 3
   },
   "file_extension": ".py",
   "mimetype": "text/x-python",
   "name": "python",
   "nbconvert_exporter": "python",
   "pygments_lexer": "ipython3",
   "version": "3.10.13"
  },
  "orig_nbformat": 4
 },
 "nbformat": 4,
 "nbformat_minor": 2
}
