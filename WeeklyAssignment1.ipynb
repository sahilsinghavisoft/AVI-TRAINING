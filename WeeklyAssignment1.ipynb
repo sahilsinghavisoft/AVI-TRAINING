{
 "cells": [
  {
   "cell_type": "code",
   "execution_count": null,
   "metadata": {},
   "outputs": [],
   "source": []
  },
  {
   "cell_type": "markdown",
   "metadata": {},
   "source": [
    "write a program to analyse student records\n",
    "\n",
    "1. Take user input for students details and their marks\n",
    "2. now analyse marks on the basis of certain thresholds that is minimum/maximum threshold \n",
    "3. find the 1st 5 topper of the batch. the first topper should be rewarded separately \n",
    "4. segregate students after calculating the avg marks in three categories (i) above maximum threshold (ii) between maximum and minimum threshold (iii) below minimum threshold \n",
    "5. the students below minimum threshold would require personal attention so now make a separate list, those who required personal attention.\n",
    "6. there is also failing criteria for each subjects if any students fails in any of the subjects put them in to personal attention list\n",
    "\n",
    "example:\n",
    "Rohan has 10 out of 100 in java but have a good avg lets say 75/100 he should still be placed in personal attention list\n",
    "\n",
    "7. Providing options for the user to choose which analysis to perform.\n",
    "8. Handling edge cases, such as invalid inputs\n"
   ]
  },
  {
   "cell_type": "code",
   "execution_count": null,
   "metadata": {},
   "outputs": [],
   "source": [
    "class avisoft:\n",
    "    def _init_(self,Name,Student_id)"
   ]
  }
 ],
 "metadata": {
  "language_info": {
   "name": "python"
  },
  "orig_nbformat": 4
 },
 "nbformat": 4,
 "nbformat_minor": 2
}
