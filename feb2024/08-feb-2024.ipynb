{
 "cells": [
  {
   "cell_type": "code",
   "execution_count": null,
   "metadata": {},
   "outputs": [],
   "source": []
  },
  {
   "cell_type": "markdown",
   "metadata": {},
   "source": [
    "1.Write a Python function that takes two parameters, numerator and denominator, and returns the result of the division. However, handle the case where the denominator is zero by using a try-except block. In the except block, print an error message and return None"
   ]
  },
  {
   "cell_type": "code",
   "execution_count": 11,
   "metadata": {},
   "outputs": [
    {
     "name": "stdout",
     "output_type": "stream",
     "text": [
      "division by zero\n"
     ]
    }
   ],
   "source": [
    "def division(numerator,denominator):\n",
    "    try:\n",
    "        result=numerator/denominator\n",
    "        return result\n",
    "    except ZeroDivisionError as e:\n",
    "        print(e)\n",
    "numerator=int(input(\"enter he numerator: \"))\n",
    "denominator=int(input(\"enter the denominator\"))\n",
    "division(numerator,denominator)\n",
    "\n",
    "    "
   ]
  },
  {
   "cell_type": "markdown",
   "metadata": {},
   "source": [
    "2.Create a function that reads the content of a file. Use a try-except block to handle the case where the file does not exist. In the except block, print an error message and return an empty string."
   ]
  },
  {
   "cell_type": "code",
   "execution_count": 5,
   "metadata": {},
   "outputs": [
    {
     "name": "stdout",
     "output_type": "stream",
     "text": [
      "Error: File 'hry.txt' not found.\n"
     ]
    },
    {
     "data": {
      "text/plain": [
       "' '"
      ]
     },
     "execution_count": 5,
     "metadata": {},
     "output_type": "execute_result"
    }
   ],
   "source": [
    "def read(filename):\n",
    "    try:\n",
    "        with open(filename,\"r\")as file:\n",
    "            content=file.read()\n",
    "        return content\n",
    "    except FileNotFoundError:\n",
    "        print(\"Error: File '{}' not found.\".format(filename))\n",
    "        return \" \"\n",
    "filename=input(\"enter the file name\")\n",
    "read(filename)\n"
   ]
  },
  {
   "cell_type": "markdown",
   "metadata": {},
   "source": [
    "3.Define a custom exception class called InvalidInputError. Write a function that takes user input (an integer) and raises this custom exception if the input is not a positive integer. Use a try-except block to catch this custom exception and print an error message."
   ]
  },
  {
   "cell_type": "code",
   "execution_count": 9,
   "metadata": {},
   "outputs": [
    {
     "name": "stdout",
     "output_type": "stream",
     "text": [
      "Error: Input must be an integer.\n"
     ]
    }
   ],
   "source": [
    "class InvalidInputError(Exception):\n",
    "    pass\n",
    "def get_positive_integer():\n",
    "    try:\n",
    "        user_input = int(input(\"Please enter a positive integer: \"))\n",
    "        if user_input <= 0:\n",
    "            raise InvalidInputError(\"Input must be a positive integer.\")\n",
    "        return user_input\n",
    "    except ValueError:\n",
    "        raise InvalidInputError(\"Input must be an integer.\")\n",
    "try:\n",
    "    num = get_positive_integer()\n",
    "    print(\"You entered:\", num)\n",
    "except InvalidInputError as e:\n",
    "    print(\"Error:\", e)\n"
   ]
  },
  {
   "cell_type": "markdown",
   "metadata": {},
   "source": [
    "4.Create a function that validates a user's password. The password must satisfy the following conditions:\n",
    "\n",
    "At least 8 characters long\n",
    "Contains at least one uppercase letter\n",
    "Contains at least one digit"
   ]
  },
  {
   "cell_type": "code",
   "execution_count": 40,
   "metadata": {},
   "outputs": [
    {
     "name": "stdout",
     "output_type": "stream",
     "text": [
      "Password is okay.\n"
     ]
    }
   ],
   "source": [
    "def validate(password):\n",
    "    try:\n",
    "        if len(password) < 8:\n",
    "            raise ValueError(\"Password must be at least 8 characters long.\")\n",
    "        \n",
    "        if not any(char.isupper() for char in password):\n",
    "            raise ValueError(\"Password must contain at least one uppercase letter.\")\n",
    "\n",
    "        if not any(char.isdigit() for char in password):\n",
    "            raise ValueError(\"Password must contain at least one digit.\")\n",
    "        return True\n",
    "    except ValueError as e:\n",
    "        print(\"Error:\", e)\n",
    "        return False\n",
    "password = input(\"Enter your password to validate: \")\n",
    "if validate(password):\n",
    "    print(\"Password is okay.\")\n",
    "else:\n",
    "    print(\"Please provide a valid password.\")\n"
   ]
  },
  {
   "cell_type": "markdown",
   "metadata": {},
   "source": [
    "5.URL Parsing\n",
    "Create a function that parses a URL and extracts the protocol (http or https), domain, and path. Define a custom exception InvalidURLError and raise it if the URL does not start with \"http://\" or \"https://\"."
   ]
  },
  {
   "cell_type": "code",
   "execution_count": 12,
   "metadata": {},
   "outputs": [
    {
     "name": "stdout",
     "output_type": "stream",
     "text": [
      "Protocol: https\n",
      "Domain: www.example.com\n",
      "Path: path/to/page\n"
     ]
    }
   ],
   "source": [
    "class InvalidURLError(Exception):\n",
    "    pass\n",
    "def parse_url(url):\n",
    "    if not url.startswith(\"http://\") and not url.startswith(\"https://\"):\n",
    "        raise InvalidURLError(\"Invalid URL format. URL must start with 'http://' or 'https://'.\")\n",
    "    protocol = url.split('://')[0]\n",
    "    domain_path = url.split('://')[1]\n",
    "    domain, path = domain_path.split('/', 1) if '/' in domain_path else (domain_path, '')\n",
    "    return protocol, domain, path\n",
    "try:\n",
    "    url = \"https://www.example.com/path/to/page\"\n",
    "    protocol, domain, path = parse_url(url)\n",
    "    print(\"Protocol:\", protocol)\n",
    "    print(\"Domain:\", domain)\n",
    "    print(\"Path:\", path)\n",
    "except InvalidURLError as e:\n",
    "    print(\"Error:\", e)\n",
    "    \n"
   ]
  },
  {
   "cell_type": "markdown",
   "metadata": {},
   "source": [
    "6.Custom Assertion\n",
    "Write a function that accepts a number as input and uses a custom exception AssertionError to raise an error if the number is negative. Use an assert statement to check this condition."
   ]
  },
  {
   "cell_type": "code",
   "execution_count": 1,
   "metadata": {},
   "outputs": [
    {
     "name": "stdout",
     "output_type": "stream",
     "text": [
      "AssertionError\n"
     ]
    }
   ],
   "source": [
    "def customassertion(input_1):\n",
    "    assert input_1>=0, \"AssertionError\"\n",
    "    return input_1\n",
    "try:\n",
    "    input_1=int(input(\"enter he number: \"))\n",
    "    customassertion(input_1)\n",
    "except AssertionError as e:\n",
    "    print(e)\n"
   ]
  },
  {
   "cell_type": "code",
   "execution_count": null,
   "metadata": {},
   "outputs": [],
   "source": []
  }
 ],
 "metadata": {
  "kernelspec": {
   "display_name": "Python 3 (ipykernel)",
   "language": "python",
   "name": "python3"
  },
  "language_info": {
   "codemirror_mode": {
    "name": "ipython",
    "version": 3
   },
   "file_extension": ".py",
   "mimetype": "text/x-python",
   "name": "python",
   "nbconvert_exporter": "python",
   "pygments_lexer": "ipython3",
   "version": "3.11.5"
  },
  "orig_nbformat": 4
 },
 "nbformat": 4,
 "nbformat_minor": 2
}
