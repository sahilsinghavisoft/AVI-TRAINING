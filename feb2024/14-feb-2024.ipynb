{
 "cells": [
  {
   "cell_type": "code",
   "execution_count": null,
   "metadata": {},
   "outputs": [],
   "source": []
  },
  {
   "cell_type": "markdown",
   "metadata": {},
   "source": [
    "Problem 1\n",
    "Write a NumPy program to test whether each element of a 1-D array is also present in a second array.\n",
    "Expected Output:\n",
    "Array1: [ 0 10 20 40 60]\n",
    "Array2: [0, 40]\n",
    "Compare each element of array1 and array2\n",
    "Output: [ True False False True False]"
   ]
  },
  {
   "cell_type": "code",
   "execution_count": 10,
   "metadata": {},
   "outputs": [
    {
     "name": "stdout",
     "output_type": "stream",
     "text": [
      "[ True False False  True False]\n"
     ]
    }
   ],
   "source": [
    "import numpy as np\n",
    "array1_input = input(\"Enter elements for array1 separated by spaces: \")\n",
    "array1 = np.array(list(map(int, array1_input.split())))\n",
    "\n",
    "\n",
    "#print(array1)\n",
    "array2_input = input(\"Enter elements for array2 separated by spaces: \")\n",
    "array2 = np.array(list(map(int, array2_input.split())))\n",
    "\n",
    "result=np.isin(array1,array2)\n",
    "print(result)"
   ]
  },
  {
   "cell_type": "markdown",
   "metadata": {},
   "source": [
    "Problem 2\n",
    "Write a NumPy program to get the unique elements of an array\n",
    "Expected Output:\n",
    "Original array:\n",
    "[10 10 20 20 30 30]\n",
    "Unique elements of the above array:\n",
    "[10 20 30]\n",
    "Original array:\n",
    "[[1 1]\n",
    "[2 3]]\n",
    "Unique elements of the above array:\n",
    "[1 2 3]\n"
   ]
  },
  {
   "cell_type": "code",
   "execution_count": 13,
   "metadata": {},
   "outputs": [
    {
     "name": "stdout",
     "output_type": "stream",
     "text": [
      "[1 2 3]\n"
     ]
    }
   ],
   "source": [
    "rows = int(input(\"Enter the number of rows: \"))\n",
    "cols = int(input(\"Enter the number of columns: \"))\n",
    "input_array = []\n",
    "for i in range(rows):\n",
    "    row_input = input(f\"Enter elements for row {i + 1} separated by spaces: \")\n",
    "    row = list(map(int, row_input.split()))\n",
    "    input_array.append(row)\n",
    "array3 = np.array(input_array)\n",
    "print(np.unique(array3))\n"
   ]
  },
  {
   "cell_type": "markdown",
   "metadata": {},
   "source": [
    "Problem 3\n",
    "Write a NumPy program to sort an along the first, last axis of an array.\n",
    "Sample array: [[2,5],[4,4]]\n",
    "Expected Output:\n",
    "Original array:\n",
    "[[4 6]\n",
    "[2 1]]\n",
    "Sort along the first axis:\n",
    "[[2 1]\n",
    "[4 6]]\n",
    "Sort along the last axis:\n",
    "[[1 2]\n",
    "[4 6]]\n",
    "\n"
   ]
  },
  {
   "cell_type": "code",
   "execution_count": 31,
   "metadata": {},
   "outputs": [
    {
     "name": "stdout",
     "output_type": "stream",
     "text": [
      "[[2 1]\n",
      " [4 6]]\n",
      "[[1 2]\n",
      " [4 6]]\n"
     ]
    }
   ],
   "source": [
    "\n",
    "rows = int(input(\"Enter the number of rows: \"))\n",
    "cols = int(input(\"Enter the number of columns: \"))\n",
    "input_array = []\n",
    "for i in range(rows):\n",
    "    row_input = input(f\"Enter elements for row {i + 1} separated by spaces: \")\n",
    "    row = list(map(int, row_input.split()))\n",
    "    input_array.append(row)\n",
    "x=np.sort(input_array,axis=0)\n",
    "print(x)\n",
    "y=np.sort(x,axis=-1)\n",
    "print(y)"
   ]
  },
  {
   "cell_type": "markdown",
   "metadata": {},
   "source": [
    "Problem 4\n",
    "Write a NumPy program to count the occurrence of a specified item in a given NumPy array.\n",
    "Sample Output:\n",
    "Original array:\n",
    "[10 20 20 20 20 0 20 30 30 30 0 0 20 20 0]\n",
    "[4,1,7,3]\n"
   ]
  },
  {
   "cell_type": "code",
   "execution_count": 35,
   "metadata": {},
   "outputs": [
    {
     "name": "stdout",
     "output_type": "stream",
     "text": [
      "[4 1 7 3]\n"
     ]
    }
   ],
   "source": [
    "array1_input = input(\"Enter elements for array1 separated by spaces: \")\n",
    "array1 = np.array(list(map(int, array1_input.split())))\n",
    "elements,counts=np.unique(array1,return_counts=True)\n",
    "print(counts)"
   ]
  },
  {
   "cell_type": "markdown",
   "metadata": {},
   "source": [
    "Problem 5\n",
    "Write a NumPy program to remove nan values from a given array.\n",
    "Sample Output:\n",
    "Original array:200. 300. nan nan nan 700.\n",
    "[]\n",
    "After removing nan values:\n",
    "[200. 300. 700.]"
   ]
  },
  {
   "cell_type": "code",
   "execution_count": 43,
   "metadata": {},
   "outputs": [
    {
     "name": "stdout",
     "output_type": "stream",
     "text": [
      "200.0 300.0 700.0 "
     ]
    }
   ],
   "source": [
    "import pandas as pd\n",
    "array1_input = input(\"Enter elements for array1 separated by spaces: \")\n",
    "array1 = np.array(list(map(float, array1_input.split())))\n",
    "for i in array1:\n",
    "    if pd.notnull(i):\n",
    "        print(i,end=\" \")\n"
   ]
  },
  {
   "cell_type": "code",
   "execution_count": 63,
   "metadata": {},
   "outputs": [
    {
     "name": "stdout",
     "output_type": "stream",
     "text": [
      "200.0 300.0 700.0 "
     ]
    }
   ],
   "source": [
    "array1_input = input(\"Enter elements for array1 separated by spaces: \")\n",
    "array1 = np.array(list(map(float, array1_input.split())))\n",
    "for i in array1:\n",
    "    if ~np.isnan(i):\n",
    "        print(i,end=\" \")"
   ]
  },
  {
   "cell_type": "markdown",
   "metadata": {},
   "source": [
    "Problem 6\n",
    "Write a NumPy program to calculate percentiles for a sequence or single-dimensional NumPy array.\n",
    "Sample Output:\n",
    "50th percentile (median):\n",
    "3.0\n",
    "40th percentile:\n",
    "2.6\n",
    "90th percentile:\n",
    "4.6"
   ]
  },
  {
   "cell_type": "code",
   "execution_count": 61,
   "metadata": {},
   "outputs": [
    {
     "name": "stdout",
     "output_type": "stream",
     "text": [
      "3.0\n",
      "2.6\n",
      "4.6\n"
     ]
    }
   ],
   "source": [
    "array1_input = input(\"Enter elements for array1 separated by spaces: \")\n",
    "array1 = np.array(list(map(int, array1_input.split())))\n",
    "median1=np.percentile(array1,50)\n",
    "median2=np.percentile(array1,40)\n",
    "median3=np.percentile(array1,90)\n",
    "print(median1)\n",
    "print(median2)\n",
    "print(median3)\n"
   ]
  },
  {
   "cell_type": "markdown",
   "metadata": {},
   "source": [
    "Problem 7\n",
    "Write a NumPy program to find indices of elements equal to zero in a NumPy array.\n",
    "Sample Output:\n",
    "Original array:1 0 2 0 3 0 4 5 6 7 8\n",
    "[]\n",
    "Indices of elements equal to zero of the said array:\n",
    "[1 3 5]"
   ]
  },
  {
   "cell_type": "code",
   "execution_count": 70,
   "metadata": {},
   "outputs": [
    {
     "name": "stdout",
     "output_type": "stream",
     "text": [
      "[1 3 5]\n"
     ]
    }
   ],
   "source": [
    "array1_input = input(\"Enter elements for array1 separated by spaces: \")\n",
    "array1 = np.array(list(map(int, array1_input.split())))\n",
    "indices=np.where(array1==0)[0]\n",
    "print(indices)"
   ]
  },
  {
   "cell_type": "markdown",
   "metadata": {},
   "source": [
    "Problem 8\n",
    "Write a NumPy program to round elements of the array to the nearest integer, and then calculate the abslute value element wise.\n",
    "Sample Output:\n",
    "Original array:\n",
    "[-0.7 -1.5 -1.7 0.3 1.5 1.8 2. ]\n",
    "Round elements of the array to the nearest integer:\n",
    "[1. 2. 2. 0. 2. 2. 2.]"
   ]
  },
  {
   "cell_type": "code",
   "execution_count": 59,
   "metadata": {},
   "outputs": [
    {
     "name": "stdout",
     "output_type": "stream",
     "text": [
      "[1. 2. 2. 0. 2. 2. 2.]\n"
     ]
    }
   ],
   "source": [
    "import numpy as np\n",
    "array1_input = input(\"Enter elements for array1 separated by spaces: \")\n",
    "array1 = np.array(list(map(float, array1_input.split())))\n",
    "result = np.round(np.absolute(array1))\n",
    "print(result)\n"
   ]
  },
  {
   "cell_type": "markdown",
   "metadata": {},
   "source": [
    "Problem 9\n",
    "Write a NumPy program to calculate the difference between neighboring elements, element-wise, and prepend [0, 0] and append[200] to a given array.\n",
    "Sample output:\n",
    "Original array:\n",
    "[1 3 5 7 0]\n",
    "Difference between neighboring elements, element-wise, and prepend [0, 0] and append[200] to the said array:\n",
    "[ 0 0 2 2 2 -7 200]"
   ]
  },
  {
   "cell_type": "code",
   "execution_count": 3,
   "metadata": {},
   "outputs": [
    {
     "name": "stdout",
     "output_type": "stream",
     "text": [
      "[0, 0, 2, 2, 2, -7, 200]\n"
     ]
    }
   ],
   "source": [
    "import numpy as np\n",
    "array1_input = input(\"Enter elements for array1 separated by spaces: \")\n",
    "array1 = np.array(list(map(int, array1_input.split())))\n",
    "\n",
    "list1 = [0, 0]\n",
    "for i in range(len(array1) - 1):\n",
    "    diff = array1[i+1] - array1[i ]\n",
    "    list1.append(diff)\n",
    "\n",
    "list1.append(200)  \n",
    "print(list1)\n",
    "\n"
   ]
  },
  {
   "cell_type": "code",
   "execution_count": null,
   "metadata": {},
   "outputs": [],
   "source": [
    "import numpy as np\n",
    "original_array = np.array([1, 3, 5, 7, 0])\n",
    "print(original_array)\n",
    "diff_array = np.diff(original_array)\n",
    "diff_array = np.concatenate(([0, 0], diff_array))\n",
    "diff_array = np.append(diff_array, [200])\n",
    "print(\"Difference between neighboring elements, element-wise, and prepend [0, 0] and append [200] to the array:\")\n",
    "print(diff_array)\n"
   ]
  },
  {
   "cell_type": "markdown",
   "metadata": {},
   "source": [
    "Problem 10\n",
    "Write a NumPy program to get the indices of the sorted elements of a given array.\n",
    "Expected Output:\n",
    "Original array:\n",
    "[1023 5202 6230 1671 1682 5241 4532]\n",
    "Indices of the sorted elements of a given array:\n",
    "[0 3 4 6 1 5 2]"
   ]
  },
  {
   "cell_type": "code",
   "execution_count": 71,
   "metadata": {},
   "outputs": [
    {
     "name": "stdout",
     "output_type": "stream",
     "text": [
      "[0 3 4 6 1 5 2]\n"
     ]
    }
   ],
   "source": [
    "array1_input = input(\"Enter elements for array1 separated by spaces: \")\n",
    "array1 = np.array(list(map(int, array1_input.split())))\n",
    "print(np.argsort(array1))"
   ]
  },
  {
   "cell_type": "markdown",
   "metadata": {},
   "source": [
    "Problem 11\n",
    "Write a NumPy program to partition a given array in a specified position and move all the smaller elements values to the left of the partition, and the remaining values to the right, in arbitrary order (based on random choice).\n",
    "Sample output:\n",
    "Original array:\n",
    "[ 70 50 20 30 -11 60 50 40]\n",
    "After partitioning on 4 the position:\n",
    "[-11 30 20 40 50 50 60 70]"
   ]
  },
  {
   "cell_type": "code",
   "execution_count": 4,
   "metadata": {},
   "outputs": [
    {
     "name": "stdout",
     "output_type": "stream",
     "text": [
      "[-11  30  20  40  50  50  60  70]\n"
     ]
    }
   ],
   "source": [
    "array1_input = input(\"Enter elements for array1 separated by spaces: \")\n",
    "array1 = np.array(list(map(int, array1_input.split())))\n",
    "print(np.partition(array1,(0,len(array1)//2)))"
   ]
  },
  {
   "cell_type": "markdown",
   "metadata": {},
   "source": [
    "Problem 12\n",
    "Compute the euclidean distance between two arrays a and b.\n",
    "Input:\n",
    "[1,2,3,4,5]\n",
    "[4,5,6,7,8]\n",
    "Euclidean distance is: 6.7082\n"
   ]
  },
  {
   "cell_type": "code",
   "execution_count": 51,
   "metadata": {},
   "outputs": [
    {
     "name": "stdout",
     "output_type": "stream",
     "text": [
      "Euclidean distance is 6.708203932499369\n"
     ]
    }
   ],
   "source": [
    "array1_input = input(\"Enter elements for array1 separated by spaces: \")\n",
    "array1 = np.array(list(map(int, array1_input.split(\",\"))))\n",
    "array2_input = input(\"Enter elements for array2 separated by spaces: \")\n",
    "array2 = np.array(list(map(int, array2_input.split(\",\"))))\n",
    "print(\"Euclidean distance is\",np.sqrt(np.sum(np.square(array1-array2))))"
   ]
  },
  {
   "cell_type": "markdown",
   "metadata": {},
   "source": [
    "Problem 13\n",
    "Find all the peaks in a 1D numpy array a. Peaks are points surrounded by smaller values on both sides.\n",
    "Input:\n",
    "array([1, 3, 7, 1, 2, 6, 0, 1])\n",
    "Desired Output:\n",
    "array( [2, 5])\n",
    "where, 2 and 5 are the positions of peak values 7 and 6."
   ]
  },
  {
   "cell_type": "code",
   "execution_count": 47,
   "metadata": {},
   "outputs": [
    {
     "name": "stdout",
     "output_type": "stream",
     "text": [
      "[2 5]\n"
     ]
    }
   ],
   "source": [
    "array1_input = input(\"Enter elements for array1 separated by spaces: \")\n",
    "array1 = np.array(list(map(int, array1_input.split(\",\"))))\n",
    "peak=[]\n",
    "for i in range(len(array1-1)-1):\n",
    "    if array1[i]>array1[i+1] and array1[i]>array1[i-1]:\n",
    "        peak.append(i)\n",
    "result=np.array(peak)\n",
    "print(result)"
   ]
  },
  {
   "cell_type": "markdown",
   "metadata": {},
   "source": [
    "Problem 14\n",
    "Find the index of nth repetition of number i .\n",
    "Inputs\n",
    "array([1, 2, 1, 1, 3, 4, 3, 1, 1, 2, 1, 1, 2])\n",
    "n = 5 (from user)\n",
    "i = 1 (from user)\n",
    "Output\n",
    "8"
   ]
  },
  {
   "cell_type": "code",
   "execution_count": 45,
   "metadata": {},
   "outputs": [
    {
     "name": "stdout",
     "output_type": "stream",
     "text": [
      "8\n"
     ]
    }
   ],
   "source": [
    "array1_input = input(\"Enter elements for array1 separated by spaces: \")\n",
    "array1 = np.array(list(map(int, array1_input.split(\",\"))))\n",
    "i=int(input(\"enter the value of i\"))\n",
    "n=int(input(\"enter the value of n\"))\n",
    "indices=np.where(array1==i)[0]\n",
    "result=indices[n-1]if n<=len(indices) else -1\n",
    "print(result)"
   ]
  },
  {
   "cell_type": "code",
   "execution_count": null,
   "metadata": {},
   "outputs": [],
   "source": []
  }
 ],
 "metadata": {
  "kernelspec": {
   "display_name": "Python 3 (ipykernel)",
   "language": "python",
   "name": "python3"
  },
  "language_info": {
   "codemirror_mode": {
    "name": "ipython",
    "version": 3
   },
   "file_extension": ".py",
   "mimetype": "text/x-python",
   "name": "python",
   "nbconvert_exporter": "python",
   "pygments_lexer": "ipython3",
   "version": "3.10.13"
  },
  "orig_nbformat": 4
 },
 "nbformat": 4,
 "nbformat_minor": 2
}
