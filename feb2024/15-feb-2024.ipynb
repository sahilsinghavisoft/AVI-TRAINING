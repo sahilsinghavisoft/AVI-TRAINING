{
 "cells": [
  {
   "cell_type": "code",
   "execution_count": null,
   "metadata": {},
   "outputs": [],
   "source": []
  },
  {
   "cell_type": "code",
   "execution_count": null,
   "metadata": {},
   "outputs": [],
   "source": []
  },
  {
   "cell_type": "markdown",
   "metadata": {},
   "source": [
    "Problem statment\n",
    "The content, tone, and format of job bulletins can influence the quality of the applicant pool. Overly-specific job requirements may discourage diversity. The Los Angeles Mayor’s Office wants to reimagine the city’s job bulletins by using text analysis to identify needed improvements, in order to achive this use the daatset in the relative diretcotry ./Datasets/la_jobs.csv, and this is the decomentation for the useful columns you should use:\n",
    "\n",
    "FILE_NAME: The bulletins file name.\n",
    "JOB_CLASS_TITLE: Job title.\n",
    "JOB_CLASS_NO: Job number.\n",
    "JOB_DUTIES: The duties of this job.\n",
    "EDUCATION_YEARS: Number of education yeras needed to apply for this job.\n",
    "SCHOOL_TYPE: The type of school you need to study in.\n",
    "EDUCATION_MAJOR: The eductaion major you study in this school.\n",
    "EXPERIENCE_LENGTH: The number of experience years needed to apply for this job.\n",
    "FULL_TIME_PART_TIME: If the job is full time or part time or both.\n",
    "EXP_JOB_CLASS_TITLE: The title of the job you must have experience in before applying in this job.\n",
    "COURSE_COUNT: Number of courses needed to apply for this job.\n",
    "COURSE_LENGTH: The course length in years or months.\n",
    "COURSE_SUBJECT: The course subject tha is needed to be accepted in this job.\n",
    "DRIVERS_LICENSE_REQ: Is driver license required or not for this job.\n",
    "EXAM_TYPE: Type of exams neededin the hiring process.\n",
    "ENTRY_SALARY: Salary range in this job.\n",
    "OPEN_DATE: Date at it the job bulliten got open.\n",
    "REQUIREMENT_SET_TEXT: The requirments set need for this job in points.\n",
    "The goal is to answer the following questions-\n",
    "\n",
    "-Impute / Replace Missing Values with median because The median is usually preferred with outliers than mean\n",
    "-Replace missing values in SCHOOL_TYPE with the most frequent value\n",
    "-change type of OPEN_DATE column\n",
    "\n",
    "Q1:\n",
    "A non-experienced job seeker wants to know what is the best job for him?\n",
    "\n",
    "Q2:\n",
    "A concerned parents contacts you to tell them if there is a spicific school type that would guaranteed for their child a good future if you can tell, and which is it ?\n",
    "\n",
    "Q3:\n",
    "What the best time in the year to be ready for a job applying in any experience level?\n",
    "\n",
    "Q4:\n",
    "Is experience more important than educational level?\n",
    "\n",
    "Q5:\n",
    "Which fresh grade job that will guarantee many job offers in the future for him?\n",
    "\n",
    "Q6:\n",
    "\"The City of Los Angeles does not discriminate on the basis of race, religion, national origin, sex, age, marital status, sexual orientation, gender identity, gender expression, disability, creed, color, ancestry, medical condition (cancer), or Acquired Immune Deficiency Syndrome.\n",
    "\n",
    "AN EQUAL EMPLOYMENT OPPORTUNITY EMPLOYER \"\n",
    "\n",
    "The above statment is qouted from one of the job descriptions.\n",
    "\n",
    "Based on the jobs requirments column above do you think that LA governate may bais a little for men over women or the applicant marital status for example may effect his chance to gain the job?\n"
   ]
  },
  {
   "cell_type": "code",
   "execution_count": 27,
   "metadata": {},
   "outputs": [
    {
     "data": {
      "text/plain": [
       "Unnamed: 0                 0\n",
       "FILE_NAME                  0\n",
       "JOB_CLASS_TITLE            0\n",
       "JOB_CLASS_NO               0\n",
       "REQUIREMENT_SET_ID         0\n",
       "REQUIREMENT_SUBSET_ID      0\n",
       "JOB_DUTIES                 0\n",
       "EDUCATION_YEARS            0\n",
       "SCHOOL_TYPE                0\n",
       "EDUCATION_MAJOR            0\n",
       "EXPERIENCE_LENGTH          0\n",
       "FULL_TIME_PART_TIME        0\n",
       "EXP_JOB_CLASS_TITLE        0\n",
       "EXP_JOB_CLASS_ALT_RESP     0\n",
       "EXP_JOB_CLASS_FUNCTION     0\n",
       "COURSE_COUNT               0\n",
       "COURSE_LENGTH              0\n",
       "COURSE_SUBJECT             0\n",
       "MISC_COURSE_DETAILS        0\n",
       "DRIVERS_LICENSE_REQ        0\n",
       "DRIV_LIC_TYPE              0\n",
       "ADDTL_LIC                  0\n",
       "EXAM_TYPE                  0\n",
       "ENTRY_SALARY_GEN           0\n",
       "ENTRY_SALARY_DWP           0\n",
       "OPEN_DATE                  0\n",
       "REQUIREMENT_SET_TEXT       0\n",
       "REQUIREMENT_SUBSET_TEXT    0\n",
       "REQUIREMENT_CONJUNCTION    0\n",
       "dtype: int64"
      ]
     },
     "execution_count": 27,
     "metadata": {},
     "output_type": "execute_result"
    }
   ],
   "source": [
    "import pandas as pd\n",
    "dff=pd.read_csv(\"la_jobs.csv\")\n",
    "dff.isnull().sum()\n"
   ]
  },
  {
   "cell_type": "code",
   "execution_count": 30,
   "metadata": {},
   "outputs": [
    {
     "data": {
      "text/plain": [
       "REQUIREMENT_SUBSET_ID\n",
       "a    1300\n",
       "b      38\n",
       "c      14\n",
       "d       9\n",
       "e       7\n",
       "f       2\n",
       "i       2\n",
       "g       1\n",
       "h       1\n",
       "Name: count, dtype: int64"
      ]
     },
     "execution_count": 30,
     "metadata": {},
     "output_type": "execute_result"
    }
   ],
   "source": [
    "dff.REQUIREMENT_SUBSET_ID .value_counts()\n",
    "dff.REQUIREMENT_SUBSET_ID=dff.REQUIREMENT_SUBSET_ID.replace('-','a')\n",
    "dff.REQUIREMENT_SUBSET_ID.value_counts()"
   ]
  },
  {
   "cell_type": "code",
   "execution_count": 31,
   "metadata": {},
   "outputs": [],
   "source": [
    "dff.JOB_DUTIES=dff.JOB_DUTIES.replace('-','A Risk Manager administers a comprehensive risk management program for a City department which may include: planning, organizing and directing the work of professional, technical, and/or clerical employees engaged in the administration of a risk management program; identifying and measuring risk exposure; developing methods for controlling risks and preventing losses; collecting and analyzing data on department risks and losses; developing work place safety training and property loss prevention programs; recommending and negotiating insurance coverage; preparing cost of risk reports; recommending risk financing techniques; administering indemnity and insurance requirements for contractors, vendors, tenants and permitees; supervising or monitoring claims administration; applying sound supervisory principles and techniques in building and maintaining an effective work force; and fulfilling equal employment opportunity responsibilities.')"
   ]
  },
  {
   "cell_type": "code",
   "execution_count": 32,
   "metadata": {},
   "outputs": [
    {
     "data": {
      "text/plain": [
       "JOB_DUTIES\n",
       "A Risk Manager administers a comprehensive risk management program for a City department which may include: planning, organizing and directing the work of professional, technical, and/or clerical employees engaged in the administration of a risk management program; identifying and measuring risk exposure; developing methods for controlling risks and preventing losses; collecting and analyzing data on department risks and losses; developing work place safety training and property loss prevention programs; recommending and negotiating insurance coverage; preparing cost of risk reports; recommending risk financing techniques; administering indemnity and insurance requirements for contractors, vendors, tenants and permitees; supervising or monitoring claims administration; applying sound supervisory principles and techniques in building and maintaining an effective work force; and fulfilling equal employment opportunity responsibilities.                                                                                                                                  27\n",
       "An Electrical Craft Helper assists a skilled journey-level worker engaged in one of the electrical trades. Typical assignments involve the maintenance and construction of electrical systems for buildings and facilities; installation and maintenance of overhead or underground power distribution systems; or shop repair activities. Apprentice training opportunities leading to craft positions are available in some departments.                                                                                                                                                                                                                                                                                                                                                                                                                                                                                                                                                                                                                                                                            8\n",
       "A Construction Inspector inspects the construction of a wide variety of public works, public improvements, or public utilities projects to ensure conformance to plans, specifications, contracts, permits, environmental documents, agreements for work, and may provide construction inspection support.                                                                                                                                                                                                                                                                                                                                                                                                                                                                                                                                                                                                                                                                                                                                                                                                            8\n",
       "A Park Ranger provides public assistance and emergency services, including first aid, crowd and traffic control, firefighting, and search and rescue; patrols City parks, beaches, and other facilities to ensure park security; interprets and enforces City regulations and Municipal and Penal Code sections regarding park use; prepares and presents interpretive nature and environmental programs; and may provide radio communication to ranger units.                                                                                                                                                                                                                                                                                                                                                                                                                                                                                                                                                                                                                                                        7\n",
       "An Assistant Inspector with the Department of Building and Safety or Housing Department assists inspectors and receives training in the inspection of buildings and structures, plumbing, heating and refrigeration, electrical installations, grading projects; or as an elevator or pressure vessel safety engineer. Assistant Inspectors may be subject to frequent review, written examinations, and supervision, and may perform regular inspector's duties as indicated by training progress; may perform owner and property records research, data input, report generation and field data collection. Assistant Inspectors in the Housing Department may post notices of inspection at multi-family properties and distribute pertinent information regarding housing related issues to the public. Assistant Inspectors in the Department of Public Works assist inspectors and receive training in the inspection of streets, sewers, storm drains, bridges and structures, and in the administration of public works contracts and permits; and may independently make inspections of a limited scope.     7\n",
       "                                                                                                                                                                                                                                                                                                                                                                                                                                                                                                                                                                                                                                                                                                                                                                                                                                                                                                                                                                                                                                                                                                                     ..\n",
       "A Senior Electrical Mechanic acts as lead for and works with a small group of Electrical Mechanics and helpers performing skilled electrical and mechanical work in installing and maintaining electric equipment in electric stations, generating plants, pumping and chlorinating stations, buildings, and similar facilities.                                                                                                                                                                                                                                                                                                                                                                                                                                                                                                                                                                                                                                                                                                                                                                                      1\n",
       "A Marine Environmental Manager directs or assists in directing the activities of the Environmental Management Division of the Harbor Department; directs and manages the development and implementation of specialized environmental policies and programs through a professional environmental staff; and advises management of issues of environmental policy; and does related work.                                                                                                                                                                                                                                                                                                                                                                                                                                                                                                                                                                                                                                                                                                                               1\n",
       "A Senior Electrical Repair Supervisor supervises and coordinates the work of several supervisors and their crews engaged in shop and field maintenance and repair of electrical equipment and auxiliaries; applies sound supervisory techniques in building and maintaining an effective workforce; and fulfills Equal Employment Opportunity responsibilities.                                                                                                                                                                                                                                                                                                                                                                                                                                                                                                                                                                                                                                                                                                                                                       1\n",
       "A Senior Electrical Test Technician performs highly skilled work and specialized functions in the installation, operation, maintenance, calibration, evaluation, repair, acceptance and periodic testing and inspection of electrical equipment and apparatus and other systems and devices; develops work plans and schedules; may act as a lead to a small group of journey-level Electrical Test Technicians, trainees, and Electrical Craft Helpers in addition to performing or providing technical support for the more difficult and skilled electrical work; and performs related suites.                                                                                                                                                                                                                                                                                                                                                                                                                                                                                                                     1\n",
       "A Senior Electrical Mechanic Supervisor plans, organizes, directs and coordinates the work of several Electrical Mechanic Supervisors and their crews engaged in the installation and maintenance of a large variety of electric equipment; may act as an assistant to an Electrical Services Manager; applies sound supervisory principles and techniques in building and maintaining a safe and effective work force; and fulfills equal employment opportunity responsibilities.                                                                                                                                                                                                                                                                                                                                                                                                                                                                                                                                                                                                                                   1\n",
       "Name: count, Length: 674, dtype: int64"
      ]
     },
     "execution_count": 32,
     "metadata": {},
     "output_type": "execute_result"
    }
   ],
   "source": [
    "dff.JOB_DUTIES.value_counts()"
   ]
  },
  {
   "cell_type": "code",
   "execution_count": 33,
   "metadata": {},
   "outputs": [
    {
     "name": "stdout",
     "output_type": "stream",
     "text": [
      "4.0\n"
     ]
    }
   ],
   "source": [
    "import numpy as np\n",
    "dff.EDUCATION_YEARS.value_counts()\n",
    "dff.EDUCATION_YEARS=dff.EDUCATION_YEARS.replace('-',np.nan)\n",
    "x=dff.EDUCATION_YEARS.median()\n",
    "print(x)\n",
    "dff.EDUCATION_YEARS=dff.EDUCATION_YEARS.replace(np.nan,x)\n"
   ]
  },
  {
   "cell_type": "code",
   "execution_count": 34,
   "metadata": {},
   "outputs": [
    {
     "data": {
      "text/plain": [
       "EDUCATION_YEARS\n",
       "4.0    1218\n",
       "4.0     145\n",
       "1.0       9\n",
       "2.0       2\n",
       "Name: count, dtype: int64"
      ]
     },
     "execution_count": 34,
     "metadata": {},
     "output_type": "execute_result"
    }
   ],
   "source": [
    "dff.EDUCATION_YEARS.value_counts()"
   ]
  },
  {
   "cell_type": "code",
   "execution_count": 35,
   "metadata": {},
   "outputs": [
    {
     "data": {
      "text/plain": [
       "SCHOOL_TYPE\n",
       "-                                                    1072\n",
       "college or university                                 198\n",
       "apprenticeship                                         38\n",
       "trade school|college                                   18\n",
       "college                                                16\n",
       "trade school or university                              7\n",
       "high school                                             7\n",
       "high school|college                                     6\n",
       "high school|trade school                                2\n",
       "technical school|college                                2\n",
       "high school|technical school|college                    2\n",
       "law school                                              2\n",
       "technical school|high school|trade school|college       1\n",
       "technical school|trade school|college                   1\n",
       "technical school                                        1\n",
       "trade school                                            1\n",
       "Name: count, dtype: int64"
      ]
     },
     "execution_count": 35,
     "metadata": {},
     "output_type": "execute_result"
    }
   ],
   "source": [
    "dff.SCHOOL_TYPE.value_counts()"
   ]
  },
  {
   "cell_type": "code",
   "execution_count": 39,
   "metadata": {},
   "outputs": [
    {
     "data": {
      "text/plain": [
       "SCHOOL_TYPE\n",
       "college or university                                1270\n",
       "apprenticeship                                         38\n",
       "trade school|college                                   18\n",
       "college                                                16\n",
       "trade school or university                              7\n",
       "high school                                             7\n",
       "high school|college                                     6\n",
       "high school|trade school                                2\n",
       "technical school|college                                2\n",
       "high school|technical school|college                    2\n",
       "law school                                              2\n",
       "technical school|high school|trade school|college       1\n",
       "technical school|trade school|college                   1\n",
       "technical school                                        1\n",
       "trade school                                            1\n",
       "Name: count, dtype: int64"
      ]
     },
     "execution_count": 39,
     "metadata": {},
     "output_type": "execute_result"
    }
   ],
   "source": [
    "dff.SCHOOL_TYPE=dff.SCHOOL_TYPE.replace('-','college or university')\n",
    "dff.SCHOOL_TYPE.value_counts()"
   ]
  },
  {
   "cell_type": "code",
   "execution_count": 36,
   "metadata": {},
   "outputs": [
    {
     "data": {
      "text/plain": [
       "EDUCATION_MAJOR\n",
       "engineering                                                                                     1300\n",
       "urban planning, urban studies, urban design, architecture, landscape architecture, geography       3\n",
       "accounting                                                                                         2\n",
       "industrial technology, industrial science or special degree program                                2\n",
       "industrial/organizational psychology or psychometrics                                              2\n",
       "                                                                                                ... \n",
       "journalism, english, public relations, or communications                                           1\n",
       "architecture, architectural engineering, environmental design, or building science                 1\n",
       "life science or education teaching credential                                                      1\n",
       "life science                                                                                       1\n",
       "landscape architecture                                                                             1\n",
       "Name: count, Length: 64, dtype: int64"
      ]
     },
     "execution_count": 36,
     "metadata": {},
     "output_type": "execute_result"
    }
   ],
   "source": [
    "dff.EDUCATION_MAJOR.value_counts()\n",
    "dff.EDUCATION_MAJOR=dff.EDUCATION_MAJOR.replace('-','engineering')\n",
    "dff.EDUCATION_MAJOR.value_counts()"
   ]
  },
  {
   "cell_type": "code",
   "execution_count": 37,
   "metadata": {},
   "outputs": [],
   "source": [
    "dff.EXPERIENCE_LENGTH.value_counts()\n",
    "dff.EXPERIENCE_LENGTH=dff.EXPERIENCE_LENGTH.replace('-',np.nan)\n",
    "y=dff.EXPERIENCE_LENGTH.median()\n",
    "dff.EXPERIENCE_LENGTH=dff.EXPERIENCE_LENGTH.replace(np.nan,y)\n"
   ]
  },
  {
   "cell_type": "code",
   "execution_count": 38,
   "metadata": {},
   "outputs": [
    {
     "data": {
      "text/plain": [
       "EXPERIENCE_LENGTH\n",
       "2.0     460\n",
       "2.0     408\n",
       "4.0     157\n",
       "1.0     115\n",
       "3.0     115\n",
       "5.0      41\n",
       "0.5      27\n",
       "6.0      27\n",
       "1.5       9\n",
       "8.0       5\n",
       "7.0       3\n",
       "0.67      2\n",
       "9.0       2\n",
       "12.0      1\n",
       "2.5       1\n",
       "0.25      1\n",
       "Name: count, dtype: int64"
      ]
     },
     "execution_count": 38,
     "metadata": {},
     "output_type": "execute_result"
    }
   ],
   "source": [
    "dff.EXPERIENCE_LENGTH.value_counts()"
   ]
  },
  {
   "cell_type": "code",
   "execution_count": 40,
   "metadata": {},
   "outputs": [
    {
     "data": {
      "text/plain": [
       "FULL_TIME_PART_TIME\n",
       "full time              963\n",
       "-                      408\n",
       "full time|part time      2\n",
       "part time                1\n",
       "Name: count, dtype: int64"
      ]
     },
     "execution_count": 40,
     "metadata": {},
     "output_type": "execute_result"
    }
   ],
   "source": [
    "dff.FULL_TIME_PART_TIME.value_counts()"
   ]
  },
  {
   "cell_type": "code",
   "execution_count": 41,
   "metadata": {},
   "outputs": [],
   "source": [
    "dff.FULL_TIME_PART_TIME=dff.FULL_TIME_PART_TIME.replace('-',\"full time\")"
   ]
  },
  {
   "cell_type": "code",
   "execution_count": 42,
   "metadata": {},
   "outputs": [
    {
     "data": {
      "text/plain": [
       "FULL_TIME_PART_TIME\n",
       "full time              1371\n",
       "full time|part time       2\n",
       "part time                 1\n",
       "Name: count, dtype: int64"
      ]
     },
     "execution_count": 42,
     "metadata": {},
     "output_type": "execute_result"
    }
   ],
   "source": [
    "dff.FULL_TIME_PART_TIME.value_counts()"
   ]
  },
  {
   "cell_type": "code",
   "execution_count": 52,
   "metadata": {},
   "outputs": [],
   "source": [
    "dff.replace('-',np.nan)\n",
    "dff.replace(np.nan,'-')\n",
    "dff.DRIVERS_LICENSE_REQ.value_counts()\n",
    "dff.DRIVERS_LICENSE_REQ=dff.DRIVERS_LICENSE_REQ.replace('-',\"P\")\n"
   ]
  },
  {
   "cell_type": "code",
   "execution_count": 54,
   "metadata": {},
   "outputs": [],
   "source": [
    "dff.DRIV_LIC_TYPE.value_counts()\n",
    "dff.DRIV_LIC_TYPE=dff.DRIV_LIC_TYPE.replace('-',\"B\")"
   ]
  },
  {
   "cell_type": "code",
   "execution_count": 56,
   "metadata": {},
   "outputs": [],
   "source": [
    "dff.ADDTL_LIC.value_counts()\n",
    "dff.ADDTL_LIC=dff.ADDTL_LIC.replace('-','registered nurse License')"
   ]
  },
  {
   "cell_type": "code",
   "execution_count": 57,
   "metadata": {},
   "outputs": [
    {
     "data": {
      "text/plain": [
       "EXAM_TYPE\n",
       "OPEN_INT_PROM    529\n",
       "INT_DEPT_PROM    451\n",
       "OPEN             357\n",
       "DEPT_PROM         37\n",
       "Name: count, dtype: int64"
      ]
     },
     "execution_count": 57,
     "metadata": {},
     "output_type": "execute_result"
    }
   ],
   "source": [
    "dff.EXAM_TYPE.value_counts()"
   ]
  },
  {
   "cell_type": "code",
   "execution_count": 61,
   "metadata": {},
   "outputs": [],
   "source": [
    "dff.ENTRY_SALARY_GEN.value_counts()\n",
    "#z=dff.ENTRY_SALARY_GEN.median()\n",
    "dff.ENTRY_SALARY_GEN=dff.ENTRY_SALARY_GEN.replace('-','$83,144 to $100,516')"
   ]
  },
  {
   "cell_type": "code",
   "execution_count": 64,
   "metadata": {},
   "outputs": [],
   "source": [
    "dff.ENTRY_SALARY_DWP.value_counts()\n",
    "dff.ENTRY_SALARY_DWP=dff.ENTRY_SALARY_DWP.replace('-','$78,905 to $98,031')"
   ]
  },
  {
   "cell_type": "code",
   "execution_count": 68,
   "metadata": {},
   "outputs": [],
   "source": [
    "\t\t\n",
    "dff.REQUIREMENT_SUBSET_TEXT.value_counts()\n",
    "dff.REQUIREMENT_SUBSET_TEXT=dff.REQUIREMENT_SUBSET_TEXT.replace('-',\"Successful completion of a U.S. military electronics technical course of 24 weeks or longer within the last 10 years.\")"
   ]
  },
  {
   "cell_type": "code",
   "execution_count": 70,
   "metadata": {},
   "outputs": [],
   "source": [
    "dff.REQUIREMENT_CONJUNCTION.value_counts()\n",
    "dff.REQUIREMENT_CONJUNCTION=dff.REQUIREMENT_CONJUNCTION.replace('-',\"or\")"
   ]
  },
  {
   "cell_type": "code",
   "execution_count": 75,
   "metadata": {},
   "outputs": [
    {
     "data": {
      "text/plain": [
       "0       04-18-14\n",
       "1       04-18-14\n",
       "2       04-18-14\n",
       "3       06-22-18\n",
       "4       07-13-18\n",
       "          ...   \n",
       "1369    09-14-18\n",
       "1370    09-14-18\n",
       "1371    07-06-18\n",
       "1372    07-06-18\n",
       "1373    07-06-18\n",
       "Name: OPEN_DATE, Length: 1374, dtype: object"
      ]
     },
     "execution_count": 75,
     "metadata": {},
     "output_type": "execute_result"
    }
   ],
   "source": [
    "dff.OPEN_DATE"
   ]
  },
  {
   "cell_type": "code",
   "execution_count": 92,
   "metadata": {},
   "outputs": [
    {
     "data": {
      "text/plain": [
       "0      2014-04-18\n",
       "1      2014-04-18\n",
       "2      2014-04-18\n",
       "3      2018-06-22\n",
       "4      2018-07-13\n",
       "          ...    \n",
       "1369   2018-09-14\n",
       "1370   2018-09-14\n",
       "1371   2018-07-06\n",
       "1372   2018-07-06\n",
       "1373   2018-07-06\n",
       "Name: OPEN_DATE, Length: 1374, dtype: datetime64[ns]"
      ]
     },
     "execution_count": 92,
     "metadata": {},
     "output_type": "execute_result"
    }
   ],
   "source": [
    "dff.OPEN_DATE=dff.OPEN_DATE.replace(\"-\",\"09-28-18\")\n",
    "dff.OPEN_DATE=pd.to_datetime(dff.OPEN_DATE)\n",
    "dff.OPEN_DATE"
   ]
  },
  {
   "cell_type": "code",
   "execution_count": 97,
   "metadata": {},
   "outputs": [
    {
     "data": {
      "text/html": [
       "<div>\n",
       "<style scoped>\n",
       "    .dataframe tbody tr th:only-of-type {\n",
       "        vertical-align: middle;\n",
       "    }\n",
       "\n",
       "    .dataframe tbody tr th {\n",
       "        vertical-align: top;\n",
       "    }\n",
       "\n",
       "    .dataframe thead th {\n",
       "        text-align: right;\n",
       "    }\n",
       "</style>\n",
       "<table border=\"1\" class=\"dataframe\">\n",
       "  <thead>\n",
       "    <tr style=\"text-align: right;\">\n",
       "      <th></th>\n",
       "      <th>Unnamed: 0</th>\n",
       "      <th>FILE_NAME</th>\n",
       "      <th>JOB_CLASS_TITLE</th>\n",
       "      <th>JOB_CLASS_NO</th>\n",
       "      <th>REQUIREMENT_SET_ID</th>\n",
       "      <th>REQUIREMENT_SUBSET_ID</th>\n",
       "      <th>JOB_DUTIES</th>\n",
       "      <th>EDUCATION_YEARS</th>\n",
       "      <th>SCHOOL_TYPE</th>\n",
       "      <th>EDUCATION_MAJOR</th>\n",
       "      <th>...</th>\n",
       "      <th>DRIVERS_LICENSE_REQ</th>\n",
       "      <th>DRIV_LIC_TYPE</th>\n",
       "      <th>ADDTL_LIC</th>\n",
       "      <th>EXAM_TYPE</th>\n",
       "      <th>ENTRY_SALARY_GEN</th>\n",
       "      <th>ENTRY_SALARY_DWP</th>\n",
       "      <th>OPEN_DATE</th>\n",
       "      <th>REQUIREMENT_SET_TEXT</th>\n",
       "      <th>REQUIREMENT_SUBSET_TEXT</th>\n",
       "      <th>REQUIREMENT_CONJUNCTION</th>\n",
       "    </tr>\n",
       "  </thead>\n",
       "  <tbody>\n",
       "    <tr>\n",
       "      <th>0</th>\n",
       "      <td>0</td>\n",
       "      <td>311 DIRECTOR 9206 041814.txt</td>\n",
       "      <td>311 Director</td>\n",
       "      <td>9206</td>\n",
       "      <td>1.0</td>\n",
       "      <td>a</td>\n",
       "      <td>A 311 Director is responsible for the successf...</td>\n",
       "      <td>4.0</td>\n",
       "      <td>college or university</td>\n",
       "      <td>engineering</td>\n",
       "      <td>...</td>\n",
       "      <td>P</td>\n",
       "      <td>B</td>\n",
       "      <td>registered nurse License</td>\n",
       "      <td>OPEN_INT_PROM</td>\n",
       "      <td>$125,175 to $155,514</td>\n",
       "      <td>$78,905 to $98,031</td>\n",
       "      <td>2014-04-18</td>\n",
       "      <td>One year of full-time paid experience as a Sen...</td>\n",
       "      <td>Successful completion of a U.S. military elect...</td>\n",
       "      <td>or</td>\n",
       "    </tr>\n",
       "    <tr>\n",
       "      <th>1</th>\n",
       "      <td>1</td>\n",
       "      <td>311 DIRECTOR 9206 041814.txt</td>\n",
       "      <td>311 Director</td>\n",
       "      <td>9206</td>\n",
       "      <td>2.0</td>\n",
       "      <td>a</td>\n",
       "      <td>A 311 Director is responsible for the successf...</td>\n",
       "      <td>4.0</td>\n",
       "      <td>college or university</td>\n",
       "      <td>engineering</td>\n",
       "      <td>...</td>\n",
       "      <td>P</td>\n",
       "      <td>B</td>\n",
       "      <td>registered nurse License</td>\n",
       "      <td>OPEN_INT_PROM</td>\n",
       "      <td>$125,175 to $155,514</td>\n",
       "      <td>$78,905 to $98,031</td>\n",
       "      <td>2014-04-18</td>\n",
       "      <td>A Bachelor's degree from a recognized college ...</td>\n",
       "      <td>Successful completion of a U.S. military elect...</td>\n",
       "      <td>or</td>\n",
       "    </tr>\n",
       "    <tr>\n",
       "      <th>2</th>\n",
       "      <td>2</td>\n",
       "      <td>311 DIRECTOR 9206 041814.txt</td>\n",
       "      <td>311 Director</td>\n",
       "      <td>9206</td>\n",
       "      <td>3.0</td>\n",
       "      <td>a</td>\n",
       "      <td>A 311 Director is responsible for the successf...</td>\n",
       "      <td>4.0</td>\n",
       "      <td>college or university</td>\n",
       "      <td>engineering</td>\n",
       "      <td>...</td>\n",
       "      <td>P</td>\n",
       "      <td>B</td>\n",
       "      <td>registered nurse License</td>\n",
       "      <td>OPEN_INT_PROM</td>\n",
       "      <td>$125,175 to $155,514</td>\n",
       "      <td>$78,905 to $98,031</td>\n",
       "      <td>2014-04-18</td>\n",
       "      <td>Eight years of full-time paid experience in a ...</td>\n",
       "      <td>Successful completion of a U.S. military elect...</td>\n",
       "      <td>or</td>\n",
       "    </tr>\n",
       "    <tr>\n",
       "      <th>3</th>\n",
       "      <td>3</td>\n",
       "      <td>ACCOUNTANT 1513 062218.txt</td>\n",
       "      <td>Accountant</td>\n",
       "      <td>1513</td>\n",
       "      <td>1.0</td>\n",
       "      <td>a</td>\n",
       "      <td>An Accountant does professional accounting wor...</td>\n",
       "      <td>4.0</td>\n",
       "      <td>college or university</td>\n",
       "      <td>engineering</td>\n",
       "      <td>...</td>\n",
       "      <td>P</td>\n",
       "      <td>B</td>\n",
       "      <td>registered nurse License</td>\n",
       "      <td>OPEN</td>\n",
       "      <td>$49,903 to $72,996</td>\n",
       "      <td>$78,905 to $98,031</td>\n",
       "      <td>2018-06-22</td>\n",
       "      <td>Graduation from an accredited four-year colleg...</td>\n",
       "      <td>Successful completion of a U.S. military elect...</td>\n",
       "      <td>or</td>\n",
       "    </tr>\n",
       "    <tr>\n",
       "      <th>4</th>\n",
       "      <td>4</td>\n",
       "      <td>ACCOUNTING CLERK 1223 071318.txt</td>\n",
       "      <td>Accounting Clerk</td>\n",
       "      <td>1223</td>\n",
       "      <td>1.0</td>\n",
       "      <td>a</td>\n",
       "      <td>An Accounting Clerk performs difficult and res...</td>\n",
       "      <td>4.0</td>\n",
       "      <td>trade school or university</td>\n",
       "      <td>engineering</td>\n",
       "      <td>...</td>\n",
       "      <td>P</td>\n",
       "      <td>B</td>\n",
       "      <td>registered nurse License</td>\n",
       "      <td>OPEN_INT_PROM</td>\n",
       "      <td>$49,005 to $71,618</td>\n",
       "      <td>$78,905 to $98,031</td>\n",
       "      <td>2018-07-13</td>\n",
       "      <td>Two years of full-time paid office clerical ex...</td>\n",
       "      <td>Successful completion of a U.S. military elect...</td>\n",
       "      <td>or</td>\n",
       "    </tr>\n",
       "    <tr>\n",
       "      <th>...</th>\n",
       "      <td>...</td>\n",
       "      <td>...</td>\n",
       "      <td>...</td>\n",
       "      <td>...</td>\n",
       "      <td>...</td>\n",
       "      <td>...</td>\n",
       "      <td>...</td>\n",
       "      <td>...</td>\n",
       "      <td>...</td>\n",
       "      <td>...</td>\n",
       "      <td>...</td>\n",
       "      <td>...</td>\n",
       "      <td>...</td>\n",
       "      <td>...</td>\n",
       "      <td>...</td>\n",
       "      <td>...</td>\n",
       "      <td>...</td>\n",
       "      <td>...</td>\n",
       "      <td>...</td>\n",
       "      <td>...</td>\n",
       "      <td>...</td>\n",
       "    </tr>\n",
       "    <tr>\n",
       "      <th>1369</th>\n",
       "      <td>1369</td>\n",
       "      <td>ZOO CURATOR OF EDUCATION 4300 091418.txt</td>\n",
       "      <td>Zoo Curator Of Education</td>\n",
       "      <td>4300</td>\n",
       "      <td>1.0</td>\n",
       "      <td>a</td>\n",
       "      <td>A Zoo Curator of Education plans, develops, im...</td>\n",
       "      <td>4.0</td>\n",
       "      <td>college or university</td>\n",
       "      <td>engineering</td>\n",
       "      <td>...</td>\n",
       "      <td>P</td>\n",
       "      <td>B</td>\n",
       "      <td>registered nurse License</td>\n",
       "      <td>OPEN_INT_PROM</td>\n",
       "      <td>$57,628 to $84,229</td>\n",
       "      <td>$78,905 to $98,031</td>\n",
       "      <td>2018-09-14</td>\n",
       "      <td>Graduation from an accredited four-year colleg...</td>\n",
       "      <td>Successful completion of a U.S. military elect...</td>\n",
       "      <td>or</td>\n",
       "    </tr>\n",
       "    <tr>\n",
       "      <th>1370</th>\n",
       "      <td>1370</td>\n",
       "      <td>ZOO CURATOR OF EDUCATION 4300 091418.txt</td>\n",
       "      <td>Zoo Curator Of Education</td>\n",
       "      <td>4300</td>\n",
       "      <td>2.0</td>\n",
       "      <td>a</td>\n",
       "      <td>A Zoo Curator of Education plans, develops, im...</td>\n",
       "      <td>4.0</td>\n",
       "      <td>college or university</td>\n",
       "      <td>engineering</td>\n",
       "      <td>...</td>\n",
       "      <td>P</td>\n",
       "      <td>B</td>\n",
       "      <td>registered nurse License</td>\n",
       "      <td>OPEN_INT_PROM</td>\n",
       "      <td>$57,628 to $84,229</td>\n",
       "      <td>$78,905 to $98,031</td>\n",
       "      <td>2018-09-14</td>\n",
       "      <td>Current employment with the City of Los Angele...</td>\n",
       "      <td>Successful completion of a U.S. military elect...</td>\n",
       "      <td>or</td>\n",
       "    </tr>\n",
       "    <tr>\n",
       "      <th>1371</th>\n",
       "      <td>1371</td>\n",
       "      <td>ZOO REGISTRAR 4290 070618.txt</td>\n",
       "      <td>Zoo Registrar</td>\n",
       "      <td>4290</td>\n",
       "      <td>1.0</td>\n",
       "      <td>a</td>\n",
       "      <td>A Zoo Registrar assists in the development and...</td>\n",
       "      <td>4.0</td>\n",
       "      <td>college or university</td>\n",
       "      <td>zoology, biology</td>\n",
       "      <td>...</td>\n",
       "      <td>P</td>\n",
       "      <td>B</td>\n",
       "      <td>registered nurse License</td>\n",
       "      <td>OPEN_INT_PROM</td>\n",
       "      <td>$55,666 to $81,390</td>\n",
       "      <td>$78,905 to $98,031</td>\n",
       "      <td>2018-07-06</td>\n",
       "      <td>Graduation from an accredited four-year colleg...</td>\n",
       "      <td>Successful completion of a U.S. military elect...</td>\n",
       "      <td>or</td>\n",
       "    </tr>\n",
       "    <tr>\n",
       "      <th>1372</th>\n",
       "      <td>1372</td>\n",
       "      <td>ZOO REGISTRAR 4290 070618.txt</td>\n",
       "      <td>Zoo Registrar</td>\n",
       "      <td>4290</td>\n",
       "      <td>2.0</td>\n",
       "      <td>a</td>\n",
       "      <td>A Zoo Registrar assists in the development and...</td>\n",
       "      <td>4.0</td>\n",
       "      <td>college or university</td>\n",
       "      <td>engineering</td>\n",
       "      <td>...</td>\n",
       "      <td>P</td>\n",
       "      <td>B</td>\n",
       "      <td>registered nurse License</td>\n",
       "      <td>OPEN_INT_PROM</td>\n",
       "      <td>$55,666 to $81,390</td>\n",
       "      <td>$78,905 to $98,031</td>\n",
       "      <td>2018-07-06</td>\n",
       "      <td>Two years of full-time paid experience supervi...</td>\n",
       "      <td>Successful completion of a U.S. military elect...</td>\n",
       "      <td>or</td>\n",
       "    </tr>\n",
       "    <tr>\n",
       "      <th>1373</th>\n",
       "      <td>1373</td>\n",
       "      <td>ZOO REGISTRAR 4290 070618.txt</td>\n",
       "      <td>Zoo Registrar</td>\n",
       "      <td>4290</td>\n",
       "      <td>3.0</td>\n",
       "      <td>a</td>\n",
       "      <td>A Zoo Registrar assists in the development and...</td>\n",
       "      <td>4.0</td>\n",
       "      <td>college or university</td>\n",
       "      <td>engineering</td>\n",
       "      <td>...</td>\n",
       "      <td>P</td>\n",
       "      <td>B</td>\n",
       "      <td>registered nurse License</td>\n",
       "      <td>OPEN_INT_PROM</td>\n",
       "      <td>$55,666 to $81,390</td>\n",
       "      <td>$78,905 to $98,031</td>\n",
       "      <td>2018-07-06</td>\n",
       "      <td>Two years of full-time paid experience perform...</td>\n",
       "      <td>Successful completion of a U.S. military elect...</td>\n",
       "      <td>or</td>\n",
       "    </tr>\n",
       "  </tbody>\n",
       "</table>\n",
       "<p>1374 rows × 29 columns</p>\n",
       "</div>"
      ],
      "text/plain": [
       "      Unnamed: 0                                 FILE_NAME  \\\n",
       "0              0              311 DIRECTOR 9206 041814.txt   \n",
       "1              1              311 DIRECTOR 9206 041814.txt   \n",
       "2              2              311 DIRECTOR 9206 041814.txt   \n",
       "3              3                ACCOUNTANT 1513 062218.txt   \n",
       "4              4          ACCOUNTING CLERK 1223 071318.txt   \n",
       "...          ...                                       ...   \n",
       "1369        1369  ZOO CURATOR OF EDUCATION 4300 091418.txt   \n",
       "1370        1370  ZOO CURATOR OF EDUCATION 4300 091418.txt   \n",
       "1371        1371             ZOO REGISTRAR 4290 070618.txt   \n",
       "1372        1372             ZOO REGISTRAR 4290 070618.txt   \n",
       "1373        1373             ZOO REGISTRAR 4290 070618.txt   \n",
       "\n",
       "               JOB_CLASS_TITLE JOB_CLASS_NO  REQUIREMENT_SET_ID  \\\n",
       "0                 311 Director         9206                 1.0   \n",
       "1                 311 Director         9206                 2.0   \n",
       "2                 311 Director         9206                 3.0   \n",
       "3                   Accountant         1513                 1.0   \n",
       "4             Accounting Clerk         1223                 1.0   \n",
       "...                        ...          ...                 ...   \n",
       "1369  Zoo Curator Of Education         4300                 1.0   \n",
       "1370  Zoo Curator Of Education         4300                 2.0   \n",
       "1371             Zoo Registrar         4290                 1.0   \n",
       "1372             Zoo Registrar         4290                 2.0   \n",
       "1373             Zoo Registrar         4290                 3.0   \n",
       "\n",
       "     REQUIREMENT_SUBSET_ID                                         JOB_DUTIES  \\\n",
       "0                        a  A 311 Director is responsible for the successf...   \n",
       "1                        a  A 311 Director is responsible for the successf...   \n",
       "2                        a  A 311 Director is responsible for the successf...   \n",
       "3                        a  An Accountant does professional accounting wor...   \n",
       "4                        a  An Accounting Clerk performs difficult and res...   \n",
       "...                    ...                                                ...   \n",
       "1369                     a  A Zoo Curator of Education plans, develops, im...   \n",
       "1370                     a  A Zoo Curator of Education plans, develops, im...   \n",
       "1371                     a  A Zoo Registrar assists in the development and...   \n",
       "1372                     a  A Zoo Registrar assists in the development and...   \n",
       "1373                     a  A Zoo Registrar assists in the development and...   \n",
       "\n",
       "     EDUCATION_YEARS                 SCHOOL_TYPE   EDUCATION_MAJOR  ...  \\\n",
       "0                4.0       college or university       engineering  ...   \n",
       "1                4.0       college or university       engineering  ...   \n",
       "2                4.0       college or university       engineering  ...   \n",
       "3                4.0       college or university       engineering  ...   \n",
       "4                4.0  trade school or university       engineering  ...   \n",
       "...              ...                         ...               ...  ...   \n",
       "1369             4.0       college or university       engineering  ...   \n",
       "1370             4.0       college or university       engineering  ...   \n",
       "1371             4.0       college or university  zoology, biology  ...   \n",
       "1372             4.0       college or university       engineering  ...   \n",
       "1373             4.0       college or university       engineering  ...   \n",
       "\n",
       "     DRIVERS_LICENSE_REQ DRIV_LIC_TYPE                 ADDTL_LIC  \\\n",
       "0                      P             B  registered nurse License   \n",
       "1                      P             B  registered nurse License   \n",
       "2                      P             B  registered nurse License   \n",
       "3                      P             B  registered nurse License   \n",
       "4                      P             B  registered nurse License   \n",
       "...                  ...           ...                       ...   \n",
       "1369                   P             B  registered nurse License   \n",
       "1370                   P             B  registered nurse License   \n",
       "1371                   P             B  registered nurse License   \n",
       "1372                   P             B  registered nurse License   \n",
       "1373                   P             B  registered nurse License   \n",
       "\n",
       "          EXAM_TYPE      ENTRY_SALARY_GEN    ENTRY_SALARY_DWP  OPEN_DATE  \\\n",
       "0     OPEN_INT_PROM  $125,175 to $155,514  $78,905 to $98,031 2014-04-18   \n",
       "1     OPEN_INT_PROM  $125,175 to $155,514  $78,905 to $98,031 2014-04-18   \n",
       "2     OPEN_INT_PROM  $125,175 to $155,514  $78,905 to $98,031 2014-04-18   \n",
       "3              OPEN    $49,903 to $72,996  $78,905 to $98,031 2018-06-22   \n",
       "4     OPEN_INT_PROM    $49,005 to $71,618  $78,905 to $98,031 2018-07-13   \n",
       "...             ...                   ...                 ...        ...   \n",
       "1369  OPEN_INT_PROM    $57,628 to $84,229  $78,905 to $98,031 2018-09-14   \n",
       "1370  OPEN_INT_PROM    $57,628 to $84,229  $78,905 to $98,031 2018-09-14   \n",
       "1371  OPEN_INT_PROM    $55,666 to $81,390  $78,905 to $98,031 2018-07-06   \n",
       "1372  OPEN_INT_PROM    $55,666 to $81,390  $78,905 to $98,031 2018-07-06   \n",
       "1373  OPEN_INT_PROM    $55,666 to $81,390  $78,905 to $98,031 2018-07-06   \n",
       "\n",
       "                                   REQUIREMENT_SET_TEXT  \\\n",
       "0     One year of full-time paid experience as a Sen...   \n",
       "1     A Bachelor's degree from a recognized college ...   \n",
       "2     Eight years of full-time paid experience in a ...   \n",
       "3     Graduation from an accredited four-year colleg...   \n",
       "4     Two years of full-time paid office clerical ex...   \n",
       "...                                                 ...   \n",
       "1369  Graduation from an accredited four-year colleg...   \n",
       "1370  Current employment with the City of Los Angele...   \n",
       "1371  Graduation from an accredited four-year colleg...   \n",
       "1372  Two years of full-time paid experience supervi...   \n",
       "1373  Two years of full-time paid experience perform...   \n",
       "\n",
       "                                REQUIREMENT_SUBSET_TEXT  \\\n",
       "0     Successful completion of a U.S. military elect...   \n",
       "1     Successful completion of a U.S. military elect...   \n",
       "2     Successful completion of a U.S. military elect...   \n",
       "3     Successful completion of a U.S. military elect...   \n",
       "4     Successful completion of a U.S. military elect...   \n",
       "...                                                 ...   \n",
       "1369  Successful completion of a U.S. military elect...   \n",
       "1370  Successful completion of a U.S. military elect...   \n",
       "1371  Successful completion of a U.S. military elect...   \n",
       "1372  Successful completion of a U.S. military elect...   \n",
       "1373  Successful completion of a U.S. military elect...   \n",
       "\n",
       "     REQUIREMENT_CONJUNCTION  \n",
       "0                         or  \n",
       "1                         or  \n",
       "2                         or  \n",
       "3                         or  \n",
       "4                         or  \n",
       "...                      ...  \n",
       "1369                      or  \n",
       "1370                      or  \n",
       "1371                      or  \n",
       "1372                      or  \n",
       "1373                      or  \n",
       "\n",
       "[1374 rows x 29 columns]"
      ]
     },
     "execution_count": 97,
     "metadata": {},
     "output_type": "execute_result"
    }
   ],
   "source": [
    "dff"
   ]
  },
  {
   "cell_type": "markdown",
   "metadata": {},
   "source": [
    "Q1:\n",
    "A non-experienced job seeker wants to know what is the best job for him?\n"
   ]
  },
  {
   "cell_type": "code",
   "execution_count": 96,
   "metadata": {},
   "outputs": [
    {
     "ename": "ValueError",
     "evalue": "could not convert string to float: '311 Director'",
     "output_type": "error",
     "traceback": [
      "\u001b[0;31m---------------------------------------------------------------------------\u001b[0m",
      "\u001b[0;31mValueError\u001b[0m                                Traceback (most recent call last)",
      "Cell \u001b[0;32mIn[96], line 3\u001b[0m\n\u001b[1;32m      1\u001b[0m \u001b[39mimport\u001b[39;00m \u001b[39mmatplotlib\u001b[39;00m\u001b[39m.\u001b[39;00m\u001b[39mpyplot\u001b[39;00m \u001b[39mas\u001b[39;00m \u001b[39mplt\u001b[39;00m\n\u001b[1;32m      2\u001b[0m x\u001b[39m=\u001b[39mdff\u001b[39m.\u001b[39mJOB_CLASS_TITLE\n\u001b[0;32m----> 3\u001b[0m plt\u001b[39m.\u001b[39mpie(x)\n",
      "File \u001b[0;32m~/Desktop/anaconda3/lib/python3.11/site-packages/matplotlib/pyplot.py:2799\u001b[0m, in \u001b[0;36mpie\u001b[0;34m(x, explode, labels, colors, autopct, pctdistance, shadow, labeldistance, startangle, radius, counterclock, wedgeprops, textprops, center, frame, rotatelabels, normalize, hatch, data)\u001b[0m\n\u001b[1;32m   2792\u001b[0m \u001b[39m@_copy_docstring_and_deprecators\u001b[39m(Axes\u001b[39m.\u001b[39mpie)\n\u001b[1;32m   2793\u001b[0m \u001b[39mdef\u001b[39;00m \u001b[39mpie\u001b[39m(\n\u001b[1;32m   2794\u001b[0m         x, explode\u001b[39m=\u001b[39m\u001b[39mNone\u001b[39;00m, labels\u001b[39m=\u001b[39m\u001b[39mNone\u001b[39;00m, colors\u001b[39m=\u001b[39m\u001b[39mNone\u001b[39;00m, autopct\u001b[39m=\u001b[39m\u001b[39mNone\u001b[39;00m,\n\u001b[0;32m   (...)\u001b[0m\n\u001b[1;32m   2797\u001b[0m         textprops\u001b[39m=\u001b[39m\u001b[39mNone\u001b[39;00m, center\u001b[39m=\u001b[39m(\u001b[39m0\u001b[39m, \u001b[39m0\u001b[39m), frame\u001b[39m=\u001b[39m\u001b[39mFalse\u001b[39;00m,\n\u001b[1;32m   2798\u001b[0m         rotatelabels\u001b[39m=\u001b[39m\u001b[39mFalse\u001b[39;00m, \u001b[39m*\u001b[39m, normalize\u001b[39m=\u001b[39m\u001b[39mTrue\u001b[39;00m, hatch\u001b[39m=\u001b[39m\u001b[39mNone\u001b[39;00m, data\u001b[39m=\u001b[39m\u001b[39mNone\u001b[39;00m):\n\u001b[0;32m-> 2799\u001b[0m     \u001b[39mreturn\u001b[39;00m gca()\u001b[39m.\u001b[39mpie(\n\u001b[1;32m   2800\u001b[0m         x, explode\u001b[39m=\u001b[39mexplode, labels\u001b[39m=\u001b[39mlabels, colors\u001b[39m=\u001b[39mcolors,\n\u001b[1;32m   2801\u001b[0m         autopct\u001b[39m=\u001b[39mautopct, pctdistance\u001b[39m=\u001b[39mpctdistance, shadow\u001b[39m=\u001b[39mshadow,\n\u001b[1;32m   2802\u001b[0m         labeldistance\u001b[39m=\u001b[39mlabeldistance, startangle\u001b[39m=\u001b[39mstartangle,\n\u001b[1;32m   2803\u001b[0m         radius\u001b[39m=\u001b[39mradius, counterclock\u001b[39m=\u001b[39mcounterclock,\n\u001b[1;32m   2804\u001b[0m         wedgeprops\u001b[39m=\u001b[39mwedgeprops, textprops\u001b[39m=\u001b[39mtextprops, center\u001b[39m=\u001b[39mcenter,\n\u001b[1;32m   2805\u001b[0m         frame\u001b[39m=\u001b[39mframe, rotatelabels\u001b[39m=\u001b[39mrotatelabels, normalize\u001b[39m=\u001b[39mnormalize,\n\u001b[1;32m   2806\u001b[0m         hatch\u001b[39m=\u001b[39mhatch, \u001b[39m*\u001b[39m\u001b[39m*\u001b[39m({\u001b[39m\"\u001b[39m\u001b[39mdata\u001b[39m\u001b[39m\"\u001b[39m: data} \u001b[39mif\u001b[39;00m data \u001b[39mis\u001b[39;00m \u001b[39mnot\u001b[39;00m \u001b[39mNone\u001b[39;00m \u001b[39melse\u001b[39;00m {}))\n",
      "File \u001b[0;32m~/Desktop/anaconda3/lib/python3.11/site-packages/matplotlib/__init__.py:1446\u001b[0m, in \u001b[0;36m_preprocess_data.<locals>.inner\u001b[0;34m(ax, data, *args, **kwargs)\u001b[0m\n\u001b[1;32m   1443\u001b[0m \u001b[39m@functools\u001b[39m\u001b[39m.\u001b[39mwraps(func)\n\u001b[1;32m   1444\u001b[0m \u001b[39mdef\u001b[39;00m \u001b[39minner\u001b[39m(ax, \u001b[39m*\u001b[39margs, data\u001b[39m=\u001b[39m\u001b[39mNone\u001b[39;00m, \u001b[39m*\u001b[39m\u001b[39m*\u001b[39mkwargs):\n\u001b[1;32m   1445\u001b[0m     \u001b[39mif\u001b[39;00m data \u001b[39mis\u001b[39;00m \u001b[39mNone\u001b[39;00m:\n\u001b[0;32m-> 1446\u001b[0m         \u001b[39mreturn\u001b[39;00m func(ax, \u001b[39m*\u001b[39m\u001b[39mmap\u001b[39m(sanitize_sequence, args), \u001b[39m*\u001b[39m\u001b[39m*\u001b[39mkwargs)\n\u001b[1;32m   1448\u001b[0m     bound \u001b[39m=\u001b[39m new_sig\u001b[39m.\u001b[39mbind(ax, \u001b[39m*\u001b[39margs, \u001b[39m*\u001b[39m\u001b[39m*\u001b[39mkwargs)\n\u001b[1;32m   1449\u001b[0m     auto_label \u001b[39m=\u001b[39m (bound\u001b[39m.\u001b[39marguments\u001b[39m.\u001b[39mget(label_namer)\n\u001b[1;32m   1450\u001b[0m                   \u001b[39mor\u001b[39;00m bound\u001b[39m.\u001b[39mkwargs\u001b[39m.\u001b[39mget(label_namer))\n",
      "File \u001b[0;32m~/Desktop/anaconda3/lib/python3.11/site-packages/matplotlib/axes/_axes.py:3183\u001b[0m, in \u001b[0;36mAxes.pie\u001b[0;34m(self, x, explode, labels, colors, autopct, pctdistance, shadow, labeldistance, startangle, radius, counterclock, wedgeprops, textprops, center, frame, rotatelabels, normalize, hatch)\u001b[0m\n\u001b[1;32m   3180\u001b[0m \u001b[39mself\u001b[39m\u001b[39m.\u001b[39mset_aspect(\u001b[39m'\u001b[39m\u001b[39mequal\u001b[39m\u001b[39m'\u001b[39m)\n\u001b[1;32m   3181\u001b[0m \u001b[39m# The use of float32 is \"historical\", but can't be changed without\u001b[39;00m\n\u001b[1;32m   3182\u001b[0m \u001b[39m# regenerating the test baselines.\u001b[39;00m\n\u001b[0;32m-> 3183\u001b[0m x \u001b[39m=\u001b[39m np\u001b[39m.\u001b[39masarray(x, np\u001b[39m.\u001b[39mfloat32)\n\u001b[1;32m   3184\u001b[0m \u001b[39mif\u001b[39;00m x\u001b[39m.\u001b[39mndim \u001b[39m>\u001b[39m \u001b[39m1\u001b[39m:\n\u001b[1;32m   3185\u001b[0m     \u001b[39mraise\u001b[39;00m \u001b[39mValueError\u001b[39;00m(\u001b[39m\"\u001b[39m\u001b[39mx must be 1D\u001b[39m\u001b[39m\"\u001b[39m)\n",
      "File \u001b[0;32m~/Desktop/anaconda3/lib/python3.11/site-packages/pandas/core/series.py:917\u001b[0m, in \u001b[0;36mSeries.__array__\u001b[0;34m(self, dtype)\u001b[0m\n\u001b[1;32m    870\u001b[0m \u001b[39m\u001b[39m\u001b[39m\"\"\"\u001b[39;00m\n\u001b[1;32m    871\u001b[0m \u001b[39mReturn the values as a NumPy array.\u001b[39;00m\n\u001b[1;32m    872\u001b[0m \n\u001b[0;32m   (...)\u001b[0m\n\u001b[1;32m    914\u001b[0m \u001b[39m      dtype='datetime64[ns]')\u001b[39;00m\n\u001b[1;32m    915\u001b[0m \u001b[39m\"\"\"\u001b[39;00m\n\u001b[1;32m    916\u001b[0m values \u001b[39m=\u001b[39m \u001b[39mself\u001b[39m\u001b[39m.\u001b[39m_values\n\u001b[0;32m--> 917\u001b[0m arr \u001b[39m=\u001b[39m np\u001b[39m.\u001b[39masarray(values, dtype\u001b[39m=\u001b[39mdtype)\n\u001b[1;32m    918\u001b[0m \u001b[39mif\u001b[39;00m using_copy_on_write() \u001b[39mand\u001b[39;00m astype_is_view(values\u001b[39m.\u001b[39mdtype, arr\u001b[39m.\u001b[39mdtype):\n\u001b[1;32m    919\u001b[0m     arr \u001b[39m=\u001b[39m arr\u001b[39m.\u001b[39mview()\n",
      "\u001b[0;31mValueError\u001b[0m: could not convert string to float: '311 Director'"
     ]
    },
    {
     "data": {
      "image/png": "[encoded data removed]",
      "text/plain": [
       "<Figure size 640x480 with 1 Axes>"
      ]
     },
     "metadata": {},
     "output_type": "display_data"
    }
   ],
   "source": [
    "import matplotlib.pyplot as plt\n",
    "x=dff.JOB_CLASS_TITLE\n",
    "\n"
   ]
  },
  {
   "cell_type": "markdown",
   "metadata": {},
   "source": [
    "Q2:\n",
    "A concerned parents contacts you to tell them if there is a spicific school type that would guaranteed for their child a good future if you can tell, and which is it ?\n",
    "\n"
   ]
  },
  {
   "cell_type": "code",
   "execution_count": null,
   "metadata": {},
   "outputs": [],
   "source": []
  },
  {
   "cell_type": "markdown",
   "metadata": {},
   "source": [
    "Q3:\n",
    "What the best time in the year to be ready for a job applying in any experience level?\n",
    "\n"
   ]
  },
  {
   "cell_type": "code",
   "execution_count": null,
   "metadata": {},
   "outputs": [],
   "source": []
  },
  {
   "cell_type": "markdown",
   "metadata": {},
   "source": [
    "Q4:\n",
    "Is experience more important than educational level?\n",
    "\n"
   ]
  },
  {
   "cell_type": "code",
   "execution_count": null,
   "metadata": {},
   "outputs": [],
   "source": []
  },
  {
   "cell_type": "markdown",
   "metadata": {},
   "source": [
    "Q5:\n",
    "Which fresh grade job that will guarantee many job offers in the future for him?\n",
    "\n"
   ]
  },
  {
   "cell_type": "code",
   "execution_count": null,
   "metadata": {},
   "outputs": [],
   "source": []
  },
  {
   "cell_type": "markdown",
   "metadata": {},
   "source": [
    "Q6:\n",
    "\"The City of Los Angeles does not discriminate on the basis of race, religion, national origin, sex, age, marital status, sexual orientation, gender identity, gender expression, disability, creed, color, ancestry, medical condition (cancer), or Acquired Immune Deficiency Syndrome.\n",
    "\n",
    "AN EQUAL EMPLOYMENT OPPORTUNITY EMPLOYER \"\n",
    "\n",
    "The above statment is qouted from one of the job descriptions.\n",
    "\n",
    "Based on the jobs requirments column above do you think that LA governate may bais a little for men over women or the applicant marital status for example may effect his chance to gain the job?"
   ]
  },
  {
   "cell_type": "code",
   "execution_count": null,
   "metadata": {},
   "outputs": [],
   "source": []
  }
 ],
 "metadata": {
  "kernelspec": {
   "display_name": "Python 3 (ipykernel)",
   "language": "python",
   "name": "python3"
  },
  "language_info": {
   "codemirror_mode": {
    "name": "ipython",
    "version": 3
   },
   "file_extension": ".py",
   "mimetype": "text/x-python",
   "name": "python",
   "nbconvert_exporter": "python",
   "pygments_lexer": "ipython3",
   "version": "3.11.5"
  },
  "orig_nbformat": 4
 },
 "nbformat": 4,
 "nbformat_minor": 2
}
