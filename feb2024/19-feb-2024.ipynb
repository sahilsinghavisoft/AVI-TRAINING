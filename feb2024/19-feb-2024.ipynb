{
 "cells": [
  {
   "cell_type": "code",
   "execution_count": 74,
   "metadata": {},
   "outputs": [
    {
     "name": "stdout",
     "output_type": "stream",
     "text": [
      "::\n",
      "\n",
      "    Number of observations - 944\n",
      "    Number of variables - 10\n",
      "\n",
      "    Variables name definitions::\n",
      "\n",
      "            popul - Census place population in 1000s\n",
      "            TVnews - Number of times per week that respondent watches TV news.\n",
      "            PID - Party identification of respondent.\n",
      "                0 - Strong Democrat\n",
      "                1 - Weak Democrat\n",
      "                2 - Independent-Democrat\n",
      "                3 - Independent-Indpendent\n",
      "                4 - Independent-Republican\n",
      "                5 - Weak Republican\n",
      "                6 - Strong Republican\n",
      "            age : Age of respondent.\n",
      "            educ - Education level of respondent\n",
      "                1 - 1-8 grades\n",
      "                2 - Some high school\n",
      "                3 - High school graduate\n",
      "                4 - Some college\n",
      "                5 - College degree\n",
      "                6 - Master's degree\n",
      "                7 - PhD\n",
      "            income - Income of household\n",
      "                1  - None or less than $2,999\n",
      "                2  - $3,000-$4,999\n",
      "                3  - $5,000-$6,999\n",
      "                4  - $7,000-$8,999\n",
      "                5  - $9,000-$9,999\n",
      "                6  - $10,000-$10,999\n",
      "                7  - $11,000-$11,999\n",
      "                8  - $12,000-$12,999\n",
      "                9  - $13,000-$13,999\n",
      "                10 - $14,000-$14.999\n",
      "                11 - $15,000-$16,999\n",
      "                12 - $17,000-$19,999\n",
      "                13 - $20,000-$21,999\n",
      "                14 - $22,000-$24,999\n",
      "                15 - $25,000-$29,999\n",
      "                16 - $30,000-$34,999\n",
      "                17 - $35,000-$39,999\n",
      "                18 - $40,000-$44,999\n",
      "                19 - $45,000-$49,999\n",
      "                20 - $50,000-$59,999\n",
      "                21 - $60,000-$74,999\n",
      "                22 - $75,000-89,999\n",
      "                23 - $90,000-$104,999\n",
      "                24 - $105,000 and over\n",
      "            vote - Expected vote\n",
      "                0 - Clinton\n",
      "                1 - Dole\n",
      "            The following 3 variables all take the values:\n",
      "                1 - Extremely liberal\n",
      "                2 - Liberal\n",
      "                3 - Slightly liberal\n",
      "                4 - Moderate\n",
      "                5 - Slightly conservative\n",
      "                6 - Conservative\n",
      "                7 - Extremely Conservative\n",
      "            selfLR - Respondent's self-reported political leanings from \"Left\"\n",
      "                to \"Right\".\n",
      "            ClinLR - Respondents impression of Bill Clinton's political\n",
      "                leanings from \"Left\" to \"Right\".\n",
      "            DoleLR  - Respondents impression of Bob Dole's political leanings\n",
      "                from \"Left\" to \"Right\".\n",
      "            logpopul - log(popul + .1)\n",
      "\n"
     ]
    }
   ],
   "source": [
    "import pandas as pd\n",
    "import statsmodels.api as sm\n",
    "import numpy as np\n",
    "\n",
    "anes96 = sm.datasets.anes96\n",
    "print(anes96.NOTE)\n",
    "\n",
    "dataset_anes96 = anes96.load_pandas()\n",
    "df = dataset_anes96.data"
   ]
  },
  {
   "cell_type": "markdown",
   "metadata": {},
   "source": [
    "Q1DataFrame Basic Properties Exercise\n",
    "Our DataFrame (df) contains data on registered voters in the United States, including demographic information and political preference. Using pandas, print the first 5 rows of the DataFrame to get a sense of what the data looks like. Next, answer the following questions:\n",
    "\n",
    "How many observations are in the DataFrame?\n",
    "How many variables are measured (how many columns)?\n",
    "What is the age of the youngest person in the data? The oldest?\n",
    "How many days a week does the average respondent watch TV news (round to the nearest tenth)?\n",
    "Check for missing values. Are there any?"
   ]
  },
  {
   "cell_type": "code",
   "execution_count": 75,
   "metadata": {},
   "outputs": [
    {
     "name": "stdout",
     "output_type": "stream",
     "text": [
      "   popul  TVnews  selfLR  ClinLR  DoleLR  PID   age  educ  income  vote  \\\n",
      "0    0.0     7.0     7.0     1.0     6.0  6.0  36.0   3.0     1.0   1.0   \n",
      "1  190.0     1.0     3.0     3.0     5.0  1.0  20.0   4.0     1.0   0.0   \n",
      "2   31.0     7.0     2.0     2.0     6.0  1.0  24.0   6.0     1.0   0.0   \n",
      "3   83.0     4.0     3.0     4.0     5.0  1.0  28.0   6.0     1.0   0.0   \n",
      "4  640.0     7.0     5.0     6.0     4.0  0.0  68.0   6.0     1.0   0.0   \n",
      "\n",
      "   logpopul  \n",
      "0 -2.302585  \n",
      "1  5.247550  \n",
      "2  3.437208  \n",
      "3  4.420045  \n",
      "4  6.461624  \n",
      "(944, 11)\n",
      "11\n",
      "944\n"
     ]
    }
   ],
   "source": [
    "print(df.head(5))\n",
    "print(df.shape)\n",
    "print(len(df.columns))\n",
    "print(len(df))"
   ]
  },
  {
   "cell_type": "code",
   "execution_count": 76,
   "metadata": {},
   "outputs": [
    {
     "name": "stdout",
     "output_type": "stream",
     "text": [
      "youngest person in dataset is  19.0 oldest person in dataset is  91.0\n"
     ]
    }
   ],
   "source": [
    "print(\"youngest person in dataset is \",min(df.age) , \"oldest person in dataset is \",max(df.age))"
   ]
  },
  {
   "cell_type": "code",
   "execution_count": 77,
   "metadata": {},
   "outputs": [
    {
     "name": "stdout",
     "output_type": "stream",
     "text": [
      "3.7277542372881354\n"
     ]
    }
   ],
   "source": [
    "print(df.TVnews.mean())"
   ]
  },
  {
   "cell_type": "code",
   "execution_count": 78,
   "metadata": {},
   "outputs": [
    {
     "name": "stdout",
     "output_type": "stream",
     "text": [
      "there is no null value in dataset\n"
     ]
    }
   ],
   "source": [
    "null_values=df.isnull().sum().sum()\n",
    "if null_values==0:\n",
    "    print(\"there is no null value in dataset\")\n",
    "else:\n",
    "    print(\"there are null vallues\",null_values)\n"
   ]
  },
  {
   "cell_type": "markdown",
   "metadata": {},
   "source": [
    "Q2Data Processing Exercise\n",
    "We want to adjust the dataset for our use. Do the following:\n",
    "\n",
    "Rename the educ column education.\n",
    "Create a new column called party based on each respondent's answer to PID. party should equal Democrat if the respondent selected either Strong Democrat or Weak Democrat. party will equal Republican if the respondent selected Strong or Weak Republican for PID and Independent if they selected anything else.\n",
    "Create a new column called age_group that buckets respondents into the following categories based on their age: 18-24, 25-34, 35-44, 45-54, 55-64, and 65 and over.\n"
   ]
  },
  {
   "cell_type": "code",
   "execution_count": 89,
   "metadata": {},
   "outputs": [
    {
     "data": {
      "text/plain": [
       "''"
      ]
     },
     "execution_count": 89,
     "metadata": {},
     "output_type": "execute_result"
    }
   ],
   "source": [
    "\n",
    "df = df.rename(columns={'educ': 'education'})\n",
    "def get_party(df):\n",
    "  if df['PID'] < 2:\n",
    "    return \"Democrat\"\n",
    "  elif df['PID'] > 4:\n",
    "    return \"Republican\"\n",
    "  else:\n",
    "    return \"Independent\"\n",
    "df['party'] = df.apply(get_party, axis = 1)\n",
    "def get_agegroup(df):\n",
    "  if df['age'] < 25:\n",
    "    return \"18-24\"\n",
    "  elif df['age'] < 35:\n",
    "    return \"25-34\"\n",
    "  elif df['age'] < 45:\n",
    "    return \"35-44\"\n",
    "  elif df['age'] < 55:\n",
    "    return \"45-54\"\n",
    "  elif df['age'] < 65:\n",
    "    return \"55-64\"\n",
    "  else:\n",
    "    return \"65 and over\"\n",
    "df['age_group'] = df.apply(get_agegroup, axis = 1)\n",
    "\n",
    "\n",
    "\n"
   ]
  },
  {
   "cell_type": "markdown",
   "metadata": {},
   "source": [
    "Q3. Filtering Data Exercise\n",
    "Use the filtering method to find all the respondents who have the impression that Bill Clinton is moderate or conservative (ClinLR equals 4 or higher). How many respondents are in this subset?\n",
    "\n",
    "Among these respondents, how many have a household income less than $50,000 and attended at least some college?\n"
   ]
  },
  {
   "cell_type": "code",
   "execution_count": 90,
   "metadata": {},
   "outputs": [
    {
     "name": "stdout",
     "output_type": "stream",
     "text": [
      "number of respndedent with impression that bill clinton is moderate orconservative  282\n",
      "Among these respondents, 98 have a household income less than $50,000 and attended at least some college\n"
     ]
    }
   ],
   "source": [
    "filtered_df=df[df['ClinLR']>=4]\n",
    "filtered_df\n",
    "print(\"number of respndedent with impression that bill clinton is moderate orconservative \", len(filtered_df))\n",
    "filter_respondent=filtered_df[(filtered_df['income']<20) & (filtered_df.education>3)]\n",
    "print(f\"Among these respondents, {len(filter_respondent)} have a household income less than $50,000 and attended at least some college\")"
   ]
  },
  {
   "cell_type": "markdown",
   "metadata": {},
   "source": [
    "4. Calculating From Data Exercise\n",
    "For each of the below match-ups, choose the group that is more likely to vote for Bill Clinton. You can calculate this using the percentage of each group that intends to vote for Clinton (vote).\n",
    "\n",
    "Another way to think about this: Given that a respondent is a Democrat, there is a ____ percent chance they will vote for Clinton. How does this value change if the respondent is a Republican?\n",
    "\n",
    "Which match-up was the closest? Which had the biggest difference?\n",
    "\n",
    "Democrats or Republicans\n",
    "People younger than 44 or People 44 and older\n",
    "People who watch TV news at least 6 days a week or People who watch TV news less than 3 days a week\n",
    "People who live somewhere with a population greater than the average respondent or People who live in a place with a population equal to or less than the average respondent"
   ]
  },
  {
   "cell_type": "code",
   "execution_count": 91,
   "metadata": {},
   "outputs": [],
   "source": [
    "df['younger44'] = np.where(df['age'] < 44, True, False)\n",
    "def get_TVnews(df):\n",
    "  if df['TVnews'] > 5:\n",
    "    return \">5\"\n",
    "  if df['TVnews'] < 3:\n",
    "    return \"<3\"\n",
    "  else:\n",
    "    return \"3-5\"\n",
    "df['TVnews_category'] = df.apply(get_TVnews, axis = 1)\n",
    "avg_population = df.popul.mean()\n",
    "df['popul_greater'] = np.where(df['popul'] > avg_population, True, False)"
   ]
  },
  {
   "cell_type": "code",
   "execution_count": 92,
   "metadata": {},
   "outputs": [],
   "source": [
    "def match_ups(Column, ConditionA, ConditionB):\n",
    "  all_A = df[(df[Column] == ConditionA)]\n",
    "  clinton_A = all_A[(all_A['vote'] == 0)]\n",
    "  percent_A = (len(clinton_A) / len(all_A)) * 100\n",
    "\n",
    "  all_B = df[(df[Column] == ConditionB)]\n",
    "  clinton_B = all_B[(all_B['vote'] == 0)]\n",
    "  percent_B = (len(clinton_B) / len(all_B)) * 100\n",
    "\n",
    "  print(f\"{ConditionA} = {percent_A:.2f}%\")\n",
    "  print(f\"{ConditionB} = {percent_B:.2f}%\")\n",
    "  print(f\"Difference ({ConditionA} minus {ConditionB}) = {percent_A - percent_B:.2f} percent points.\")"
   ]
  },
  {
   "cell_type": "code",
   "execution_count": 93,
   "metadata": {},
   "outputs": [
    {
     "name": "stdout",
     "output_type": "stream",
     "text": [
      "Democrats vs Republicans\n",
      "Democrat = 96.32%\n",
      "Republican = 10.46%\n",
      "Difference (Democrat minus Republican) = 85.85 percent points.\n",
      "\n",
      "Younger than 44 (True) vs 44 and Older (False)\n",
      "True = 59.48%\n",
      "False = 57.29%\n",
      "Difference (True minus False) = 2.19 percent points.\n",
      "\n",
      "Watch TV news 6+ days a week (>5) vs Watch TV news less than 3 days a week (<3)\n",
      ">5 = 57.81%\n",
      "<3 = 55.50%\n",
      "Difference (>5 minus <3) = 2.32 percent points.\n",
      "\n",
      "Live somewhere more populous than the average respondent (True) vs Live somewhere less populous (False\n",
      "True = 72.34%\n",
      "False = 55.92%\n",
      "Difference (True minus False) = 16.43 percent points.\n"
     ]
    }
   ],
   "source": [
    "print(\"Democrats vs Republicans\")\n",
    "match_ups(\"party\", \"Democrat\", \"Republican\")\n",
    "\n",
    "print(\"\\nYounger than 44 (True) vs 44 and Older (False)\")\n",
    "match_ups(\"younger44\", True, False)\n",
    "\n",
    "print(\"\\nWatch TV news 6+ days a week (>5) vs Watch TV news less than 3 days a week (<3)\")\n",
    "match_ups(\"TVnews_category\", \">5\", \"<3\")\n",
    "\n",
    "print(\"\\nLive somewhere more populous than the average respondent (True) vs Live somewhere less populous (False\")\n",
    "match_ups(\"popul_greater\", True, False)"
   ]
  },
  {
   "cell_type": "markdown",
   "metadata": {},
   "source": [
    "5. Grouping Data Exercise\n",
    "Use the groupby() method to bucket respondents by age_group. Which age group is the most conservative? Which watches TV news the least?\n",
    "\n",
    "Next, calculate 5 percentile groups based on income. Group the dataset by these percentiles. Which income bracket is the most liberal? Which is the most conservative? The oldest? Highest educated?"
   ]
  },
  {
   "cell_type": "code",
   "execution_count": 99,
   "metadata": {},
   "outputs": [
    {
     "name": "stdout",
     "output_type": "stream",
     "text": [
      "age_group\n",
      "18-24          4.000000\n",
      "25-34          4.217391\n",
      "35-44          4.257143\n",
      "45-54          4.285714\n",
      "55-64          4.532258\n",
      "65 and over    4.529412\n",
      "Name: selfLR, dtype: float64\n",
      "age_group\n",
      "18-24          2.358491\n",
      "25-34          2.570652\n",
      "35-44          3.118367\n",
      "45-54          3.916667\n",
      "55-64          4.516129\n",
      "65 and over    5.523529\n",
      "Name: TVnews, dtype: float64\n"
     ]
    }
   ],
   "source": [
    "avg_by_age=df.groupby(['age_group'])\n",
    "print(avg_by_age['selfLR'].mean())\n",
    "print(avg_by_age['TVnews'].mean())\n"
   ]
  },
  {
   "cell_type": "code",
   "execution_count": 105,
   "metadata": {},
   "outputs": [
    {
     "data": {
      "text/plain": [
       "income_quant\n",
       "Q1    4.282297\n",
       "Q2    4.295567\n",
       "Q3    4.099379\n",
       "Q4    4.497537\n",
       "Q5    4.422619\n",
       "Name: selfLR, dtype: float64"
      ]
     },
     "execution_count": 105,
     "metadata": {},
     "output_type": "execute_result"
    }
   ],
   "source": [
    "income_quants = list(df['income'].quantile(q=[0.2, 0.4, 0.6, 0.8, 1]))\n",
    "def get_income_quant(df):\n",
    "  if df['income'] <= income_quants[0]:\n",
    "    return \"Q1\"\n",
    "  elif df['income'] <= income_quants[1]:\n",
    "    return \"Q2\"\n",
    "  elif df['income'] <= income_quants[2]:\n",
    "    return \"Q3\"\n",
    "  elif df[\"income\"] <= income_quants[3]:\n",
    "    return \"Q4\"\n",
    "  else:\n",
    "    return \"Q5\"\n",
    "df['income_quant'] = df.apply(get_income_quant, axis=1)\n",
    "\n",
    "avg_by_income=df.groupby(['income_quant'])\n",
    "avg_by_income['selfLR'].mean()\n"
   ]
  },
  {
   "cell_type": "code",
   "execution_count": 108,
   "metadata": {},
   "outputs": [
    {
     "data": {
      "text/plain": [
       "income_quant\n",
       "Q1    3.722488\n",
       "Q2    4.246305\n",
       "Q3    4.571429\n",
       "Q4    4.862069\n",
       "Q5    5.636905\n",
       "Name: education, dtype: float64"
      ]
     },
     "execution_count": 108,
     "metadata": {},
     "output_type": "execute_result"
    }
   ],
   "source": [
    "avg_by_income['education'].mean()\n"
   ]
  },
  {
   "cell_type": "code",
   "execution_count": 109,
   "metadata": {},
   "outputs": [
    {
     "data": {
      "text/plain": [
       "income_quant\n",
       "Q1    50.009569\n",
       "Q2    48.266010\n",
       "Q3    45.583851\n",
       "Q4    45.128079\n",
       "Q5    45.589286\n",
       "Name: age, dtype: float64"
      ]
     },
     "execution_count": 109,
     "metadata": {},
     "output_type": "execute_result"
    }
   ],
   "source": [
    "avg_by_income['age'].mean()"
   ]
  },
  {
   "cell_type": "markdown",
   "metadata": {},
   "source": [
    "6. Voting Across the Aisle\n",
    "We are interested in learning more about respondents who's political views differ strongly from the candidate they expect to vote for. Using selfLR, vote, ClinLR, and DoleLR, work through the following questions. Your interpretation may differ from the answer key.\n",
    "\n",
    "What is the largest recorded difference between a respondent's political leaning and their impression of their intended candidate's political leaning?\n",
    "How many respondents exhibit a difference of that magnitude?\n",
    "Make a separate DataFrame called sway that only includes voters who exhibit a difference greater than |3|.\n",
    "Among those in sway, are respondents more likely to be voting for a candidate more conservative or more liberal than their own political leaning?\n",
    "In sway, which candidate is the more popular choice?"
   ]
  },
  {
   "cell_type": "code",
   "execution_count": 110,
   "metadata": {},
   "outputs": [
    {
     "data": {
      "text/html": [
       "<div>\n",
       "<style scoped>\n",
       "    .dataframe tbody tr th:only-of-type {\n",
       "        vertical-align: middle;\n",
       "    }\n",
       "\n",
       "    .dataframe tbody tr th {\n",
       "        vertical-align: top;\n",
       "    }\n",
       "\n",
       "    .dataframe thead th {\n",
       "        text-align: right;\n",
       "    }\n",
       "</style>\n",
       "<table border=\"1\" class=\"dataframe\">\n",
       "  <thead>\n",
       "    <tr style=\"text-align: right;\">\n",
       "      <th></th>\n",
       "      <th>popul</th>\n",
       "      <th>TVnews</th>\n",
       "      <th>selfLR</th>\n",
       "      <th>ClinLR</th>\n",
       "      <th>DoleLR</th>\n",
       "      <th>PID</th>\n",
       "      <th>age</th>\n",
       "      <th>education</th>\n",
       "      <th>income</th>\n",
       "      <th>vote</th>\n",
       "      <th>logpopul</th>\n",
       "      <th>party</th>\n",
       "      <th>age_group</th>\n",
       "      <th>younger44</th>\n",
       "      <th>TVnews_category</th>\n",
       "      <th>popul_greater</th>\n",
       "      <th>income_quant</th>\n",
       "      <th>sway_diff</th>\n",
       "    </tr>\n",
       "  </thead>\n",
       "  <tbody>\n",
       "    <tr>\n",
       "      <th>166</th>\n",
       "      <td>2.0</td>\n",
       "      <td>7.0</td>\n",
       "      <td>7.0</td>\n",
       "      <td>1.0</td>\n",
       "      <td>2.0</td>\n",
       "      <td>0.0</td>\n",
       "      <td>62.0</td>\n",
       "      <td>2.0</td>\n",
       "      <td>11.0</td>\n",
       "      <td>0.0</td>\n",
       "      <td>0.741937</td>\n",
       "      <td>Democrat</td>\n",
       "      <td>55-64</td>\n",
       "      <td>False</td>\n",
       "      <td>&gt;5</td>\n",
       "      <td>False</td>\n",
       "      <td>Q1</td>\n",
       "      <td>6.0</td>\n",
       "    </tr>\n",
       "    <tr>\n",
       "      <th>638</th>\n",
       "      <td>9.0</td>\n",
       "      <td>3.0</td>\n",
       "      <td>7.0</td>\n",
       "      <td>2.0</td>\n",
       "      <td>5.0</td>\n",
       "      <td>4.0</td>\n",
       "      <td>46.0</td>\n",
       "      <td>3.0</td>\n",
       "      <td>20.0</td>\n",
       "      <td>0.0</td>\n",
       "      <td>2.208274</td>\n",
       "      <td>Independent</td>\n",
       "      <td>45-54</td>\n",
       "      <td>False</td>\n",
       "      <td>3-5</td>\n",
       "      <td>False</td>\n",
       "      <td>Q4</td>\n",
       "      <td>5.0</td>\n",
       "    </tr>\n",
       "    <tr>\n",
       "      <th>77</th>\n",
       "      <td>32.0</td>\n",
       "      <td>5.0</td>\n",
       "      <td>3.0</td>\n",
       "      <td>7.0</td>\n",
       "      <td>4.0</td>\n",
       "      <td>1.0</td>\n",
       "      <td>65.0</td>\n",
       "      <td>1.0</td>\n",
       "      <td>5.0</td>\n",
       "      <td>0.0</td>\n",
       "      <td>3.468856</td>\n",
       "      <td>Democrat</td>\n",
       "      <td>65 and over</td>\n",
       "      <td>False</td>\n",
       "      <td>3-5</td>\n",
       "      <td>False</td>\n",
       "      <td>Q1</td>\n",
       "      <td>-4.0</td>\n",
       "    </tr>\n",
       "    <tr>\n",
       "      <th>147</th>\n",
       "      <td>720.0</td>\n",
       "      <td>5.0</td>\n",
       "      <td>1.0</td>\n",
       "      <td>5.0</td>\n",
       "      <td>6.0</td>\n",
       "      <td>1.0</td>\n",
       "      <td>64.0</td>\n",
       "      <td>6.0</td>\n",
       "      <td>10.0</td>\n",
       "      <td>0.0</td>\n",
       "      <td>6.579390</td>\n",
       "      <td>Democrat</td>\n",
       "      <td>55-64</td>\n",
       "      <td>False</td>\n",
       "      <td>3-5</td>\n",
       "      <td>True</td>\n",
       "      <td>Q1</td>\n",
       "      <td>-4.0</td>\n",
       "    </tr>\n",
       "    <tr>\n",
       "      <th>920</th>\n",
       "      <td>3500.0</td>\n",
       "      <td>7.0</td>\n",
       "      <td>7.0</td>\n",
       "      <td>3.0</td>\n",
       "      <td>5.0</td>\n",
       "      <td>4.0</td>\n",
       "      <td>34.0</td>\n",
       "      <td>7.0</td>\n",
       "      <td>24.0</td>\n",
       "      <td>0.0</td>\n",
       "      <td>8.160547</td>\n",
       "      <td>Independent</td>\n",
       "      <td>25-34</td>\n",
       "      <td>True</td>\n",
       "      <td>&gt;5</td>\n",
       "      <td>True</td>\n",
       "      <td>Q5</td>\n",
       "      <td>4.0</td>\n",
       "    </tr>\n",
       "    <tr>\n",
       "      <th>...</th>\n",
       "      <td>...</td>\n",
       "      <td>...</td>\n",
       "      <td>...</td>\n",
       "      <td>...</td>\n",
       "      <td>...</td>\n",
       "      <td>...</td>\n",
       "      <td>...</td>\n",
       "      <td>...</td>\n",
       "      <td>...</td>\n",
       "      <td>...</td>\n",
       "      <td>...</td>\n",
       "      <td>...</td>\n",
       "      <td>...</td>\n",
       "      <td>...</td>\n",
       "      <td>...</td>\n",
       "      <td>...</td>\n",
       "      <td>...</td>\n",
       "      <td>...</td>\n",
       "    </tr>\n",
       "    <tr>\n",
       "      <th>647</th>\n",
       "      <td>290.0</td>\n",
       "      <td>6.0</td>\n",
       "      <td>5.0</td>\n",
       "      <td>1.0</td>\n",
       "      <td>5.0</td>\n",
       "      <td>5.0</td>\n",
       "      <td>49.0</td>\n",
       "      <td>6.0</td>\n",
       "      <td>20.0</td>\n",
       "      <td>1.0</td>\n",
       "      <td>5.670226</td>\n",
       "      <td>Republican</td>\n",
       "      <td>45-54</td>\n",
       "      <td>False</td>\n",
       "      <td>&gt;5</td>\n",
       "      <td>False</td>\n",
       "      <td>Q4</td>\n",
       "      <td>0.0</td>\n",
       "    </tr>\n",
       "    <tr>\n",
       "      <th>258</th>\n",
       "      <td>31.0</td>\n",
       "      <td>4.0</td>\n",
       "      <td>6.0</td>\n",
       "      <td>2.0</td>\n",
       "      <td>6.0</td>\n",
       "      <td>4.0</td>\n",
       "      <td>66.0</td>\n",
       "      <td>4.0</td>\n",
       "      <td>14.0</td>\n",
       "      <td>1.0</td>\n",
       "      <td>3.437208</td>\n",
       "      <td>Independent</td>\n",
       "      <td>65 and over</td>\n",
       "      <td>False</td>\n",
       "      <td>3-5</td>\n",
       "      <td>False</td>\n",
       "      <td>Q2</td>\n",
       "      <td>0.0</td>\n",
       "    </tr>\n",
       "    <tr>\n",
       "      <th>644</th>\n",
       "      <td>310.0</td>\n",
       "      <td>7.0</td>\n",
       "      <td>5.0</td>\n",
       "      <td>2.0</td>\n",
       "      <td>5.0</td>\n",
       "      <td>1.0</td>\n",
       "      <td>56.0</td>\n",
       "      <td>6.0</td>\n",
       "      <td>20.0</td>\n",
       "      <td>1.0</td>\n",
       "      <td>5.736895</td>\n",
       "      <td>Democrat</td>\n",
       "      <td>55-64</td>\n",
       "      <td>False</td>\n",
       "      <td>&gt;5</td>\n",
       "      <td>True</td>\n",
       "      <td>Q4</td>\n",
       "      <td>0.0</td>\n",
       "    </tr>\n",
       "    <tr>\n",
       "      <th>643</th>\n",
       "      <td>33.0</td>\n",
       "      <td>7.0</td>\n",
       "      <td>4.0</td>\n",
       "      <td>3.0</td>\n",
       "      <td>4.0</td>\n",
       "      <td>2.0</td>\n",
       "      <td>40.0</td>\n",
       "      <td>6.0</td>\n",
       "      <td>20.0</td>\n",
       "      <td>1.0</td>\n",
       "      <td>3.499533</td>\n",
       "      <td>Independent</td>\n",
       "      <td>35-44</td>\n",
       "      <td>True</td>\n",
       "      <td>&gt;5</td>\n",
       "      <td>False</td>\n",
       "      <td>Q4</td>\n",
       "      <td>0.0</td>\n",
       "    </tr>\n",
       "    <tr>\n",
       "      <th>689</th>\n",
       "      <td>9.0</td>\n",
       "      <td>2.0</td>\n",
       "      <td>6.0</td>\n",
       "      <td>1.0</td>\n",
       "      <td>6.0</td>\n",
       "      <td>6.0</td>\n",
       "      <td>35.0</td>\n",
       "      <td>7.0</td>\n",
       "      <td>21.0</td>\n",
       "      <td>1.0</td>\n",
       "      <td>2.208274</td>\n",
       "      <td>Republican</td>\n",
       "      <td>35-44</td>\n",
       "      <td>True</td>\n",
       "      <td>&lt;3</td>\n",
       "      <td>False</td>\n",
       "      <td>Q4</td>\n",
       "      <td>0.0</td>\n",
       "    </tr>\n",
       "  </tbody>\n",
       "</table>\n",
       "<p>944 rows × 18 columns</p>\n",
       "</div>"
      ],
      "text/plain": [
       "      popul  TVnews  selfLR  ClinLR  DoleLR  PID   age  education  income  \\\n",
       "166     2.0     7.0     7.0     1.0     2.0  0.0  62.0        2.0    11.0   \n",
       "638     9.0     3.0     7.0     2.0     5.0  4.0  46.0        3.0    20.0   \n",
       "77     32.0     5.0     3.0     7.0     4.0  1.0  65.0        1.0     5.0   \n",
       "147   720.0     5.0     1.0     5.0     6.0  1.0  64.0        6.0    10.0   \n",
       "920  3500.0     7.0     7.0     3.0     5.0  4.0  34.0        7.0    24.0   \n",
       "..      ...     ...     ...     ...     ...  ...   ...        ...     ...   \n",
       "647   290.0     6.0     5.0     1.0     5.0  5.0  49.0        6.0    20.0   \n",
       "258    31.0     4.0     6.0     2.0     6.0  4.0  66.0        4.0    14.0   \n",
       "644   310.0     7.0     5.0     2.0     5.0  1.0  56.0        6.0    20.0   \n",
       "643    33.0     7.0     4.0     3.0     4.0  2.0  40.0        6.0    20.0   \n",
       "689     9.0     2.0     6.0     1.0     6.0  6.0  35.0        7.0    21.0   \n",
       "\n",
       "     vote  logpopul        party    age_group  younger44 TVnews_category  \\\n",
       "166   0.0  0.741937     Democrat        55-64      False              >5   \n",
       "638   0.0  2.208274  Independent        45-54      False             3-5   \n",
       "77    0.0  3.468856     Democrat  65 and over      False             3-5   \n",
       "147   0.0  6.579390     Democrat        55-64      False             3-5   \n",
       "920   0.0  8.160547  Independent        25-34       True              >5   \n",
       "..    ...       ...          ...          ...        ...             ...   \n",
       "647   1.0  5.670226   Republican        45-54      False              >5   \n",
       "258   1.0  3.437208  Independent  65 and over      False             3-5   \n",
       "644   1.0  5.736895     Democrat        55-64      False              >5   \n",
       "643   1.0  3.499533  Independent        35-44       True              >5   \n",
       "689   1.0  2.208274   Republican        35-44       True              <3   \n",
       "\n",
       "     popul_greater income_quant  sway_diff  \n",
       "166          False           Q1        6.0  \n",
       "638          False           Q4        5.0  \n",
       "77           False           Q1       -4.0  \n",
       "147           True           Q1       -4.0  \n",
       "920           True           Q5        4.0  \n",
       "..             ...          ...        ...  \n",
       "647          False           Q4        0.0  \n",
       "258          False           Q2        0.0  \n",
       "644           True           Q4        0.0  \n",
       "643          False           Q4        0.0  \n",
       "689          False           Q4        0.0  \n",
       "\n",
       "[944 rows x 18 columns]"
      ]
     },
     "execution_count": 110,
     "metadata": {},
     "output_type": "execute_result"
    }
   ],
   "source": [
    "\n",
    "def make_sway(df):\n",
    "  if df['vote'] == 0:\n",
    "    return df['selfLR'] - df['ClinLR']\n",
    "  else:\n",
    "    return df['selfLR'] - df['DoleLR']\n",
    "df['sway_diff'] = df.apply(make_sway, axis=1)\n",
    "df.sort_values(by='sway_diff', ascending=False, key=abs)\n"
   ]
  },
  {
   "cell_type": "code",
   "execution_count": 111,
   "metadata": {},
   "outputs": [
    {
     "name": "stdout",
     "output_type": "stream",
     "text": [
      "             popul     TVnews     selfLR     ClinLR     DoleLR        PID  \\\n",
      "count    56.000000  56.000000  56.000000  56.000000  56.000000  56.000000   \n",
      "mean    396.178571   3.553571   4.660714   3.089286   4.642857   2.160714   \n",
      "std    1131.227895   2.916534   1.528835   1.831808   1.823369   2.016088   \n",
      "min       0.000000   0.000000   1.000000   1.000000   1.000000   0.000000   \n",
      "25%       1.750000   0.000000   4.000000   2.000000   4.000000   0.000000   \n",
      "50%      47.500000   3.500000   5.000000   2.000000   5.000000   2.000000   \n",
      "75%     217.500000   7.000000   6.000000   4.000000   6.000000   4.000000   \n",
      "max    7300.000000   7.000000   7.000000   7.000000   7.000000   6.000000   \n",
      "\n",
      "             age  education     income       vote   logpopul  sway_diff  \n",
      "count  56.000000  56.000000  56.000000  56.000000  56.000000  56.000000  \n",
      "mean   45.964286   4.071429  15.000000   0.142857   3.037540   1.392857  \n",
      "std    16.590210   1.704082   5.746145   0.353094   3.332730   2.933683  \n",
      "min    20.000000   1.000000   2.000000   0.000000  -2.302585  -4.000000  \n",
      "25%    33.750000   3.000000  11.000000   0.000000   0.580281  -3.000000  \n",
      "50%    42.000000   4.000000  15.000000   0.000000   3.861452   3.000000  \n",
      "75%    56.250000   6.000000  20.000000   0.000000   5.373811   3.000000  \n",
      "max    79.000000   7.000000  24.000000   1.000000   8.895643   6.000000  \n",
      "\n",
      "Among the people with the largest `sway_diff`:\n",
      "40 respondents perceive their candidate as more conservative than them.\n",
      "16 respondents perceive their candidate as more liberal than them.\n",
      "48 respondents are voting for Clinton.\n",
      "8 respondents are voting for Dole.\n"
     ]
    }
   ],
   "source": [
    "sway = df[df['sway_diff'].abs() >= 3]\n",
    "print(sway.describe())\n",
    "print(\"\\nAmong the people with the largest `sway_diff`:\")\n",
    "print(f\"{len(sway[sway['sway_diff'] > 0])} respondents perceive their candidate as more conservative than them.\")\n",
    "print(f\"{len(sway[sway['sway_diff'] < 0])} respondents perceive their candidate as more liberal than them.\")\n",
    "print(f\"{len(sway[sway['vote'] == 0])} respondents are voting for Clinton.\")\n",
    "print(f\"{len(sway[sway['vote'] == 1])} respondents are voting for Dole.\")"
   ]
  },
  {
   "cell_type": "code",
   "execution_count": null,
   "metadata": {},
   "outputs": [],
   "source": []
  }
 ],
 "metadata": {
  "kernelspec": {
   "display_name": "Python 3 (ipykernel)",
   "language": "python",
   "name": "python3"
  },
  "language_info": {
   "codemirror_mode": {
    "name": "ipython",
    "version": 3
   },
   "file_extension": ".py",
   "mimetype": "text/x-python",
   "name": "python",
   "nbconvert_exporter": "python",
   "pygments_lexer": "ipython3",
   "version": "3.11.5"
  },
  "orig_nbformat": 4
 },
 "nbformat": 4,
 "nbformat_minor": 2
}
