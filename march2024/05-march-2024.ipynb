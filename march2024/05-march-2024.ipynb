{
 "cells": [
  {
   "cell_type": "code",
   "execution_count": null,
   "metadata": {},
   "outputs": [],
   "source": []
  },
  {
   "cell_type": "markdown",
   "metadata": {},
   "source": [
    "1.You are given the following :\n",
    "\n",
    "A positive number N\n",
    "Heights : A list of heights of N persons standing in a queue\n",
    "Infronts : A list of numbers corresponding to each person (P) that gives the number of persons who are taller than P and standing in front of P\n",
    "You need to return  list of actual order of persons’s height\n",
    "\n",
    "Consider that heights will be unique\n",
    "\n",
    "Example\n",
    "\n",
    "Input : \n",
    "Heights: 5 3 2 6 1 4\n",
    "InFronts: 0 1 2 0 3 2\n",
    "Output : \n",
    "actual order is: 5 3 2 1 6 4 \n",
    "So, you can see that for the person with height 5, there is no one taller than him who is in front of him, and hence Infronts has 0 for him.\n",
    "\n",
    "For person with height 3, there is 1 person ( Height : 5 ) in front of him who is taller than him.\n",
    "\n",
    "You can do similar inference for other people in the list.\n"
   ]
  },
  {
   "cell_type": "code",
   "execution_count": 50,
   "metadata": {},
   "outputs": [
    {
     "name": "stdout",
     "output_type": "stream",
     "text": [
      "[(6, 0), (5, 0), (4, 2), (3, 1), (2, 2), (1, 3)]\n",
      "actual order : [5, 3, 2, 1, 6, 4]\n"
     ]
    }
   ],
   "source": [
    "def order(A, B):\n",
    "    arr = []\n",
    "#keep parallely together with the help in zip in arr[] then arrange in deceding order\n",
    "    for x, y in zip(A, B):\n",
    "        arr.append((x, y))\n",
    "    arr.sort()\n",
    "    arr.reverse()\n",
    "    print(arr)\n",
    "    # now after arranging in decending order we will arrange it according to index\n",
    "    ans = []\n",
    "    for i in arr:\n",
    "        ans.insert(i[1], i[0])\n",
    "    print(\"actual order :\", ans)\n",
    "    # return ans\n",
    "\n",
    "A = list(map(int, input(\"Enter heights separated by space: \").split()))\n",
    "B = list(map(int, input(\"Enter infronts separated by space: \").split()))\n",
    "order(A, B)\n"
   ]
  },
  {
   "cell_type": "markdown",
   "metadata": {},
   "source": [
    "2.Find shortest unique prefix to represent each word in the list.\n",
    "\n",
    "Example:\n",
    "\n",
    "Input: [zebra, dog, duck, dove]\n",
    "Output: {z, dog, du, dov}\n",
    "where we can see that\n",
    "zebra = z\n",
    "dog = dog\n",
    "duck = du\n",
    "dove = dov\n",
    "NOTE : Assume that no word is prefix of another. In other words, the representation is always possible.\n"
   ]
  },
  {
   "cell_type": "code",
   "execution_count": 57,
   "metadata": {},
   "outputs": [
    {
     "name": "stdout",
     "output_type": "stream",
     "text": [
      "['z', 'dog', 'du', 'dov']\n"
     ]
    }
   ],
   "source": [
    "\n",
    "word = list(map(str, input(\"Enter words separated by space: \").split()))\n",
    "n = len(word)\n",
    "ans = [\"\"] * n\n",
    "# HashMap to store index of original words\n",
    "mp = {}\n",
    "for i in range(n):\n",
    "    mp[word[i]] = i\n",
    "# Sort the words\n",
    "word.sort()\n",
    "#print(s)\n",
    "#print(mp)\n",
    "# Traverse each word\n",
    "for i in range(n):\n",
    "    # It will store the smallest index till which prefixes of s[i] and s[i-1] became different\n",
    "    pos1 = 0\n",
    "    while i - 1 >= 0 and pos1 < len(word[i]) and pos1 < len(word[i - 1]):\n",
    "        # If we found a mismatching character then we break the loop\n",
    "        if word[i][pos1] != word[i - 1][pos1]:\n",
    "            break\n",
    "        else:\n",
    "            pos1 += 1\n",
    "\n",
    "    # It will store the smallest index till which prefixes of s[i] and s[i+1] became different\n",
    "    pos2 = 0\n",
    "    while i + 1 < n and pos2 < len(word[i]) and pos2 < len(word[i + 1]):\n",
    "        # If we found a mismatching character then we break the loop\n",
    "        if word[i][pos2] != word[i + 1][pos2]:\n",
    "            break\n",
    "        else:\n",
    "            pos2 += 1\n",
    "\n",
    "    # Final length of prefix must be maximum of both positions\n",
    "    length = min(len(word[i]), max(pos1, pos2) + 1)\n",
    "\n",
    "    # Get the correct index from HashMap\n",
    "    idx = mp[word[i]]\n",
    "\n",
    "    # Store answer at correct index\n",
    "    ans[idx] = word[i][0: length]\n",
    "\n",
    "print(ans)\n"
   ]
  },
  {
   "cell_type": "markdown",
   "metadata": {},
   "source": [
    "3.Given a 2 x N grid of integer, A, choose numbers such that the sum of the numbers\n",
    "\n",
    "is maximum and no two chosen numbers are adjacent horizontally, vertically or diagonally, and return it.\n",
    "\n",
    "Note: You can choose more than 2 numbers.\n",
    "\n",
    "Input Format:\n",
    "\n",
    "The first and the only argument of input contains a 2d matrix, A.\n",
    "Output Format:\n",
    "\n",
    "Return an integer, representing the maximum possible sum.\n",
    "Constraints:\n",
    "\n",
    "1 <= N <= 20000\n",
    "1 <= A[i] <= 2000\n",
    "Example:\n",
    "\n",
    "Input 1:\n",
    "    A = [   [1]\n",
    "            [2]    ]\n",
    "\n",
    "Output 1:\n",
    "    2\n",
    "\n",
    "Explanation 1:\n",
    "    We will choose 2.\n",
    "\n",
    "Input 2:\n",
    "    A = [   [1, 2, 3, 4]\n",
    "            [2, 3, 4, 5]    ]\n",
    "    \n",
    "Output 2:\n",
    "    We will choose 3 and 5."
   ]
  },
  {
   "cell_type": "code",
   "execution_count": 81,
   "metadata": {},
   "outputs": [
    {
     "name": "stdout",
     "output_type": "stream",
     "text": [
      "8\n"
     ]
    }
   ],
   "source": [
    "rows = 2\n",
    "columns = int(input(\"Enter the number of columns: \"))\n",
    "A = []\n",
    "for i in range(rows):\n",
    "    row = list(map(int, input(f\"Enter the elements of row {i+1}: \").split()))\n",
    "    A.append(row)\n",
    "# Initializing m and n as 0\n",
    "m, n = 0, 0\n",
    "# iterate over  each pair of adjacent elements in the rows\n",
    "for a, b in zip(*A):\n",
    "    # Choose the max value between a and b\n",
    "    x = max(a, b)\n",
    "    # Update m and n\n",
    "    m, n = max(m, n), m + x\n",
    "print(max(m, n))\n"
   ]
  },
  {
   "cell_type": "code",
   "execution_count": null,
   "metadata": {},
   "outputs": [],
   "source": []
  },
  {
   "cell_type": "code",
   "execution_count": null,
   "metadata": {},
   "outputs": [],
   "source": []
  }
 ],
 "metadata": {
  "kernelspec": {
   "display_name": "Python 3",
   "language": "python",
   "name": "python3"
  },
  "language_info": {
   "codemirror_mode": {
    "name": "ipython",
    "version": 3
   },
   "file_extension": ".py",
   "mimetype": "text/x-python",
   "name": "python",
   "nbconvert_exporter": "python",
   "pygments_lexer": "ipython3",
   "version": "3.10.13"
  }
 },
 "nbformat": 4,
 "nbformat_minor": 2
}
