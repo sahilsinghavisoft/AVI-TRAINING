{
 "cells": [
  {
   "cell_type": "code",
   "execution_count": 12,
   "metadata": {},
   "outputs": [],
   "source": [
    "import csv\n",
    "\n",
    "def compare_files(file1, file2, output_file):\n",
    "    with open(file1, 'r') as f1, open(file2, 'r') as f2, open(output_file, 'w', newline='') as f3:\n",
    "        writer = csv.writer(f3)\n",
    "\n",
    "        reader1 = csv.reader(f1)\n",
    "        header1 = next(reader1, None)\n",
    "\n",
    "        reader2 = csv.reader(f2)\n",
    "        header2 = next(reader2, None)\n",
    "\n",
    "        if header1 != header2:\n",
    "            writer.writerow(header1)\n",
    "            writer.writerow(header2)\n",
    "        else:\n",
    "            writer.writerow(header1)\n",
    "\n",
    "        for row1, row2 in zip(reader1, reader2):\n",
    "            if row1 != row2:\n",
    "                writer.writerow(row2)\n",
    "\n",
    "file1 = 'original.csv'\n",
    "file2 = 'changed.csv'\n",
    "output_file = 'output.csv'\n",
    "\n",
    "compare_files(file1, file2, output_file)\n",
    "\n",
    "\n"
   ]
  },
  {
   "cell_type": "code",
   "execution_count": 11,
   "metadata": {},
   "outputs": [
    {
     "name": "stdout",
     "output_type": "stream",
     "text": [
      "Original CSV file \"original.csv\" has been generated.\n"
     ]
    }
   ],
   "source": [
    "import csv\n",
    "\n",
    "def compare_files(file1, file2, output_file):\n",
    "    # Open the input and output files\n",
    "    with open(file1, 'r') as f1, open(file2, 'r') as f2, open(output_file, 'w', newline='') as f3:\n",
    "        # Create a CSV writer object for the output file\n",
    "        writer = csv.writer(f3)\n",
    "\n",
    "        # Create CSV reader objects for the input files and get their headers\n",
    "        reader1 = csv.reader(f1)\n",
    "        header1 = next(reader1, None)\n",
    "\n",
    "        reader2 = csv.reader(f2)\n",
    "        header2 = next(reader2, None)\n",
    "\n",
    "        # Write the header row(s) to the output file\n",
    "        if header1 != header2:\n",
    "            writer.writerow(header1)\n",
    "            writer.writerow(header2)\n",
    "        else:\n",
    "            writer.writerow(header1)\n",
    "\n",
    "        # Compare corresponding rows from both files\n",
    "        for row1, row2 in zip(reader1, reader2):\n",
    "            # If the rows are different, write the row from the second file to the output file\n",
    "            if row1 != row2:\n",
    "                writer.writerow(row2)\n",
    "\n",
    "# File paths\n",
    "file1 = 'original.csv'\n",
    "file2 = 'changed.csv'\n",
    "output_file = 'output.csv'\n",
    "\n",
    "# Call the function to compare files and generate the output\n",
    "compare_files(file1, file2, output_file)\n"
   ]
  },
  {
   "cell_type": "code",
   "execution_count": null,
   "metadata": {},
   "outputs": [],
   "source": []
  }
 ],
 "metadata": {
  "kernelspec": {
   "display_name": "Python 3",
   "language": "python",
   "name": "python3"
  },
  "language_info": {
   "codemirror_mode": {
    "name": "ipython",
    "version": 3
   },
   "file_extension": ".py",
   "mimetype": "text/x-python",
   "name": "python",
   "nbconvert_exporter": "python",
   "pygments_lexer": "ipython3",
   "version": "3.10.13"
  }
 },
 "nbformat": 4,
 "nbformat_minor": 2
}
