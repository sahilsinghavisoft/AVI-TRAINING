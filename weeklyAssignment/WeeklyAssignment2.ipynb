{
 "cells": [
  {
   "cell_type": "code",
   "execution_count": null,
   "metadata": {},
   "outputs": [],
   "source": []
  },
  {
   "cell_type": "markdown",
   "metadata": {},
   "source": [
    "*Weekly Assignment: Quiz Game*\n",
    "\n",
    "Problem Statement:\n",
    "Create a simple command-line quiz game that reads questions from a file, allows users to answer them, and provides a score at the end. The questions and answers should be stored in a text file.\n",
    "\n",
    "Question Class:\n",
    "\n",
    "Create a Question class with attributes like question_text and correct_answer. Include methods to initialize the question and check if a provided answer is correct.\n",
    "\n",
    "File Handling:\n",
    "\n",
    "Use a text file (quiz_questions.txt) to store questions and answers. Each line in the file represents a question with the format: <question_text>|<correct_answer>.\n",
    "\n",
    "Read Questions:\n",
    "\n",
    "Implement a function to read questions from the file and create instances of the Question class for each question.\n",
    "\n",
    "Quiz Game Loop:\n",
    "\n",
    "Create a loop that presents each question to the user, allows them to input their answer, checks if it's correct, and keeps track of their score.\n",
    "\n",
    "Score Calculation:\n",
    "\n",
    "Calculate and display the user's score at the end of the quiz.\n",
    "\n",
    "Error Handling:\n",
    "\n",
    "Implement error handling to handle cases where the file is not found or if there is an issue reading its content.\n",
    "\n",
    "Negative Marking:\n",
    "\n",
    "If there are 3 wrong answers in the quiz, 1 mark will be deducted.\n",
    "There will be no negative marking for one-word answers."
   ]
  }
 ],
 "metadata": {
  "language_info": {
   "name": "python"
  },
  "orig_nbformat": 4
 },
 "nbformat": 4,
 "nbformat_minor": 2
}
