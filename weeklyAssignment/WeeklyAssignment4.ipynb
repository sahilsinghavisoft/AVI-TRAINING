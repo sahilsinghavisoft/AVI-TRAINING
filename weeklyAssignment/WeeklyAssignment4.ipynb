{
 "cells": [
  {
   "cell_type": "code",
   "execution_count": 41,
   "metadata": {},
   "outputs": [
    {
     "data": {
      "text/plain": [
       "'files are not equal'"
      ]
     },
     "execution_count": 41,
     "metadata": {},
     "output_type": "execute_result"
    }
   ],
   "source": [
    "import csv # import the csv module to read and write CSV files\n",
    "import time # import the time module to generate a unique name for the output file\n",
    "def compare_files(file1, file2, output_file=None): # define a function to compare two CSV files\n",
    "    with open(file1, 'r') as f1, open(file2, 'r') as f2: # open both files in read mode\n",
    "        reader1 = csv.reader(f1) # create a CSV reader object for the first file\n",
    "        reader2 = csv.reader(f2) # create a CSV reader object for the second file\n",
    "        row_num = 1 # initialize a variable to keep track of the current row number\n",
    "        differences_found = False # Initialize a variable to keep track of whether any differences have been found \n",
    "        for row1, row2 in zip(reader1, reader2): # Iterate through both files row by row\n",
    "            for col_num, col_val in enumerate(zip(row1, row2)): # Compare each column value in the current row\n",
    "                if col_val[0] != col_val[1]: # If the column values are not equal\n",
    "                    differences_found = True # Set the differences_found variable to True\n",
    "                    if not output_file: # If an output file name has not been provided\n",
    "                        output_file = f'result_{time.strftime(\"%d-%B-%Y_%H-%M-%S\")}.csv' # Generate a unique name for the output file\n",
    "                        with open(output_file, 'w', newline='') as f3: # Open the output file in write mode\n",
    "                            writer = csv.writer(f3) # Create a CSV writer object for the output file\n",
    "                            writer.writerow([\"position\", \"actualdata\", \"expecteddata\"]) # Write the header row for the output file\n",
    "                            writer.writerow([f\"row({row_num})column({col_num+1})\", col_val[1], col_val[0]]) # write the current difference to the output file\n",
    "                    else: # If an output file name has been provided\n",
    "                        with open(output_file, 'w', newline='') as f3: # open the output file in write mode\n",
    "                            writer = csv.writer(f3) # create a CSV writer object for the output file\n",
    "                            writer.writerow([\"position\", \"actualdata\", \"expecteddata\"]) # write the header row for the output file\n",
    "                            writer.writerow([f\"row({row_num})column({col_num+1})\", col_val[1], col_val[0]]) # write the current difference to the output file\n",
    "            row_num += 1 # move to the next row\n",
    "        if not differences_found: # if no differences were foun\n",
    "            return 'files are equal' # return the message \"files are equal\"\n",
    "    return 'files are not equal' # if an error occurred, 'files are not equal'\n",
    "# file paths\n",
    "file1 = 'original.csv'\n",
    "file2 = 'changed.csv'\n",
    "# call the function to compare files and generate the output if differences are found\n",
    "compare_files(file1, file2)"
   ]
  },
  {
   "cell_type": "markdown",
   "metadata": {},
   "source": [
    "TEXT file\n"
   ]
  },
  {
   "cell_type": "code",
   "execution_count": 37,
   "metadata": {},
   "outputs": [
    {
     "name": "stdout",
     "output_type": "stream",
     "text": [
      "files are not equal\n"
     ]
    }
   ],
   "source": [
    "import time\n",
    "def compare_files(file1, file2, output_file=None):\n",
    "    # Open the two input files\n",
    "    with open(file1, 'r') as f1, open(file2, 'r') as f2:\n",
    "        # Read lines from both files and split by period and space to get sentences\n",
    "        reader1 = f1.read().split('. ')\n",
    "        reader2 = f2.read().split('. ')\n",
    "        # Initialize a flag to track differences\n",
    "        differences_found = False\n",
    "        # Compare each pair of sentences\n",
    "        for i, (sentence1, sentence2) in enumerate(zip(reader1[1:], reader2[1:]), start=1):\n",
    "            # Split sentences into words\n",
    "            words1 = sentence1.strip().split()\n",
    "            words2 = sentence2.strip().split()\n",
    "            # Check if the words in the sentences are different\n",
    "            if words1 != words2:\n",
    "                differences_found = True\n",
    "                # Create or append to the output file\n",
    "                if not output_file:\n",
    "                    output_file = f'result_{time.strftime(\"%d-%B-%Y_%H-%M-%S\")}.csv'\n",
    "                    with open(output_file, 'w') as f3:\n",
    "                        f3.write(\"position,originalfile,expectedfile\\n\")\n",
    "                        # Write differing words to the output file\n",
    "                        for j, (word1, word2) in enumerate(zip(words1, words2), start=1):\n",
    "                            if word1 != word2:\n",
    "                                f3.write(f\"sentence({i}) word({j}),{word1.strip()},{word2.strip()}\\n\")\n",
    "                else:\n",
    "                    with open(output_file, 'a') as f3:\n",
    "                        # Append differing words to the output file\n",
    "                        for j, (word1, word2) in enumerate(zip(words1, words2), start=1):\n",
    "                            if word1 != word2:\n",
    "                                f3.write(f\"sentence({i}) word({j}),{word1.strip()},{word2.strip()}\\n\")\n",
    "        # Return appropriate message based on differences\n",
    "        if not differences_found:\n",
    "            return 'files are equal'\n",
    "        return 'files are not equal'\n",
    "# Input file paths\n",
    "file1 = 'original.txt'\n",
    "file2 = 'change.txt'\n",
    "# Call the function and print the result\n",
    "result = compare_files(file1, file2)\n",
    "print(result)\n"
   ]
  },
  {
   "cell_type": "code",
   "execution_count": null,
   "metadata": {},
   "outputs": [],
   "source": []
  }
 ],
 "metadata": {
  "kernelspec": {
   "display_name": "Python 3",
   "language": "python",
   "name": "python3"
  },
  "language_info": {
   "codemirror_mode": {
    "name": "ipython",
    "version": 3
   },
   "file_extension": ".py",
   "mimetype": "text/x-python",
   "name": "python",
   "nbconvert_exporter": "python",
   "pygments_lexer": "ipython3",
   "version": "3.10.13"
  }
 },
 "nbformat": 4,
 "nbformat_minor": 2
}
