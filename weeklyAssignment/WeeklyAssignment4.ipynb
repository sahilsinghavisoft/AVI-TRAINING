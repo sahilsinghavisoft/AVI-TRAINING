{
 "cells": [
  {
   "cell_type": "code",
   "execution_count": 1,
   "metadata": {},
   "outputs": [
    {
     "data": {
      "text/plain": [
       "'files are not equal'"
      ]
     },
     "execution_count": 1,
     "metadata": {},
     "output_type": "execute_result"
    }
   ],
   "source": [
    "import csv \n",
    "import time # import the time module to generate a unique name for the output file\n",
    "def compare_files(file1, file2, output_file=None): \n",
    "    with open(file1, 'r') as f1, open(file2, 'r') as f2: # open both files in read mode\n",
    "        reader1 = csv.reader(f1) # create a CSV reader object for the first file\n",
    "        reader2 = csv.reader(f2) # create a CSV reader object for the second file\n",
    "        row_num = 1 # initialize a variable to keep track of the current row number\n",
    "        differences_found = False # initialize a variable to keep track of whether any differences have been found \n",
    "        for row1, row2 in zip(reader1, reader2): # iterate through both files row by row\n",
    "            for col_num, col_val in enumerate(zip(row1, row2)): # compare each column value in the current row\n",
    "                if col_val[0] != col_val[1]: # if the column values are not equal\n",
    "                    differences_found = True # set the differences_found variable to True\n",
    "                    if not output_file: # if an output file name has not been provided\n",
    "                        output_file = f'result_{time.strftime(\"%d-%B-%Y_%H-%M-%S\")}.csv' # generate a unique name for the output file\n",
    "                        with open(output_file, 'w', newline='') as f3: # open the output file in write mode\n",
    "                            writer = csv.writer(f3) # create a CSV writer object for the output file\n",
    "                            writer.writerow([\"position\", \"actualdata\", \"expecteddata\"]) # write the header row for the output file\n",
    "                            writer.writerow([f\"row({row_num})column({col_num+1})\", col_val[1], col_val[0]]) # write the current difference to the output file\n",
    "                    else: # if an output file name has been provided\n",
    "                        with open(output_file, 'w', newline='') as f3: # open the output file in write mode\n",
    "                            writer = csv.writer(f3) # create a CSV writer object for the output file\n",
    "                            writer.writerow([\"position\", \"actualdata\", \"expecteddata\"]) # write the header row for the output file\n",
    "                            writer.writerow([f\"row({row_num})column({col_num+1})\", col_val[1], col_val[0]]) # write the current difference to the output file\n",
    "            row_num += 1 # move to the next row\n",
    "        if not differences_found: # if no differences were found\n",
    "            return 'files are equal' # return the message \"files are equal\"\n",
    "    return 'files are not equal' \n",
    "file1 = 'original.csv'\n",
    "file2 = 'changed.csv'\n",
    "compare_files(file1, file2)"
   ]
  },
  {
   "cell_type": "markdown",
   "metadata": {},
   "source": [
    "TEXT file\n"
   ]
  },
  {
   "cell_type": "code",
   "execution_count": 7,
   "metadata": {},
   "outputs": [
    {
     "name": "stdout",
     "output_type": "stream",
     "text": [
      "Files are not equal\n"
     ]
    }
   ],
   "source": [
    "import time\n",
    "\n",
    "def compare_files(file1, file2, output_file=None):\n",
    "    # open the two input files\n",
    "    with open(file1, 'r') as f1, open(file2, 'r') as f2:\n",
    "        # read lines from both files and split by full stop and space to get sentences\n",
    "        reader1 = f1.read().split('. ')\n",
    "        reader2 = f2.read().split('. ')\n",
    "        # initialize a flag to track the differences\n",
    "        differences_found = False\n",
    "        # compare each pair of sentences\n",
    "        for i, (sentence1, sentence2) in enumerate(zip(reader1[1:], reader2[1:]), start=1):\n",
    "            # split sentences into words\n",
    "            words1 = sentence1.strip().split()\n",
    "            words2 = sentence2.strip().split()\n",
    "            # check if the words in the sentences are different\n",
    "            if words1 != words2:\n",
    "                differences_found = True\n",
    "                # create or append to the output file\n",
    "                if not output_file:\n",
    "                    output_file = f'result_{time.strftime(\"%d-%B-%Y_%H-%M-%S\")}.txt'\n",
    "                    with open(output_file, 'w') as f3:\n",
    "                        # Write not same words to the output file\n",
    "                        for j, (word1, word2) in enumerate(zip(words1, words2), start=1):\n",
    "                            if word1 != word2:\n",
    "                                f3.write(f\"sentence({i}) word({j}): ACTUALDATA: { word1.strip()} EXPECTEDDATA: { word2.strip()}\\n\")\n",
    "                else:\n",
    "                    with open(output_file, 'a') as f3:\n",
    "                        # append different data to the output file\n",
    "                        for j, (word1, word2) in enumerate(zip(words1, words2), start=1):\n",
    "                            if word1 != word2:\n",
    "                                f3.write(f\"sentence({i}) word({j}): {word1.strip()} vs {word2.strip()}\\n\")\n",
    "        # here I will return the statements based on the conditions of difference found or not in both the text files.\n",
    "        if not differences_found:\n",
    "            return 'Files are equal'\n",
    "        return 'Files are not equal'\n",
    "\n",
    "file1 = 'original.txt'\n",
    "file2 = 'change.txt'\n",
    "result = compare_files(file1, file2)\n",
    "print(result)\n"
   ]
  },
  {
   "cell_type": "code",
   "execution_count": null,
   "metadata": {},
   "outputs": [],
   "source": []
  }
 ],
 "metadata": {
  "kernelspec": {
   "display_name": "Python 3",
   "language": "python",
   "name": "python3"
  },
  "language_info": {
   "codemirror_mode": {
    "name": "ipython",
    "version": 3
   },
   "file_extension": ".py",
   "mimetype": "text/x-python",
   "name": "python",
   "nbconvert_exporter": "python",
   "pygments_lexer": "ipython3",
   "version": "3.10.13"
  }
 },
 "nbformat": 4,
 "nbformat_minor": 2
}
