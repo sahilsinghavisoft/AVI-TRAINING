{
 "cells": [
  {
   "cell_type": "code",
   "execution_count": null,
   "metadata": {},
   "outputs": [],
   "source": []
  },
  {
   "cell_type": "markdown",
   "metadata": {},
   "source": [
    "Tic Tac Toe Game in Python\n",
    "\n",
    "Create a Python program to implement a two-player Tic Tac Toe game. The game should be played in the console, and the players will take turns to make their moves.\n",
    "\n",
    "Requirements:\n",
    "\n",
    "Player Names:\n",
    "Allow players to enter their names at the beginning of the game instead of using generic 'Player 1' and 'Player 2'. Display the players' names throughout the game.\n",
    "\n",
    "Board Size Selection:\n",
    "Allow users to choose the size of the game board odd(e.g., 7x7, 5x5) instead of the standard 3x3. Make sure to adapt the win condition check accordingly.\n",
    "\n",
    "Dynamic Symbols:\n",
    "Let players choose their own symbols or even use non-traditional symbols. For example, they could play with letters, or any other characters.\n",
    "\n",
    "Game Statistics:\n",
    "Keep track of statistics such as the number of games played, wins for each player, and draws. Display these statistics at the end of each game or in a separate menu.\n",
    "\n",
    "The game should check for valid moves and display an error message if a player attempts to make an invalid move (e.g., choosing a cell that is already occupied).\n",
    "The game should check for a win condition after each move to determine if a player has won.\n",
    "If the board is filled with no winner, the game should declare a draw.\n",
    "After each game, ask players if they want to play again.\n"
   ]
  },
  {
   "cell_type": "code",
   "execution_count": null,
   "metadata": {},
   "outputs": [],
   "source": []
  }
 ],
 "metadata": {
  "language_info": {
   "name": "python"
  },
  "orig_nbformat": 4
 },
 "nbformat": 4,
 "nbformat_minor": 2
}
